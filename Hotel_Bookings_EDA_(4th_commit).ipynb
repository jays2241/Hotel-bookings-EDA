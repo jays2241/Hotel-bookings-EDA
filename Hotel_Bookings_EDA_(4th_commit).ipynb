{
  "nbformat": 4,
  "nbformat_minor": 0,
  "metadata": {
    "colab": {
      "provenance": [],
      "collapsed_sections": [
        "mDgbUHAGgjLW",
        "Y3lxredqlCYt",
        "3RnN4peoiCZX",
        "x71ZqKXriCWQ",
        "7hBIi_osiCS2",
        "JlHwYmJAmNHm",
        "H0kj-8xxnORC",
        "nA9Y7ga8ng1Z"
      ],
      "include_colab_link": true
    },
    "kernelspec": {
      "name": "python3",
      "display_name": "Python 3"
    },
    "language_info": {
      "name": "python"
    },
    "gpuClass": "standard"
  },
  "cells": [
    {
      "cell_type": "markdown",
      "metadata": {
        "id": "view-in-github",
        "colab_type": "text"
      },
      "source": [
        "<a href=\"https://colab.research.google.com/github/jays2241/Hotel-bookings-EDA/blob/main/Hotel_Bookings_EDA_(4th_commit).ipynb\" target=\"_parent\"><img src=\"https://colab.research.google.com/assets/colab-badge.svg\" alt=\"Open In Colab\"/></a>"
      ]
    },
    {
      "cell_type": "markdown",
      "source": [
        "# **Project Name**    - Hotel booking Analysis EDA\n",
        "\n"
      ],
      "metadata": {
        "id": "vncDsAP0Gaoa"
      }
    },
    {
      "cell_type": "markdown",
      "source": [
        "##### **Project Type**    - EDA\n",
        "##### **Contribution**    - Individual\n",
        "##### **Name -** Jay Sawant\n"
      ],
      "metadata": {
        "id": "beRrZCGUAJYm"
      }
    },
    {
      "cell_type": "markdown",
      "source": [
        "# **Project Summary -**"
      ],
      "metadata": {
        "id": "FJNUwmbgGyua"
      }
    },
    {
      "cell_type": "markdown",
      "source": [
        "\n",
        "**Introduction:**\n",
        "\n",
        "The hotel industry has high very competition. So Hotels and resorts are always searching for new ways to attract the customers attention towards them. One of the most important aspects of this industry is managing bookings and reservations. Hotel owner need to be able to predict customer behavior, determine when to offer promotions and discounts, and optimize pricing strategies. This is where exploratory data analysis (EDA) can play an important role in understanding the factors that affect hotel bookings.\n",
        "\n",
        "**Objective:**\n",
        "\n",
        "The objective of this project is to analyze a hotel booking dataset provided by Almabetter and identify factors that affect hotel bookings. The dataset contains information on booking details for a city hotel and a resort hotel. \n",
        "\n",
        "The project aims to answer several questions, such as:\n",
        "\n",
        "- When is the best time of year to book a hotel room?\n",
        "\n",
        "- What is the length of stay required to get the best daily rate?\n",
        "\n",
        "- How does lead time affect bookings?\n",
        "\n",
        "- Which type of hotel has high demand?\n",
        "\n",
        "- What is the best time to offer discounts?\n",
        "\n",
        "- How do the pricing trends vary for different months and hotel types?\n",
        "\n",
        "- Which booking channels and customer types are most popular for different types of hotels?\n",
        "\n",
        "- etc.\n",
        "\n",
        "**Data Source:**\n",
        "\n",
        "The dataset used in this project is a hotel_booking.csv. This dataset contains booking information for two types of hotels. The city hotel and resort hotel. The dataset has 119,390 rows and 32 columns. The data set has several columns from which the columns named 'agent','company' and 'children' have null values. There are some duplicate rows which needs to be removed.\n",
        "\n",
        "**Data Cleaning:**\n",
        "\n",
        "The first step in the project is to clean the dataset. This involves handling missing data, removing duplicate records, and correcting data types. I performed several data cleaning steps that are listed below:\n",
        "\n",
        "- Removing duplicate records: There were some duplicate records were removed by code: \"df.drop_duplicates(inplace = True)\". This ensure that each row represented a unique booking.\n",
        "\n",
        "- Handling missing data: There were some missing values in 'agent','company' and 'children' column. The missing values from 'agent' and 'company' was replaced by 0 and the missing values from 'children' was replaced by the mean value.\n",
        "\n",
        "- Correcting data types: Some columns in the dataset had incorrect data types. These were corrected using appropriate data types.'children', 'company', 'agent' columns were classified as float which was typecasted into int type. The 'reservation_status_date' column was typecasted into date format. \n",
        "\n",
        "**Exploratory Data Analysis:**\n",
        "\n",
        "The next step in the project was to perform exploratory data analysis (EDA) on the cleaned dataset. The EDA process involved analyzing the data to identify patterns, trends, and relationships.\n",
        "\n",
        " Some of the insights found from the EDA process include:\n",
        "\n",
        "- The majority of bookings were made between May and August, and the peak booking month was August.\n",
        "- Most bookings were made for one or two nights.\n",
        "- Approximately one-third of all bookings were canceled, with resort hotel bookings having a higher cancellation rate than city hotel bookings.\n",
        "- The most common room type was \"A\".\n",
        "- The average daily rate for the resort hotel was higher than that of the city hotel. \n",
        "- Both hotels had a higher average daily rate in the summer months.\n",
        "- The average daily rate decreased with increase of lead time.\n",
        "- The number of repeated guests were very less.\n",
        "\n",
        " **Conclusion:**\n",
        "\n",
        "The EDA process identified severalfactors that affect hotel bookings. It suggests that the best time to book a hotel room is during the summer months, and that the optimal length of stay is one or two nights. Most of the guests are new and non repeated.\n",
        "\n",
        "The insights from this project can be used by hotel owners to improve the booking process and optimize pricing strategies. For example, hotels can offer special promotions and discounts during the period of November and January."
      ],
      "metadata": {
        "id": "F6v_1wHtG2nS"
      }
    },
    {
      "cell_type": "markdown",
      "source": [
        "# **GitHub Link -**"
      ],
      "metadata": {
        "id": "w6K7xa23Elo4"
      }
    },
    {
      "cell_type": "markdown",
      "source": [
        "\n",
        "https://github.com/jays2241/Hotel-bookings-EDA"
      ],
      "metadata": {
        "id": "h1o69JH3Eqqn"
      }
    },
    {
      "cell_type": "markdown",
      "source": [
        "# **Problem Statement**\n"
      ],
      "metadata": {
        "id": "yQaldy8SH6Dl"
      }
    },
    {
      "cell_type": "markdown",
      "source": [
        "To analyse and gain insights from hotel bookings dataset, and to identify patterns and trends in the data. The main goal of this EDA project is to give useful insights to hotel managers and owners that can help them to optimize their pricing and marketing strategies, and to increase the customer count. The project answers some questions such as:\n",
        "\n",
        "- What are the booking trends for different types of hotels?\n",
        "- How do the pricing trends vary for different months and hotel types?\n",
        "- Which booking channels and customer types are most popular for different types of hotels?\n",
        "- What are the most popular room types for different types of hotels?\n",
        "- How far in advance do customers typically book their stays?\n",
        "\n",
        "By answering these questions, the project helps hotels to make decisions and improve their hotel profit."
      ],
      "metadata": {
        "id": "DpeJGUA3kjGy"
      }
    },
    {
      "cell_type": "markdown",
      "source": [
        "#### **Define Your Business Objective?**"
      ],
      "metadata": {
        "id": "PH-0ReGfmX4f"
      }
    },
    {
      "cell_type": "markdown",
      "source": [
        "Identify key factors that influence hotel bookings in order to improve the performance and profitability of hotels."
      ],
      "metadata": {
        "id": "PhDvGCAqmjP1"
      }
    },
    {
      "cell_type": "markdown",
      "source": [
        "# **General Guidelines** : -  "
      ],
      "metadata": {
        "id": "mDgbUHAGgjLW"
      }
    },
    {
      "cell_type": "markdown",
      "source": [
        "1.   Well-structured, formatted, and commented code is required. \n",
        "2.   Exception Handling, Production Grade Code & Deployment Ready Code will be a plus. Those students will be awarded some additional credits. \n",
        "     \n",
        "     The additional credits will have advantages over other students during Star Student selection.\n",
        "       \n",
        "             [ Note: - Deployment Ready Code is defined as, the whole .ipynb notebook should be executable in one go\n",
        "                       without a single error logged. ]\n",
        "\n",
        "3.   Each and every logic should have proper comments.\n",
        "4. You may add as many number of charts you want. Make Sure for each and every chart the following format should be answered.\n",
        "        \n",
        "\n",
        "```\n",
        "# Chart visualization code\n",
        "```\n",
        "            \n",
        "\n",
        "*   Why did you pick the specific chart?\n",
        "*   What is/are the insight(s) found from the chart?\n",
        "* Will the gained insights help creating a positive business impact? \n",
        "Are there any insights that lead to negative growth? Justify with specific reason.\n",
        "\n",
        "5. You have to create at least 20 logical & meaningful charts having important insights.\n",
        "\n",
        "\n",
        "[ Hints : - Do the Vizualization in  a structured way while following \"UBM\" Rule. \n",
        "\n",
        "U - Univariate Analysis,\n",
        "\n",
        "B - Bivariate Analysis (Numerical - Categorical, Numerical - Numerical, Categorical - Categorical)\n",
        "\n",
        "M - Multivariate Analysis\n",
        " ]\n",
        "\n",
        "\n",
        "\n"
      ],
      "metadata": {
        "id": "ZrxVaUj-hHfC"
      }
    },
    {
      "cell_type": "markdown",
      "source": [
        "# ***Let's Begin !***"
      ],
      "metadata": {
        "id": "O_i_v8NEhb9l"
      }
    },
    {
      "cell_type": "markdown",
      "source": [
        "## ***1. Know Your Data***"
      ],
      "metadata": {
        "id": "HhfV-JJviCcP"
      }
    },
    {
      "cell_type": "markdown",
      "source": [
        "### Import Libraries"
      ],
      "metadata": {
        "id": "Y3lxredqlCYt"
      }
    },
    {
      "cell_type": "code",
      "source": [
        "# Import Libraries\n",
        "import numpy as np\n",
        "import pandas as pd\n",
        "from matplotlib import pyplot as plt\n",
        "import seaborn as sns\n",
        "import missingno as msno\n",
        "\n",
        "# Mount drive\n",
        "from google.colab import drive\n",
        "drive.mount('/content/drive')"
      ],
      "metadata": {
        "id": "M8Vqi-pPk-HR",
        "colab": {
          "base_uri": "https://localhost:8080/"
        },
        "outputId": "40951beb-cba7-49dd-8bd4-ac5a49abb4fc"
      },
      "execution_count": 2,
      "outputs": [
        {
          "output_type": "stream",
          "name": "stdout",
          "text": [
            "Mounted at /content/drive\n"
          ]
        }
      ]
    },
    {
      "cell_type": "markdown",
      "source": [
        "### Dataset Loading"
      ],
      "metadata": {
        "id": "3RnN4peoiCZX"
      }
    },
    {
      "cell_type": "code",
      "source": [
        "# Load Dataset\n",
        "df = pd.read_csv('/content/drive/MyDrive/Almabetter/Hotel booking/Hotel Bookings.csv')"
      ],
      "metadata": {
        "id": "4CkvbW_SlZ_R"
      },
      "execution_count": 3,
      "outputs": []
    },
    {
      "cell_type": "markdown",
      "source": [
        "### Dataset First View"
      ],
      "metadata": {
        "id": "x71ZqKXriCWQ"
      }
    },
    {
      "cell_type": "code",
      "source": [
        "# Dataset First Look\n",
        "df.head()"
      ],
      "metadata": {
        "id": "LWNFOSvLl09H",
        "colab": {
          "base_uri": "https://localhost:8080/",
          "height": 386
        },
        "outputId": "3d84e6da-f53f-4d6a-8958-61a24d0671d4"
      },
      "execution_count": 4,
      "outputs": [
        {
          "output_type": "execute_result",
          "data": {
            "text/plain": [
              "          hotel  is_canceled  lead_time  arrival_date_year arrival_date_month  \\\n",
              "0  Resort Hotel            0        342               2015               July   \n",
              "1  Resort Hotel            0        737               2015               July   \n",
              "2  Resort Hotel            0          7               2015               July   \n",
              "3  Resort Hotel            0         13               2015               July   \n",
              "4  Resort Hotel            0         14               2015               July   \n",
              "\n",
              "   arrival_date_week_number  arrival_date_day_of_month  \\\n",
              "0                        27                          1   \n",
              "1                        27                          1   \n",
              "2                        27                          1   \n",
              "3                        27                          1   \n",
              "4                        27                          1   \n",
              "\n",
              "   stays_in_weekend_nights  stays_in_week_nights  adults  ...  deposit_type  \\\n",
              "0                        0                     0       2  ...    No Deposit   \n",
              "1                        0                     0       2  ...    No Deposit   \n",
              "2                        0                     1       1  ...    No Deposit   \n",
              "3                        0                     1       1  ...    No Deposit   \n",
              "4                        0                     2       2  ...    No Deposit   \n",
              "\n",
              "   agent company days_in_waiting_list customer_type   adr  \\\n",
              "0    NaN     NaN                    0     Transient   0.0   \n",
              "1    NaN     NaN                    0     Transient   0.0   \n",
              "2    NaN     NaN                    0     Transient  75.0   \n",
              "3  304.0     NaN                    0     Transient  75.0   \n",
              "4  240.0     NaN                    0     Transient  98.0   \n",
              "\n",
              "   required_car_parking_spaces  total_of_special_requests  reservation_status  \\\n",
              "0                            0                          0           Check-Out   \n",
              "1                            0                          0           Check-Out   \n",
              "2                            0                          0           Check-Out   \n",
              "3                            0                          0           Check-Out   \n",
              "4                            0                          1           Check-Out   \n",
              "\n",
              "  reservation_status_date  \n",
              "0              2015-07-01  \n",
              "1              2015-07-01  \n",
              "2              2015-07-02  \n",
              "3              2015-07-02  \n",
              "4              2015-07-03  \n",
              "\n",
              "[5 rows x 32 columns]"
            ],
            "text/html": [
              "\n",
              "  <div id=\"df-3e4b5971-6187-4ad2-8c02-b9288511c89b\">\n",
              "    <div class=\"colab-df-container\">\n",
              "      <div>\n",
              "<style scoped>\n",
              "    .dataframe tbody tr th:only-of-type {\n",
              "        vertical-align: middle;\n",
              "    }\n",
              "\n",
              "    .dataframe tbody tr th {\n",
              "        vertical-align: top;\n",
              "    }\n",
              "\n",
              "    .dataframe thead th {\n",
              "        text-align: right;\n",
              "    }\n",
              "</style>\n",
              "<table border=\"1\" class=\"dataframe\">\n",
              "  <thead>\n",
              "    <tr style=\"text-align: right;\">\n",
              "      <th></th>\n",
              "      <th>hotel</th>\n",
              "      <th>is_canceled</th>\n",
              "      <th>lead_time</th>\n",
              "      <th>arrival_date_year</th>\n",
              "      <th>arrival_date_month</th>\n",
              "      <th>arrival_date_week_number</th>\n",
              "      <th>arrival_date_day_of_month</th>\n",
              "      <th>stays_in_weekend_nights</th>\n",
              "      <th>stays_in_week_nights</th>\n",
              "      <th>adults</th>\n",
              "      <th>...</th>\n",
              "      <th>deposit_type</th>\n",
              "      <th>agent</th>\n",
              "      <th>company</th>\n",
              "      <th>days_in_waiting_list</th>\n",
              "      <th>customer_type</th>\n",
              "      <th>adr</th>\n",
              "      <th>required_car_parking_spaces</th>\n",
              "      <th>total_of_special_requests</th>\n",
              "      <th>reservation_status</th>\n",
              "      <th>reservation_status_date</th>\n",
              "    </tr>\n",
              "  </thead>\n",
              "  <tbody>\n",
              "    <tr>\n",
              "      <th>0</th>\n",
              "      <td>Resort Hotel</td>\n",
              "      <td>0</td>\n",
              "      <td>342</td>\n",
              "      <td>2015</td>\n",
              "      <td>July</td>\n",
              "      <td>27</td>\n",
              "      <td>1</td>\n",
              "      <td>0</td>\n",
              "      <td>0</td>\n",
              "      <td>2</td>\n",
              "      <td>...</td>\n",
              "      <td>No Deposit</td>\n",
              "      <td>NaN</td>\n",
              "      <td>NaN</td>\n",
              "      <td>0</td>\n",
              "      <td>Transient</td>\n",
              "      <td>0.0</td>\n",
              "      <td>0</td>\n",
              "      <td>0</td>\n",
              "      <td>Check-Out</td>\n",
              "      <td>2015-07-01</td>\n",
              "    </tr>\n",
              "    <tr>\n",
              "      <th>1</th>\n",
              "      <td>Resort Hotel</td>\n",
              "      <td>0</td>\n",
              "      <td>737</td>\n",
              "      <td>2015</td>\n",
              "      <td>July</td>\n",
              "      <td>27</td>\n",
              "      <td>1</td>\n",
              "      <td>0</td>\n",
              "      <td>0</td>\n",
              "      <td>2</td>\n",
              "      <td>...</td>\n",
              "      <td>No Deposit</td>\n",
              "      <td>NaN</td>\n",
              "      <td>NaN</td>\n",
              "      <td>0</td>\n",
              "      <td>Transient</td>\n",
              "      <td>0.0</td>\n",
              "      <td>0</td>\n",
              "      <td>0</td>\n",
              "      <td>Check-Out</td>\n",
              "      <td>2015-07-01</td>\n",
              "    </tr>\n",
              "    <tr>\n",
              "      <th>2</th>\n",
              "      <td>Resort Hotel</td>\n",
              "      <td>0</td>\n",
              "      <td>7</td>\n",
              "      <td>2015</td>\n",
              "      <td>July</td>\n",
              "      <td>27</td>\n",
              "      <td>1</td>\n",
              "      <td>0</td>\n",
              "      <td>1</td>\n",
              "      <td>1</td>\n",
              "      <td>...</td>\n",
              "      <td>No Deposit</td>\n",
              "      <td>NaN</td>\n",
              "      <td>NaN</td>\n",
              "      <td>0</td>\n",
              "      <td>Transient</td>\n",
              "      <td>75.0</td>\n",
              "      <td>0</td>\n",
              "      <td>0</td>\n",
              "      <td>Check-Out</td>\n",
              "      <td>2015-07-02</td>\n",
              "    </tr>\n",
              "    <tr>\n",
              "      <th>3</th>\n",
              "      <td>Resort Hotel</td>\n",
              "      <td>0</td>\n",
              "      <td>13</td>\n",
              "      <td>2015</td>\n",
              "      <td>July</td>\n",
              "      <td>27</td>\n",
              "      <td>1</td>\n",
              "      <td>0</td>\n",
              "      <td>1</td>\n",
              "      <td>1</td>\n",
              "      <td>...</td>\n",
              "      <td>No Deposit</td>\n",
              "      <td>304.0</td>\n",
              "      <td>NaN</td>\n",
              "      <td>0</td>\n",
              "      <td>Transient</td>\n",
              "      <td>75.0</td>\n",
              "      <td>0</td>\n",
              "      <td>0</td>\n",
              "      <td>Check-Out</td>\n",
              "      <td>2015-07-02</td>\n",
              "    </tr>\n",
              "    <tr>\n",
              "      <th>4</th>\n",
              "      <td>Resort Hotel</td>\n",
              "      <td>0</td>\n",
              "      <td>14</td>\n",
              "      <td>2015</td>\n",
              "      <td>July</td>\n",
              "      <td>27</td>\n",
              "      <td>1</td>\n",
              "      <td>0</td>\n",
              "      <td>2</td>\n",
              "      <td>2</td>\n",
              "      <td>...</td>\n",
              "      <td>No Deposit</td>\n",
              "      <td>240.0</td>\n",
              "      <td>NaN</td>\n",
              "      <td>0</td>\n",
              "      <td>Transient</td>\n",
              "      <td>98.0</td>\n",
              "      <td>0</td>\n",
              "      <td>1</td>\n",
              "      <td>Check-Out</td>\n",
              "      <td>2015-07-03</td>\n",
              "    </tr>\n",
              "  </tbody>\n",
              "</table>\n",
              "<p>5 rows × 32 columns</p>\n",
              "</div>\n",
              "      <button class=\"colab-df-convert\" onclick=\"convertToInteractive('df-3e4b5971-6187-4ad2-8c02-b9288511c89b')\"\n",
              "              title=\"Convert this dataframe to an interactive table.\"\n",
              "              style=\"display:none;\">\n",
              "        \n",
              "  <svg xmlns=\"http://www.w3.org/2000/svg\" height=\"24px\"viewBox=\"0 0 24 24\"\n",
              "       width=\"24px\">\n",
              "    <path d=\"M0 0h24v24H0V0z\" fill=\"none\"/>\n",
              "    <path d=\"M18.56 5.44l.94 2.06.94-2.06 2.06-.94-2.06-.94-.94-2.06-.94 2.06-2.06.94zm-11 1L8.5 8.5l.94-2.06 2.06-.94-2.06-.94L8.5 2.5l-.94 2.06-2.06.94zm10 10l.94 2.06.94-2.06 2.06-.94-2.06-.94-.94-2.06-.94 2.06-2.06.94z\"/><path d=\"M17.41 7.96l-1.37-1.37c-.4-.4-.92-.59-1.43-.59-.52 0-1.04.2-1.43.59L10.3 9.45l-7.72 7.72c-.78.78-.78 2.05 0 2.83L4 21.41c.39.39.9.59 1.41.59.51 0 1.02-.2 1.41-.59l7.78-7.78 2.81-2.81c.8-.78.8-2.07 0-2.86zM5.41 20L4 18.59l7.72-7.72 1.47 1.35L5.41 20z\"/>\n",
              "  </svg>\n",
              "      </button>\n",
              "      \n",
              "  <style>\n",
              "    .colab-df-container {\n",
              "      display:flex;\n",
              "      flex-wrap:wrap;\n",
              "      gap: 12px;\n",
              "    }\n",
              "\n",
              "    .colab-df-convert {\n",
              "      background-color: #E8F0FE;\n",
              "      border: none;\n",
              "      border-radius: 50%;\n",
              "      cursor: pointer;\n",
              "      display: none;\n",
              "      fill: #1967D2;\n",
              "      height: 32px;\n",
              "      padding: 0 0 0 0;\n",
              "      width: 32px;\n",
              "    }\n",
              "\n",
              "    .colab-df-convert:hover {\n",
              "      background-color: #E2EBFA;\n",
              "      box-shadow: 0px 1px 2px rgba(60, 64, 67, 0.3), 0px 1px 3px 1px rgba(60, 64, 67, 0.15);\n",
              "      fill: #174EA6;\n",
              "    }\n",
              "\n",
              "    [theme=dark] .colab-df-convert {\n",
              "      background-color: #3B4455;\n",
              "      fill: #D2E3FC;\n",
              "    }\n",
              "\n",
              "    [theme=dark] .colab-df-convert:hover {\n",
              "      background-color: #434B5C;\n",
              "      box-shadow: 0px 1px 3px 1px rgba(0, 0, 0, 0.15);\n",
              "      filter: drop-shadow(0px 1px 2px rgba(0, 0, 0, 0.3));\n",
              "      fill: #FFFFFF;\n",
              "    }\n",
              "  </style>\n",
              "\n",
              "      <script>\n",
              "        const buttonEl =\n",
              "          document.querySelector('#df-3e4b5971-6187-4ad2-8c02-b9288511c89b button.colab-df-convert');\n",
              "        buttonEl.style.display =\n",
              "          google.colab.kernel.accessAllowed ? 'block' : 'none';\n",
              "\n",
              "        async function convertToInteractive(key) {\n",
              "          const element = document.querySelector('#df-3e4b5971-6187-4ad2-8c02-b9288511c89b');\n",
              "          const dataTable =\n",
              "            await google.colab.kernel.invokeFunction('convertToInteractive',\n",
              "                                                     [key], {});\n",
              "          if (!dataTable) return;\n",
              "\n",
              "          const docLinkHtml = 'Like what you see? Visit the ' +\n",
              "            '<a target=\"_blank\" href=https://colab.research.google.com/notebooks/data_table.ipynb>data table notebook</a>'\n",
              "            + ' to learn more about interactive tables.';\n",
              "          element.innerHTML = '';\n",
              "          dataTable['output_type'] = 'display_data';\n",
              "          await google.colab.output.renderOutput(dataTable, element);\n",
              "          const docLink = document.createElement('div');\n",
              "          docLink.innerHTML = docLinkHtml;\n",
              "          element.appendChild(docLink);\n",
              "        }\n",
              "      </script>\n",
              "    </div>\n",
              "  </div>\n",
              "  "
            ]
          },
          "metadata": {},
          "execution_count": 4
        }
      ]
    },
    {
      "cell_type": "markdown",
      "source": [
        "### Dataset Rows & Columns count"
      ],
      "metadata": {
        "id": "7hBIi_osiCS2"
      }
    },
    {
      "cell_type": "code",
      "source": [
        "# Dataset Rows & Columns count\n",
        "df.shape"
      ],
      "metadata": {
        "id": "Kllu7SJgmLij",
        "colab": {
          "base_uri": "https://localhost:8080/"
        },
        "outputId": "df521c63-c4d3-41ff-edd7-054f77cc7b85"
      },
      "execution_count": 5,
      "outputs": [
        {
          "output_type": "execute_result",
          "data": {
            "text/plain": [
              "(119390, 32)"
            ]
          },
          "metadata": {},
          "execution_count": 5
        }
      ]
    },
    {
      "cell_type": "markdown",
      "source": [
        "### Dataset Information"
      ],
      "metadata": {
        "id": "JlHwYmJAmNHm"
      }
    },
    {
      "cell_type": "code",
      "source": [
        "# Dataset Info\n",
        "df.info()"
      ],
      "metadata": {
        "id": "e9hRXRi6meOf",
        "colab": {
          "base_uri": "https://localhost:8080/"
        },
        "outputId": "dfe5ae09-a8ee-473c-b75f-aed42f084b08"
      },
      "execution_count": 6,
      "outputs": [
        {
          "output_type": "stream",
          "name": "stdout",
          "text": [
            "<class 'pandas.core.frame.DataFrame'>\n",
            "RangeIndex: 119390 entries, 0 to 119389\n",
            "Data columns (total 32 columns):\n",
            " #   Column                          Non-Null Count   Dtype  \n",
            "---  ------                          --------------   -----  \n",
            " 0   hotel                           119390 non-null  object \n",
            " 1   is_canceled                     119390 non-null  int64  \n",
            " 2   lead_time                       119390 non-null  int64  \n",
            " 3   arrival_date_year               119390 non-null  int64  \n",
            " 4   arrival_date_month              119390 non-null  object \n",
            " 5   arrival_date_week_number        119390 non-null  int64  \n",
            " 6   arrival_date_day_of_month       119390 non-null  int64  \n",
            " 7   stays_in_weekend_nights         119390 non-null  int64  \n",
            " 8   stays_in_week_nights            119390 non-null  int64  \n",
            " 9   adults                          119390 non-null  int64  \n",
            " 10  children                        119386 non-null  float64\n",
            " 11  babies                          119390 non-null  int64  \n",
            " 12  meal                            119390 non-null  object \n",
            " 13  country                         118902 non-null  object \n",
            " 14  market_segment                  119390 non-null  object \n",
            " 15  distribution_channel            119390 non-null  object \n",
            " 16  is_repeated_guest               119390 non-null  int64  \n",
            " 17  previous_cancellations          119390 non-null  int64  \n",
            " 18  previous_bookings_not_canceled  119390 non-null  int64  \n",
            " 19  reserved_room_type              119390 non-null  object \n",
            " 20  assigned_room_type              119390 non-null  object \n",
            " 21  booking_changes                 119390 non-null  int64  \n",
            " 22  deposit_type                    119390 non-null  object \n",
            " 23  agent                           103050 non-null  float64\n",
            " 24  company                         6797 non-null    float64\n",
            " 25  days_in_waiting_list            119390 non-null  int64  \n",
            " 26  customer_type                   119390 non-null  object \n",
            " 27  adr                             119390 non-null  float64\n",
            " 28  required_car_parking_spaces     119390 non-null  int64  \n",
            " 29  total_of_special_requests       119390 non-null  int64  \n",
            " 30  reservation_status              119390 non-null  object \n",
            " 31  reservation_status_date         119390 non-null  object \n",
            "dtypes: float64(4), int64(16), object(12)\n",
            "memory usage: 29.1+ MB\n"
          ]
        }
      ]
    },
    {
      "cell_type": "markdown",
      "source": [
        "#### Duplicate Values"
      ],
      "metadata": {
        "id": "35m5QtbWiB9F"
      }
    },
    {
      "cell_type": "code",
      "source": [
        "df.duplicated().sum()"
      ],
      "metadata": {
        "id": "1sLdpKYkmox0",
        "colab": {
          "base_uri": "https://localhost:8080/"
        },
        "outputId": "0994d7bc-c547-47e5-d965-651b053889fd"
      },
      "execution_count": 7,
      "outputs": [
        {
          "output_type": "execute_result",
          "data": {
            "text/plain": [
              "31994"
            ]
          },
          "metadata": {},
          "execution_count": 7
        }
      ]
    },
    {
      "cell_type": "markdown",
      "source": [
        "#### Missing Values/Null Values"
      ],
      "metadata": {
        "id": "PoPl-ycgm1ru"
      }
    },
    {
      "cell_type": "code",
      "source": [
        "# Missing Values/Null Values Count\n",
        "df.isna().sum()"
      ],
      "metadata": {
        "id": "GgHWkxvamxVg",
        "colab": {
          "base_uri": "https://localhost:8080/"
        },
        "outputId": "1e261043-d9d8-4463-e18c-3b0be5aee57c"
      },
      "execution_count": 8,
      "outputs": [
        {
          "output_type": "execute_result",
          "data": {
            "text/plain": [
              "hotel                                  0\n",
              "is_canceled                            0\n",
              "lead_time                              0\n",
              "arrival_date_year                      0\n",
              "arrival_date_month                     0\n",
              "arrival_date_week_number               0\n",
              "arrival_date_day_of_month              0\n",
              "stays_in_weekend_nights                0\n",
              "stays_in_week_nights                   0\n",
              "adults                                 0\n",
              "children                               4\n",
              "babies                                 0\n",
              "meal                                   0\n",
              "country                              488\n",
              "market_segment                         0\n",
              "distribution_channel                   0\n",
              "is_repeated_guest                      0\n",
              "previous_cancellations                 0\n",
              "previous_bookings_not_canceled         0\n",
              "reserved_room_type                     0\n",
              "assigned_room_type                     0\n",
              "booking_changes                        0\n",
              "deposit_type                           0\n",
              "agent                              16340\n",
              "company                           112593\n",
              "days_in_waiting_list                   0\n",
              "customer_type                          0\n",
              "adr                                    0\n",
              "required_car_parking_spaces            0\n",
              "total_of_special_requests              0\n",
              "reservation_status                     0\n",
              "reservation_status_date                0\n",
              "dtype: int64"
            ]
          },
          "metadata": {},
          "execution_count": 8
        }
      ]
    },
    {
      "cell_type": "code",
      "source": [
        "# Dataset null values count\n",
        "df.isna().sum().sum()"
      ],
      "metadata": {
        "id": "3q5wnI3om9sJ",
        "colab": {
          "base_uri": "https://localhost:8080/"
        },
        "outputId": "93b0c13f-ead1-4ffa-af3b-475f3224d91f"
      },
      "execution_count": 9,
      "outputs": [
        {
          "output_type": "execute_result",
          "data": {
            "text/plain": [
              "129425"
            ]
          },
          "metadata": {},
          "execution_count": 9
        }
      ]
    },
    {
      "cell_type": "code",
      "source": [
        "# Visualizing the missing values\n",
        "plt.figure(figsize = (10,5))\n",
        "sns.heatmap(df.isna(),cmap='Reds',cbar = False)\n",
        "plt.show()"
      ],
      "metadata": {
        "id": "Q-LOq6a07SUC",
        "colab": {
          "base_uri": "https://localhost:8080/",
          "height": 478
        },
        "outputId": "e9240930-eac7-4150-de91-780b9deecc2f"
      },
      "execution_count": 10,
      "outputs": [
        {
          "output_type": "display_data",
          "data": {
            "text/plain": [
              "<Figure size 720x360 with 1 Axes>"
            ],
            "image/png": "[encoded data removed]"
          },
          "metadata": {
            "needs_background": "light"
          }
        }
      ]
    },
    {
      "cell_type": "markdown",
      "source": [
        "### What did you know about your dataset?"
      ],
      "metadata": {
        "id": "H0kj-8xxnORC"
      }
    },
    {
      "cell_type": "markdown",
      "source": [
        "- The dataset contains information on bookings for two types of hotels - a city hotel and a resort hotel.\n",
        "\n",
        "- It has information such as the booking date, length of stay, number of adults, children, babies, the number of available parking spaces, etc.\n",
        "\n",
        "- The dataset has a total of 119,390 records and 32 columns.\n",
        "\n",
        "- The dataset contains missing values, which are mainly in agent and company column."
      ],
      "metadata": {
        "id": "gfoNAAC-nUe_"
      }
    },
    {
      "cell_type": "markdown",
      "source": [
        "## ***2. Understanding Your Variables***"
      ],
      "metadata": {
        "id": "nA9Y7ga8ng1Z"
      }
    },
    {
      "cell_type": "code",
      "source": [
        "# Dataset Columns\n",
        "df.columns"
      ],
      "metadata": {
        "id": "j7xfkqrt5Ag5",
        "colab": {
          "base_uri": "https://localhost:8080/"
        },
        "outputId": "b375b3fa-0503-4468-ad80-42950068519b"
      },
      "execution_count": 11,
      "outputs": [
        {
          "output_type": "execute_result",
          "data": {
            "text/plain": [
              "Index(['hotel', 'is_canceled', 'lead_time', 'arrival_date_year',\n",
              "       'arrival_date_month', 'arrival_date_week_number',\n",
              "       'arrival_date_day_of_month', 'stays_in_weekend_nights',\n",
              "       'stays_in_week_nights', 'adults', 'children', 'babies', 'meal',\n",
              "       'country', 'market_segment', 'distribution_channel',\n",
              "       'is_repeated_guest', 'previous_cancellations',\n",
              "       'previous_bookings_not_canceled', 'reserved_room_type',\n",
              "       'assigned_room_type', 'booking_changes', 'deposit_type', 'agent',\n",
              "       'company', 'days_in_waiting_list', 'customer_type', 'adr',\n",
              "       'required_car_parking_spaces', 'total_of_special_requests',\n",
              "       'reservation_status', 'reservation_status_date'],\n",
              "      dtype='object')"
            ]
          },
          "metadata": {},
          "execution_count": 11
        }
      ]
    },
    {
      "cell_type": "code",
      "source": [
        "# Dataset Describe\n",
        "df.describe(include = 'all')"
      ],
      "metadata": {
        "id": "DnOaZdaE5Q5t",
        "colab": {
          "base_uri": "https://localhost:8080/",
          "height": 504
        },
        "outputId": "5bcd9265-b9c9-431d-a319-0e3cfe6959cb"
      },
      "execution_count": 12,
      "outputs": [
        {
          "output_type": "execute_result",
          "data": {
            "text/plain": [
              "             hotel    is_canceled      lead_time  arrival_date_year  \\\n",
              "count       119390  119390.000000  119390.000000      119390.000000   \n",
              "unique           2            NaN            NaN                NaN   \n",
              "top     City Hotel            NaN            NaN                NaN   \n",
              "freq         79330            NaN            NaN                NaN   \n",
              "mean           NaN       0.370416     104.011416        2016.156554   \n",
              "std            NaN       0.482918     106.863097           0.707476   \n",
              "min            NaN       0.000000       0.000000        2015.000000   \n",
              "25%            NaN       0.000000      18.000000        2016.000000   \n",
              "50%            NaN       0.000000      69.000000        2016.000000   \n",
              "75%            NaN       1.000000     160.000000        2017.000000   \n",
              "max            NaN       1.000000     737.000000        2017.000000   \n",
              "\n",
              "       arrival_date_month  arrival_date_week_number  \\\n",
              "count              119390             119390.000000   \n",
              "unique                 12                       NaN   \n",
              "top                August                       NaN   \n",
              "freq                13877                       NaN   \n",
              "mean                  NaN                 27.165173   \n",
              "std                   NaN                 13.605138   \n",
              "min                   NaN                  1.000000   \n",
              "25%                   NaN                 16.000000   \n",
              "50%                   NaN                 28.000000   \n",
              "75%                   NaN                 38.000000   \n",
              "max                   NaN                 53.000000   \n",
              "\n",
              "        arrival_date_day_of_month  stays_in_weekend_nights  \\\n",
              "count               119390.000000            119390.000000   \n",
              "unique                        NaN                      NaN   \n",
              "top                           NaN                      NaN   \n",
              "freq                          NaN                      NaN   \n",
              "mean                    15.798241                 0.927599   \n",
              "std                      8.780829                 0.998613   \n",
              "min                      1.000000                 0.000000   \n",
              "25%                      8.000000                 0.000000   \n",
              "50%                     16.000000                 1.000000   \n",
              "75%                     23.000000                 2.000000   \n",
              "max                     31.000000                19.000000   \n",
              "\n",
              "        stays_in_week_nights         adults  ...  deposit_type          agent  \\\n",
              "count          119390.000000  119390.000000  ...        119390  103050.000000   \n",
              "unique                   NaN            NaN  ...             3            NaN   \n",
              "top                      NaN            NaN  ...    No Deposit            NaN   \n",
              "freq                     NaN            NaN  ...        104641            NaN   \n",
              "mean                2.500302       1.856403  ...           NaN      86.693382   \n",
              "std                 1.908286       0.579261  ...           NaN     110.774548   \n",
              "min                 0.000000       0.000000  ...           NaN       1.000000   \n",
              "25%                 1.000000       2.000000  ...           NaN       9.000000   \n",
              "50%                 2.000000       2.000000  ...           NaN      14.000000   \n",
              "75%                 3.000000       2.000000  ...           NaN     229.000000   \n",
              "max                50.000000      55.000000  ...           NaN     535.000000   \n",
              "\n",
              "            company days_in_waiting_list customer_type            adr  \\\n",
              "count   6797.000000        119390.000000        119390  119390.000000   \n",
              "unique          NaN                  NaN             4            NaN   \n",
              "top             NaN                  NaN     Transient            NaN   \n",
              "freq            NaN                  NaN         89613            NaN   \n",
              "mean     189.266735             2.321149           NaN     101.831122   \n",
              "std      131.655015            17.594721           NaN      50.535790   \n",
              "min        6.000000             0.000000           NaN      -6.380000   \n",
              "25%       62.000000             0.000000           NaN      69.290000   \n",
              "50%      179.000000             0.000000           NaN      94.575000   \n",
              "75%      270.000000             0.000000           NaN     126.000000   \n",
              "max      543.000000           391.000000           NaN    5400.000000   \n",
              "\n",
              "        required_car_parking_spaces  total_of_special_requests  \\\n",
              "count                 119390.000000              119390.000000   \n",
              "unique                          NaN                        NaN   \n",
              "top                             NaN                        NaN   \n",
              "freq                            NaN                        NaN   \n",
              "mean                       0.062518                   0.571363   \n",
              "std                        0.245291                   0.792798   \n",
              "min                        0.000000                   0.000000   \n",
              "25%                        0.000000                   0.000000   \n",
              "50%                        0.000000                   0.000000   \n",
              "75%                        0.000000                   1.000000   \n",
              "max                        8.000000                   5.000000   \n",
              "\n",
              "        reservation_status reservation_status_date  \n",
              "count               119390                  119390  \n",
              "unique                   3                     926  \n",
              "top              Check-Out              2015-10-21  \n",
              "freq                 75166                    1461  \n",
              "mean                   NaN                     NaN  \n",
              "std                    NaN                     NaN  \n",
              "min                    NaN                     NaN  \n",
              "25%                    NaN                     NaN  \n",
              "50%                    NaN                     NaN  \n",
              "75%                    NaN                     NaN  \n",
              "max                    NaN                     NaN  \n",
              "\n",
              "[11 rows x 32 columns]"
            ],
            "text/html": [
              "\n",
              "  <div id=\"df-ec80d7d4-9913-4c80-b9bb-7ee4b54d198e\">\n",
              "    <div class=\"colab-df-container\">\n",
              "      <div>\n",
              "<style scoped>\n",
              "    .dataframe tbody tr th:only-of-type {\n",
              "        vertical-align: middle;\n",
              "    }\n",
              "\n",
              "    .dataframe tbody tr th {\n",
              "        vertical-align: top;\n",
              "    }\n",
              "\n",
              "    .dataframe thead th {\n",
              "        text-align: right;\n",
              "    }\n",
              "</style>\n",
              "<table border=\"1\" class=\"dataframe\">\n",
              "  <thead>\n",
              "    <tr style=\"text-align: right;\">\n",
              "      <th></th>\n",
              "      <th>hotel</th>\n",
              "      <th>is_canceled</th>\n",
              "      <th>lead_time</th>\n",
              "      <th>arrival_date_year</th>\n",
              "      <th>arrival_date_month</th>\n",
              "      <th>arrival_date_week_number</th>\n",
              "      <th>arrival_date_day_of_month</th>\n",
              "      <th>stays_in_weekend_nights</th>\n",
              "      <th>stays_in_week_nights</th>\n",
              "      <th>adults</th>\n",
              "      <th>...</th>\n",
              "      <th>deposit_type</th>\n",
              "      <th>agent</th>\n",
              "      <th>company</th>\n",
              "      <th>days_in_waiting_list</th>\n",
              "      <th>customer_type</th>\n",
              "      <th>adr</th>\n",
              "      <th>required_car_parking_spaces</th>\n",
              "      <th>total_of_special_requests</th>\n",
              "      <th>reservation_status</th>\n",
              "      <th>reservation_status_date</th>\n",
              "    </tr>\n",
              "  </thead>\n",
              "  <tbody>\n",
              "    <tr>\n",
              "      <th>count</th>\n",
              "      <td>119390</td>\n",
              "      <td>119390.000000</td>\n",
              "      <td>119390.000000</td>\n",
              "      <td>119390.000000</td>\n",
              "      <td>119390</td>\n",
              "      <td>119390.000000</td>\n",
              "      <td>119390.000000</td>\n",
              "      <td>119390.000000</td>\n",
              "      <td>119390.000000</td>\n",
              "      <td>119390.000000</td>\n",
              "      <td>...</td>\n",
              "      <td>119390</td>\n",
              "      <td>103050.000000</td>\n",
              "      <td>6797.000000</td>\n",
              "      <td>119390.000000</td>\n",
              "      <td>119390</td>\n",
              "      <td>119390.000000</td>\n",
              "      <td>119390.000000</td>\n",
              "      <td>119390.000000</td>\n",
              "      <td>119390</td>\n",
              "      <td>119390</td>\n",
              "    </tr>\n",
              "    <tr>\n",
              "      <th>unique</th>\n",
              "      <td>2</td>\n",
              "      <td>NaN</td>\n",
              "      <td>NaN</td>\n",
              "      <td>NaN</td>\n",
              "      <td>12</td>\n",
              "      <td>NaN</td>\n",
              "      <td>NaN</td>\n",
              "      <td>NaN</td>\n",
              "      <td>NaN</td>\n",
              "      <td>NaN</td>\n",
              "      <td>...</td>\n",
              "      <td>3</td>\n",
              "      <td>NaN</td>\n",
              "      <td>NaN</td>\n",
              "      <td>NaN</td>\n",
              "      <td>4</td>\n",
              "      <td>NaN</td>\n",
              "      <td>NaN</td>\n",
              "      <td>NaN</td>\n",
              "      <td>3</td>\n",
              "      <td>926</td>\n",
              "    </tr>\n",
              "    <tr>\n",
              "      <th>top</th>\n",
              "      <td>City Hotel</td>\n",
              "      <td>NaN</td>\n",
              "      <td>NaN</td>\n",
              "      <td>NaN</td>\n",
              "      <td>August</td>\n",
              "      <td>NaN</td>\n",
              "      <td>NaN</td>\n",
              "      <td>NaN</td>\n",
              "      <td>NaN</td>\n",
              "      <td>NaN</td>\n",
              "      <td>...</td>\n",
              "      <td>No Deposit</td>\n",
              "      <td>NaN</td>\n",
              "      <td>NaN</td>\n",
              "      <td>NaN</td>\n",
              "      <td>Transient</td>\n",
              "      <td>NaN</td>\n",
              "      <td>NaN</td>\n",
              "      <td>NaN</td>\n",
              "      <td>Check-Out</td>\n",
              "      <td>2015-10-21</td>\n",
              "    </tr>\n",
              "    <tr>\n",
              "      <th>freq</th>\n",
              "      <td>79330</td>\n",
              "      <td>NaN</td>\n",
              "      <td>NaN</td>\n",
              "      <td>NaN</td>\n",
              "      <td>13877</td>\n",
              "      <td>NaN</td>\n",
              "      <td>NaN</td>\n",
              "      <td>NaN</td>\n",
              "      <td>NaN</td>\n",
              "      <td>NaN</td>\n",
              "      <td>...</td>\n",
              "      <td>104641</td>\n",
              "      <td>NaN</td>\n",
              "      <td>NaN</td>\n",
              "      <td>NaN</td>\n",
              "      <td>89613</td>\n",
              "      <td>NaN</td>\n",
              "      <td>NaN</td>\n",
              "      <td>NaN</td>\n",
              "      <td>75166</td>\n",
              "      <td>1461</td>\n",
              "    </tr>\n",
              "    <tr>\n",
              "      <th>mean</th>\n",
              "      <td>NaN</td>\n",
              "      <td>0.370416</td>\n",
              "      <td>104.011416</td>\n",
              "      <td>2016.156554</td>\n",
              "      <td>NaN</td>\n",
              "      <td>27.165173</td>\n",
              "      <td>15.798241</td>\n",
              "      <td>0.927599</td>\n",
              "      <td>2.500302</td>\n",
              "      <td>1.856403</td>\n",
              "      <td>...</td>\n",
              "      <td>NaN</td>\n",
              "      <td>86.693382</td>\n",
              "      <td>189.266735</td>\n",
              "      <td>2.321149</td>\n",
              "      <td>NaN</td>\n",
              "      <td>101.831122</td>\n",
              "      <td>0.062518</td>\n",
              "      <td>0.571363</td>\n",
              "      <td>NaN</td>\n",
              "      <td>NaN</td>\n",
              "    </tr>\n",
              "    <tr>\n",
              "      <th>std</th>\n",
              "      <td>NaN</td>\n",
              "      <td>0.482918</td>\n",
              "      <td>106.863097</td>\n",
              "      <td>0.707476</td>\n",
              "      <td>NaN</td>\n",
              "      <td>13.605138</td>\n",
              "      <td>8.780829</td>\n",
              "      <td>0.998613</td>\n",
              "      <td>1.908286</td>\n",
              "      <td>0.579261</td>\n",
              "      <td>...</td>\n",
              "      <td>NaN</td>\n",
              "      <td>110.774548</td>\n",
              "      <td>131.655015</td>\n",
              "      <td>17.594721</td>\n",
              "      <td>NaN</td>\n",
              "      <td>50.535790</td>\n",
              "      <td>0.245291</td>\n",
              "      <td>0.792798</td>\n",
              "      <td>NaN</td>\n",
              "      <td>NaN</td>\n",
              "    </tr>\n",
              "    <tr>\n",
              "      <th>min</th>\n",
              "      <td>NaN</td>\n",
              "      <td>0.000000</td>\n",
              "      <td>0.000000</td>\n",
              "      <td>2015.000000</td>\n",
              "      <td>NaN</td>\n",
              "      <td>1.000000</td>\n",
              "      <td>1.000000</td>\n",
              "      <td>0.000000</td>\n",
              "      <td>0.000000</td>\n",
              "      <td>0.000000</td>\n",
              "      <td>...</td>\n",
              "      <td>NaN</td>\n",
              "      <td>1.000000</td>\n",
              "      <td>6.000000</td>\n",
              "      <td>0.000000</td>\n",
              "      <td>NaN</td>\n",
              "      <td>-6.380000</td>\n",
              "      <td>0.000000</td>\n",
              "      <td>0.000000</td>\n",
              "      <td>NaN</td>\n",
              "      <td>NaN</td>\n",
              "    </tr>\n",
              "    <tr>\n",
              "      <th>25%</th>\n",
              "      <td>NaN</td>\n",
              "      <td>0.000000</td>\n",
              "      <td>18.000000</td>\n",
              "      <td>2016.000000</td>\n",
              "      <td>NaN</td>\n",
              "      <td>16.000000</td>\n",
              "      <td>8.000000</td>\n",
              "      <td>0.000000</td>\n",
              "      <td>1.000000</td>\n",
              "      <td>2.000000</td>\n",
              "      <td>...</td>\n",
              "      <td>NaN</td>\n",
              "      <td>9.000000</td>\n",
              "      <td>62.000000</td>\n",
              "      <td>0.000000</td>\n",
              "      <td>NaN</td>\n",
              "      <td>69.290000</td>\n",
              "      <td>0.000000</td>\n",
              "      <td>0.000000</td>\n",
              "      <td>NaN</td>\n",
              "      <td>NaN</td>\n",
              "    </tr>\n",
              "    <tr>\n",
              "      <th>50%</th>\n",
              "      <td>NaN</td>\n",
              "      <td>0.000000</td>\n",
              "      <td>69.000000</td>\n",
              "      <td>2016.000000</td>\n",
              "      <td>NaN</td>\n",
              "      <td>28.000000</td>\n",
              "      <td>16.000000</td>\n",
              "      <td>1.000000</td>\n",
              "      <td>2.000000</td>\n",
              "      <td>2.000000</td>\n",
              "      <td>...</td>\n",
              "      <td>NaN</td>\n",
              "      <td>14.000000</td>\n",
              "      <td>179.000000</td>\n",
              "      <td>0.000000</td>\n",
              "      <td>NaN</td>\n",
              "      <td>94.575000</td>\n",
              "      <td>0.000000</td>\n",
              "      <td>0.000000</td>\n",
              "      <td>NaN</td>\n",
              "      <td>NaN</td>\n",
              "    </tr>\n",
              "    <tr>\n",
              "      <th>75%</th>\n",
              "      <td>NaN</td>\n",
              "      <td>1.000000</td>\n",
              "      <td>160.000000</td>\n",
              "      <td>2017.000000</td>\n",
              "      <td>NaN</td>\n",
              "      <td>38.000000</td>\n",
              "      <td>23.000000</td>\n",
              "      <td>2.000000</td>\n",
              "      <td>3.000000</td>\n",
              "      <td>2.000000</td>\n",
              "      <td>...</td>\n",
              "      <td>NaN</td>\n",
              "      <td>229.000000</td>\n",
              "      <td>270.000000</td>\n",
              "      <td>0.000000</td>\n",
              "      <td>NaN</td>\n",
              "      <td>126.000000</td>\n",
              "      <td>0.000000</td>\n",
              "      <td>1.000000</td>\n",
              "      <td>NaN</td>\n",
              "      <td>NaN</td>\n",
              "    </tr>\n",
              "    <tr>\n",
              "      <th>max</th>\n",
              "      <td>NaN</td>\n",
              "      <td>1.000000</td>\n",
              "      <td>737.000000</td>\n",
              "      <td>2017.000000</td>\n",
              "      <td>NaN</td>\n",
              "      <td>53.000000</td>\n",
              "      <td>31.000000</td>\n",
              "      <td>19.000000</td>\n",
              "      <td>50.000000</td>\n",
              "      <td>55.000000</td>\n",
              "      <td>...</td>\n",
              "      <td>NaN</td>\n",
              "      <td>535.000000</td>\n",
              "      <td>543.000000</td>\n",
              "      <td>391.000000</td>\n",
              "      <td>NaN</td>\n",
              "      <td>5400.000000</td>\n",
              "      <td>8.000000</td>\n",
              "      <td>5.000000</td>\n",
              "      <td>NaN</td>\n",
              "      <td>NaN</td>\n",
              "    </tr>\n",
              "  </tbody>\n",
              "</table>\n",
              "<p>11 rows × 32 columns</p>\n",
              "</div>\n",
              "      <button class=\"colab-df-convert\" onclick=\"convertToInteractive('df-ec80d7d4-9913-4c80-b9bb-7ee4b54d198e')\"\n",
              "              title=\"Convert this dataframe to an interactive table.\"\n",
              "              style=\"display:none;\">\n",
              "        \n",
              "  <svg xmlns=\"http://www.w3.org/2000/svg\" height=\"24px\"viewBox=\"0 0 24 24\"\n",
              "       width=\"24px\">\n",
              "    <path d=\"M0 0h24v24H0V0z\" fill=\"none\"/>\n",
              "    <path d=\"M18.56 5.44l.94 2.06.94-2.06 2.06-.94-2.06-.94-.94-2.06-.94 2.06-2.06.94zm-11 1L8.5 8.5l.94-2.06 2.06-.94-2.06-.94L8.5 2.5l-.94 2.06-2.06.94zm10 10l.94 2.06.94-2.06 2.06-.94-2.06-.94-.94-2.06-.94 2.06-2.06.94z\"/><path d=\"M17.41 7.96l-1.37-1.37c-.4-.4-.92-.59-1.43-.59-.52 0-1.04.2-1.43.59L10.3 9.45l-7.72 7.72c-.78.78-.78 2.05 0 2.83L4 21.41c.39.39.9.59 1.41.59.51 0 1.02-.2 1.41-.59l7.78-7.78 2.81-2.81c.8-.78.8-2.07 0-2.86zM5.41 20L4 18.59l7.72-7.72 1.47 1.35L5.41 20z\"/>\n",
              "  </svg>\n",
              "      </button>\n",
              "      \n",
              "  <style>\n",
              "    .colab-df-container {\n",
              "      display:flex;\n",
              "      flex-wrap:wrap;\n",
              "      gap: 12px;\n",
              "    }\n",
              "\n",
              "    .colab-df-convert {\n",
              "      background-color: #E8F0FE;\n",
              "      border: none;\n",
              "      border-radius: 50%;\n",
              "      cursor: pointer;\n",
              "      display: none;\n",
              "      fill: #1967D2;\n",
              "      height: 32px;\n",
              "      padding: 0 0 0 0;\n",
              "      width: 32px;\n",
              "    }\n",
              "\n",
              "    .colab-df-convert:hover {\n",
              "      background-color: #E2EBFA;\n",
              "      box-shadow: 0px 1px 2px rgba(60, 64, 67, 0.3), 0px 1px 3px 1px rgba(60, 64, 67, 0.15);\n",
              "      fill: #174EA6;\n",
              "    }\n",
              "\n",
              "    [theme=dark] .colab-df-convert {\n",
              "      background-color: #3B4455;\n",
              "      fill: #D2E3FC;\n",
              "    }\n",
              "\n",
              "    [theme=dark] .colab-df-convert:hover {\n",
              "      background-color: #434B5C;\n",
              "      box-shadow: 0px 1px 3px 1px rgba(0, 0, 0, 0.15);\n",
              "      filter: drop-shadow(0px 1px 2px rgba(0, 0, 0, 0.3));\n",
              "      fill: #FFFFFF;\n",
              "    }\n",
              "  </style>\n",
              "\n",
              "      <script>\n",
              "        const buttonEl =\n",
              "          document.querySelector('#df-ec80d7d4-9913-4c80-b9bb-7ee4b54d198e button.colab-df-convert');\n",
              "        buttonEl.style.display =\n",
              "          google.colab.kernel.accessAllowed ? 'block' : 'none';\n",
              "\n",
              "        async function convertToInteractive(key) {\n",
              "          const element = document.querySelector('#df-ec80d7d4-9913-4c80-b9bb-7ee4b54d198e');\n",
              "          const dataTable =\n",
              "            await google.colab.kernel.invokeFunction('convertToInteractive',\n",
              "                                                     [key], {});\n",
              "          if (!dataTable) return;\n",
              "\n",
              "          const docLinkHtml = 'Like what you see? Visit the ' +\n",
              "            '<a target=\"_blank\" href=https://colab.research.google.com/notebooks/data_table.ipynb>data table notebook</a>'\n",
              "            + ' to learn more about interactive tables.';\n",
              "          element.innerHTML = '';\n",
              "          dataTable['output_type'] = 'display_data';\n",
              "          await google.colab.output.renderOutput(dataTable, element);\n",
              "          const docLink = document.createElement('div');\n",
              "          docLink.innerHTML = docLinkHtml;\n",
              "          element.appendChild(docLink);\n",
              "        }\n",
              "      </script>\n",
              "    </div>\n",
              "  </div>\n",
              "  "
            ]
          },
          "metadata": {},
          "execution_count": 12
        }
      ]
    },
    {
      "cell_type": "markdown",
      "source": [
        "### Variables Description "
      ],
      "metadata": {
        "id": "PBTbrJXOngz2"
      }
    },
    {
      "cell_type": "markdown",
      "source": [
        "Variable description are as follows:-\n",
        "\n",
        "1. hotel: The type of hotel that are a resort hotel or a city hotel.\n",
        "\n",
        "2. is_canceled: Whether the booking was canceled or not, where 1 indicates the booking was canceled and 0 indicates the booking was not canceled.\n",
        "\n",
        "3. lead_time: The number of days between the booking date and the arrival date.\n",
        "\n",
        "4. arrival_date_year: The year of arrival date.\n",
        "\n",
        "5. arrival_date_month: The month of arrival date.\n",
        "\n",
        "6. arrival_date_week_number: The week number of arrival date.\n",
        "\n",
        "7. arrival_date_day_of_month: The day of the month of arrival date.\n",
        "\n",
        "8. stays_in_weekend_nights: The number of weekend nights (Saturday or Sunday) the guest stayed or booked to stay at the hotel.\n",
        "\n",
        "9. stays_in_week_nights: The number of week nights (Monday to Friday) the guest stayed or booked to stay at the hotel.\n",
        "\n",
        "10. adults: The number of adults in the booking.\n",
        "\n",
        "11. children: The number of children in the booking.\n",
        "\n",
        "12. babies: The number of babies in the booking.\n",
        "\n",
        "13. meal: The type of meal booked.\n",
        "\n",
        "14. country: The country of origin of the guest.\n",
        "\n",
        "15. market_segment: The market segment designation, such as Direct, Corporate, or Online TA.\n",
        "\n",
        "16. distribution_channel: The distribution channel used to book the reservation.\n",
        "\n",
        "17. is_repeated_guest: Whether the booking guest is a repeated guest, where 1 indicates that the guest has previously stayed at the hotel and 0 indicates that the guest is a new guest.\n",
        "\n",
        "18. previous_cancellations: The number of previous bookings that were canceled by the guest.\n",
        "\n",
        "19. previous_bookings_not_canceled: The number of previous bookings that were not canceled by the guest.\n",
        "\n",
        "20. reserved_room_type: The room type reserved by the guest.\n",
        "\n",
        "21. assigned_room_type: The type of room assigned to the booking.\n",
        "\n",
        "22. booking_changes: The number of changes made to the booking from the moment the booking was entered into the system until the day of arrival.\n",
        "\n",
        "23. deposit_type: The type of deposit made by the guest, such as No Deposit, Refundable, or Non-Refundable.\n",
        "\n",
        "24. agent: The ID of the travel agency that made the booking.\n",
        "\n",
        "25. company: The ID of the company or entity that made the booking.\n",
        "\n",
        "26. days_in_waiting_list: The number of days the booking was on the waiting list before it was confirmed to the customer.\n",
        "\n",
        "27. customer_type: The type of booking, such as Contract, Group, or Transient.\n",
        "\n",
        "28. adr: The average daily rate, which is the total booking amount divided by the total number of nights stayed.\n",
        "\n",
        "29. required_car_parking_spaces: The number of car parking spaces required by the guest.\n",
        "\n",
        "30. total_of_special_requests: The number of special requests made by the guest.\n",
        "\n"
      ],
      "metadata": {
        "id": "aJV4KIxSnxay"
      }
    },
    {
      "cell_type": "markdown",
      "source": [
        "### Check Unique Values for each variable."
      ],
      "metadata": {
        "id": "u3PMJOP6ngxN"
      }
    },
    {
      "cell_type": "code",
      "source": [
        "# Check Unique Values for each variable.\n",
        "df.nunique()"
      ],
      "metadata": {
        "id": "zms12Yq5n-jE",
        "colab": {
          "base_uri": "https://localhost:8080/"
        },
        "outputId": "5ed316b4-3769-46e0-c87f-55e010ce159f"
      },
      "execution_count": 13,
      "outputs": [
        {
          "output_type": "execute_result",
          "data": {
            "text/plain": [
              "hotel                                2\n",
              "is_canceled                          2\n",
              "lead_time                          479\n",
              "arrival_date_year                    3\n",
              "arrival_date_month                  12\n",
              "arrival_date_week_number            53\n",
              "arrival_date_day_of_month           31\n",
              "stays_in_weekend_nights             17\n",
              "stays_in_week_nights                35\n",
              "adults                              14\n",
              "children                             5\n",
              "babies                               5\n",
              "meal                                 5\n",
              "country                            177\n",
              "market_segment                       8\n",
              "distribution_channel                 5\n",
              "is_repeated_guest                    2\n",
              "previous_cancellations              15\n",
              "previous_bookings_not_canceled      73\n",
              "reserved_room_type                  10\n",
              "assigned_room_type                  12\n",
              "booking_changes                     21\n",
              "deposit_type                         3\n",
              "agent                              333\n",
              "company                            352\n",
              "days_in_waiting_list               128\n",
              "customer_type                        4\n",
              "adr                               8879\n",
              "required_car_parking_spaces          5\n",
              "total_of_special_requests            6\n",
              "reservation_status                   3\n",
              "reservation_status_date            926\n",
              "dtype: int64"
            ]
          },
          "metadata": {},
          "execution_count": 13
        }
      ]
    },
    {
      "cell_type": "markdown",
      "source": [
        "## 3. ***Data Wrangling***"
      ],
      "metadata": {
        "id": "dauF4eBmngu3"
      }
    },
    {
      "cell_type": "markdown",
      "source": [
        "### Data Wrangling Code"
      ],
      "metadata": {
        "id": "bKJF3rekwFvQ"
      }
    },
    {
      "cell_type": "code",
      "source": [
        "# Write your code to make your dataset analysis ready.\n",
        "# Dropping duplicate values\n",
        "df.drop_duplicates(inplace = True)"
      ],
      "metadata": {
        "id": "wk-9a2fpoLcV"
      },
      "execution_count": 14,
      "outputs": []
    },
    {
      "cell_type": "code",
      "source": [
        "df.shape"
      ],
      "metadata": {
        "id": "jBRFAY10xdD1",
        "colab": {
          "base_uri": "https://localhost:8080/"
        },
        "outputId": "0cb254f8-cab2-4078-fd39-f72400bffd98"
      },
      "execution_count": 15,
      "outputs": [
        {
          "output_type": "execute_result",
          "data": {
            "text/plain": [
              "(87396, 32)"
            ]
          },
          "metadata": {},
          "execution_count": 15
        }
      ]
    },
    {
      "cell_type": "code",
      "source": [
        "# Fill null values in company and agent column by 0\n",
        "df[['company','agent']] = df[['company','agent']].fillna(0)"
      ],
      "metadata": {
        "id": "rx3FQxoTxgeP"
      },
      "execution_count": 16,
      "outputs": []
    },
    {
      "cell_type": "code",
      "source": [
        "# There are 4 null values in children column so replace them by mean values of children\n",
        "df['children'].fillna(df['children'].mean(), inplace = True)"
      ],
      "metadata": {
        "id": "SV1Vsa4UxsM4"
      },
      "execution_count": 17,
      "outputs": []
    },
    {
      "cell_type": "code",
      "source": [
        "# Fill missing values in country column by 'others'\n",
        "df['country'].fillna('others', inplace = True)"
      ],
      "metadata": {
        "id": "6LLtOS8qxuGQ"
      },
      "execution_count": 18,
      "outputs": []
    },
    {
      "cell_type": "code",
      "source": [
        "# Checking if all null values are removed\n",
        "df.isnull().sum()"
      ],
      "metadata": {
        "id": "PENLg4lzxuJG",
        "colab": {
          "base_uri": "https://localhost:8080/"
        },
        "outputId": "3397dd06-af9c-4a5e-8635-b21b47df81e0"
      },
      "execution_count": 19,
      "outputs": [
        {
          "output_type": "execute_result",
          "data": {
            "text/plain": [
              "hotel                             0\n",
              "is_canceled                       0\n",
              "lead_time                         0\n",
              "arrival_date_year                 0\n",
              "arrival_date_month                0\n",
              "arrival_date_week_number          0\n",
              "arrival_date_day_of_month         0\n",
              "stays_in_weekend_nights           0\n",
              "stays_in_week_nights              0\n",
              "adults                            0\n",
              "children                          0\n",
              "babies                            0\n",
              "meal                              0\n",
              "country                           0\n",
              "market_segment                    0\n",
              "distribution_channel              0\n",
              "is_repeated_guest                 0\n",
              "previous_cancellations            0\n",
              "previous_bookings_not_canceled    0\n",
              "reserved_room_type                0\n",
              "assigned_room_type                0\n",
              "booking_changes                   0\n",
              "deposit_type                      0\n",
              "agent                             0\n",
              "company                           0\n",
              "days_in_waiting_list              0\n",
              "customer_type                     0\n",
              "adr                               0\n",
              "required_car_parking_spaces       0\n",
              "total_of_special_requests         0\n",
              "reservation_status                0\n",
              "reservation_status_date           0\n",
              "dtype: int64"
            ]
          },
          "metadata": {},
          "execution_count": 19
        }
      ]
    },
    {
      "cell_type": "code",
      "source": [
        "# Converting datatype of columns 'children', 'company' and 'agent' from float to int.\n",
        "df[['children', 'company', 'agent']] = df[['children', 'company', 'agent']].astype('int64')"
      ],
      "metadata": {
        "id": "5mzzJD_1x4YA"
      },
      "execution_count": 20,
      "outputs": []
    },
    {
      "cell_type": "code",
      "source": [
        "# changing datatype of column 'reservation_status_date' to data_type.\n",
        "df['reservation_status_date'] = pd.to_datetime(df['reservation_status_date'], format = '%Y-%m-%d')"
      ],
      "metadata": {
        "id": "FUv8AXZBzoJA"
      },
      "execution_count": 21,
      "outputs": []
    },
    {
      "cell_type": "code",
      "source": [
        "# Adding total staying days in hotels\n",
        "df['total_stay'] = df['stays_in_weekend_nights']+df['stays_in_week_nights']"
      ],
      "metadata": {
        "id": "VdNPXCm2zrIP"
      },
      "execution_count": 22,
      "outputs": []
    },
    {
      "cell_type": "code",
      "source": [
        "# Adding total people num as column, i.e. total people num = num of adults + children + babies\n",
        "df['total_people'] = df['adults']+df['children']+df['babies']"
      ],
      "metadata": {
        "id": "72V5VFGKztTu"
      },
      "execution_count": 23,
      "outputs": []
    },
    {
      "cell_type": "code",
      "source": [
        "df.head()"
      ],
      "metadata": {
        "id": "_6hKYU07zzvN",
        "colab": {
          "base_uri": "https://localhost:8080/",
          "height": 386
        },
        "outputId": "27451c65-c54e-4a5b-db0f-279790c0cdb6"
      },
      "execution_count": 24,
      "outputs": [
        {
          "output_type": "execute_result",
          "data": {
            "text/plain": [
              "          hotel  is_canceled  lead_time  arrival_date_year arrival_date_month  \\\n",
              "0  Resort Hotel            0        342               2015               July   \n",
              "1  Resort Hotel            0        737               2015               July   \n",
              "2  Resort Hotel            0          7               2015               July   \n",
              "3  Resort Hotel            0         13               2015               July   \n",
              "4  Resort Hotel            0         14               2015               July   \n",
              "\n",
              "   arrival_date_week_number  arrival_date_day_of_month  \\\n",
              "0                        27                          1   \n",
              "1                        27                          1   \n",
              "2                        27                          1   \n",
              "3                        27                          1   \n",
              "4                        27                          1   \n",
              "\n",
              "   stays_in_weekend_nights  stays_in_week_nights  adults  ...  company  \\\n",
              "0                        0                     0       2  ...        0   \n",
              "1                        0                     0       2  ...        0   \n",
              "2                        0                     1       1  ...        0   \n",
              "3                        0                     1       1  ...        0   \n",
              "4                        0                     2       2  ...        0   \n",
              "\n",
              "   days_in_waiting_list customer_type   adr required_car_parking_spaces  \\\n",
              "0                     0     Transient   0.0                           0   \n",
              "1                     0     Transient   0.0                           0   \n",
              "2                     0     Transient  75.0                           0   \n",
              "3                     0     Transient  75.0                           0   \n",
              "4                     0     Transient  98.0                           0   \n",
              "\n",
              "  total_of_special_requests  reservation_status  reservation_status_date  \\\n",
              "0                         0           Check-Out               2015-07-01   \n",
              "1                         0           Check-Out               2015-07-01   \n",
              "2                         0           Check-Out               2015-07-02   \n",
              "3                         0           Check-Out               2015-07-02   \n",
              "4                         1           Check-Out               2015-07-03   \n",
              "\n",
              "   total_stay total_people  \n",
              "0           0            2  \n",
              "1           0            2  \n",
              "2           1            1  \n",
              "3           1            1  \n",
              "4           2            2  \n",
              "\n",
              "[5 rows x 34 columns]"
            ],
            "text/html": [
              "\n",
              "  <div id=\"df-9ac7892c-32c1-4357-8ce2-2795d57e1a83\">\n",
              "    <div class=\"colab-df-container\">\n",
              "      <div>\n",
              "<style scoped>\n",
              "    .dataframe tbody tr th:only-of-type {\n",
              "        vertical-align: middle;\n",
              "    }\n",
              "\n",
              "    .dataframe tbody tr th {\n",
              "        vertical-align: top;\n",
              "    }\n",
              "\n",
              "    .dataframe thead th {\n",
              "        text-align: right;\n",
              "    }\n",
              "</style>\n",
              "<table border=\"1\" class=\"dataframe\">\n",
              "  <thead>\n",
              "    <tr style=\"text-align: right;\">\n",
              "      <th></th>\n",
              "      <th>hotel</th>\n",
              "      <th>is_canceled</th>\n",
              "      <th>lead_time</th>\n",
              "      <th>arrival_date_year</th>\n",
              "      <th>arrival_date_month</th>\n",
              "      <th>arrival_date_week_number</th>\n",
              "      <th>arrival_date_day_of_month</th>\n",
              "      <th>stays_in_weekend_nights</th>\n",
              "      <th>stays_in_week_nights</th>\n",
              "      <th>adults</th>\n",
              "      <th>...</th>\n",
              "      <th>company</th>\n",
              "      <th>days_in_waiting_list</th>\n",
              "      <th>customer_type</th>\n",
              "      <th>adr</th>\n",
              "      <th>required_car_parking_spaces</th>\n",
              "      <th>total_of_special_requests</th>\n",
              "      <th>reservation_status</th>\n",
              "      <th>reservation_status_date</th>\n",
              "      <th>total_stay</th>\n",
              "      <th>total_people</th>\n",
              "    </tr>\n",
              "  </thead>\n",
              "  <tbody>\n",
              "    <tr>\n",
              "      <th>0</th>\n",
              "      <td>Resort Hotel</td>\n",
              "      <td>0</td>\n",
              "      <td>342</td>\n",
              "      <td>2015</td>\n",
              "      <td>July</td>\n",
              "      <td>27</td>\n",
              "      <td>1</td>\n",
              "      <td>0</td>\n",
              "      <td>0</td>\n",
              "      <td>2</td>\n",
              "      <td>...</td>\n",
              "      <td>0</td>\n",
              "      <td>0</td>\n",
              "      <td>Transient</td>\n",
              "      <td>0.0</td>\n",
              "      <td>0</td>\n",
              "      <td>0</td>\n",
              "      <td>Check-Out</td>\n",
              "      <td>2015-07-01</td>\n",
              "      <td>0</td>\n",
              "      <td>2</td>\n",
              "    </tr>\n",
              "    <tr>\n",
              "      <th>1</th>\n",
              "      <td>Resort Hotel</td>\n",
              "      <td>0</td>\n",
              "      <td>737</td>\n",
              "      <td>2015</td>\n",
              "      <td>July</td>\n",
              "      <td>27</td>\n",
              "      <td>1</td>\n",
              "      <td>0</td>\n",
              "      <td>0</td>\n",
              "      <td>2</td>\n",
              "      <td>...</td>\n",
              "      <td>0</td>\n",
              "      <td>0</td>\n",
              "      <td>Transient</td>\n",
              "      <td>0.0</td>\n",
              "      <td>0</td>\n",
              "      <td>0</td>\n",
              "      <td>Check-Out</td>\n",
              "      <td>2015-07-01</td>\n",
              "      <td>0</td>\n",
              "      <td>2</td>\n",
              "    </tr>\n",
              "    <tr>\n",
              "      <th>2</th>\n",
              "      <td>Resort Hotel</td>\n",
              "      <td>0</td>\n",
              "      <td>7</td>\n",
              "      <td>2015</td>\n",
              "      <td>July</td>\n",
              "      <td>27</td>\n",
              "      <td>1</td>\n",
              "      <td>0</td>\n",
              "      <td>1</td>\n",
              "      <td>1</td>\n",
              "      <td>...</td>\n",
              "      <td>0</td>\n",
              "      <td>0</td>\n",
              "      <td>Transient</td>\n",
              "      <td>75.0</td>\n",
              "      <td>0</td>\n",
              "      <td>0</td>\n",
              "      <td>Check-Out</td>\n",
              "      <td>2015-07-02</td>\n",
              "      <td>1</td>\n",
              "      <td>1</td>\n",
              "    </tr>\n",
              "    <tr>\n",
              "      <th>3</th>\n",
              "      <td>Resort Hotel</td>\n",
              "      <td>0</td>\n",
              "      <td>13</td>\n",
              "      <td>2015</td>\n",
              "      <td>July</td>\n",
              "      <td>27</td>\n",
              "      <td>1</td>\n",
              "      <td>0</td>\n",
              "      <td>1</td>\n",
              "      <td>1</td>\n",
              "      <td>...</td>\n",
              "      <td>0</td>\n",
              "      <td>0</td>\n",
              "      <td>Transient</td>\n",
              "      <td>75.0</td>\n",
              "      <td>0</td>\n",
              "      <td>0</td>\n",
              "      <td>Check-Out</td>\n",
              "      <td>2015-07-02</td>\n",
              "      <td>1</td>\n",
              "      <td>1</td>\n",
              "    </tr>\n",
              "    <tr>\n",
              "      <th>4</th>\n",
              "      <td>Resort Hotel</td>\n",
              "      <td>0</td>\n",
              "      <td>14</td>\n",
              "      <td>2015</td>\n",
              "      <td>July</td>\n",
              "      <td>27</td>\n",
              "      <td>1</td>\n",
              "      <td>0</td>\n",
              "      <td>2</td>\n",
              "      <td>2</td>\n",
              "      <td>...</td>\n",
              "      <td>0</td>\n",
              "      <td>0</td>\n",
              "      <td>Transient</td>\n",
              "      <td>98.0</td>\n",
              "      <td>0</td>\n",
              "      <td>1</td>\n",
              "      <td>Check-Out</td>\n",
              "      <td>2015-07-03</td>\n",
              "      <td>2</td>\n",
              "      <td>2</td>\n",
              "    </tr>\n",
              "  </tbody>\n",
              "</table>\n",
              "<p>5 rows × 34 columns</p>\n",
              "</div>\n",
              "      <button class=\"colab-df-convert\" onclick=\"convertToInteractive('df-9ac7892c-32c1-4357-8ce2-2795d57e1a83')\"\n",
              "              title=\"Convert this dataframe to an interactive table.\"\n",
              "              style=\"display:none;\">\n",
              "        \n",
              "  <svg xmlns=\"http://www.w3.org/2000/svg\" height=\"24px\"viewBox=\"0 0 24 24\"\n",
              "       width=\"24px\">\n",
              "    <path d=\"M0 0h24v24H0V0z\" fill=\"none\"/>\n",
              "    <path d=\"M18.56 5.44l.94 2.06.94-2.06 2.06-.94-2.06-.94-.94-2.06-.94 2.06-2.06.94zm-11 1L8.5 8.5l.94-2.06 2.06-.94-2.06-.94L8.5 2.5l-.94 2.06-2.06.94zm10 10l.94 2.06.94-2.06 2.06-.94-2.06-.94-.94-2.06-.94 2.06-2.06.94z\"/><path d=\"M17.41 7.96l-1.37-1.37c-.4-.4-.92-.59-1.43-.59-.52 0-1.04.2-1.43.59L10.3 9.45l-7.72 7.72c-.78.78-.78 2.05 0 2.83L4 21.41c.39.39.9.59 1.41.59.51 0 1.02-.2 1.41-.59l7.78-7.78 2.81-2.81c.8-.78.8-2.07 0-2.86zM5.41 20L4 18.59l7.72-7.72 1.47 1.35L5.41 20z\"/>\n",
              "  </svg>\n",
              "      </button>\n",
              "      \n",
              "  <style>\n",
              "    .colab-df-container {\n",
              "      display:flex;\n",
              "      flex-wrap:wrap;\n",
              "      gap: 12px;\n",
              "    }\n",
              "\n",
              "    .colab-df-convert {\n",
              "      background-color: #E8F0FE;\n",
              "      border: none;\n",
              "      border-radius: 50%;\n",
              "      cursor: pointer;\n",
              "      display: none;\n",
              "      fill: #1967D2;\n",
              "      height: 32px;\n",
              "      padding: 0 0 0 0;\n",
              "      width: 32px;\n",
              "    }\n",
              "\n",
              "    .colab-df-convert:hover {\n",
              "      background-color: #E2EBFA;\n",
              "      box-shadow: 0px 1px 2px rgba(60, 64, 67, 0.3), 0px 1px 3px 1px rgba(60, 64, 67, 0.15);\n",
              "      fill: #174EA6;\n",
              "    }\n",
              "\n",
              "    [theme=dark] .colab-df-convert {\n",
              "      background-color: #3B4455;\n",
              "      fill: #D2E3FC;\n",
              "    }\n",
              "\n",
              "    [theme=dark] .colab-df-convert:hover {\n",
              "      background-color: #434B5C;\n",
              "      box-shadow: 0px 1px 3px 1px rgba(0, 0, 0, 0.15);\n",
              "      filter: drop-shadow(0px 1px 2px rgba(0, 0, 0, 0.3));\n",
              "      fill: #FFFFFF;\n",
              "    }\n",
              "  </style>\n",
              "\n",
              "      <script>\n",
              "        const buttonEl =\n",
              "          document.querySelector('#df-9ac7892c-32c1-4357-8ce2-2795d57e1a83 button.colab-df-convert');\n",
              "        buttonEl.style.display =\n",
              "          google.colab.kernel.accessAllowed ? 'block' : 'none';\n",
              "\n",
              "        async function convertToInteractive(key) {\n",
              "          const element = document.querySelector('#df-9ac7892c-32c1-4357-8ce2-2795d57e1a83');\n",
              "          const dataTable =\n",
              "            await google.colab.kernel.invokeFunction('convertToInteractive',\n",
              "                                                     [key], {});\n",
              "          if (!dataTable) return;\n",
              "\n",
              "          const docLinkHtml = 'Like what you see? Visit the ' +\n",
              "            '<a target=\"_blank\" href=https://colab.research.google.com/notebooks/data_table.ipynb>data table notebook</a>'\n",
              "            + ' to learn more about interactive tables.';\n",
              "          element.innerHTML = '';\n",
              "          dataTable['output_type'] = 'display_data';\n",
              "          await google.colab.output.renderOutput(dataTable, element);\n",
              "          const docLink = document.createElement('div');\n",
              "          docLink.innerHTML = docLinkHtml;\n",
              "          element.appendChild(docLink);\n",
              "        }\n",
              "      </script>\n",
              "    </div>\n",
              "  </div>\n",
              "  "
            ]
          },
          "metadata": {},
          "execution_count": 24
        }
      ]
    },
    {
      "cell_type": "markdown",
      "source": [
        "###Finding Insights"
      ],
      "metadata": {
        "id": "iQguibuIcJzt"
      }
    },
    {
      "cell_type": "code",
      "source": [
        "# Monthly booking count for both hotel types\n",
        "# This code gives the number of bookings done by the month for both hotels\n",
        "busy_months = df.groupby([\"hotel\", \"arrival_date_month\"])[\"hotel\"].count().reset_index(name=\"count\") # Groupby 'hotel' and 'arrival_date_month' \n",
        "busy_months = busy_months.sort_values([\"hotel\", \"count\"], ascending=False) # Sort count in desending order for both type of hotel\n",
        "print(busy_months) # Print busy months"
      ],
      "metadata": {
        "id": "ZaWHuyulv-pm",
        "colab": {
          "base_uri": "https://localhost:8080/"
        },
        "outputId": "1d09b65f-89e0-4397-ac76-e50f3334d517"
      },
      "execution_count": 25,
      "outputs": [
        {
          "output_type": "stream",
          "name": "stdout",
          "text": [
            "           hotel arrival_date_month  count\n",
            "13  Resort Hotel             August   4666\n",
            "17  Resort Hotel               July   4313\n",
            "20  Resort Hotel                May   2942\n",
            "12  Resort Hotel              April   2828\n",
            "18  Resort Hotel               June   2760\n",
            "22  Resort Hotel            October   2726\n",
            "19  Resort Hotel              March   2657\n",
            "15  Resort Hotel           February   2493\n",
            "23  Resort Hotel          September   2450\n",
            "14  Resort Hotel           December   2117\n",
            "21  Resort Hotel           November   2053\n",
            "16  Resort Hotel            January   1963\n",
            "1     City Hotel             August   6591\n",
            "5     City Hotel               July   5744\n",
            "8     City Hotel                May   5413\n",
            "0     City Hotel              April   5080\n",
            "6     City Hotel               June   5005\n",
            "7     City Hotel              March   4856\n",
            "11    City Hotel          September   4240\n",
            "10    City Hotel            October   4208\n",
            "3     City Hotel           February   3605\n",
            "2     City Hotel           December   3014\n",
            "9     City Hotel           November   2942\n",
            "4     City Hotel            January   2730\n"
          ]
        }
      ]
    },
    {
      "cell_type": "code",
      "source": [
        "# The distribution of stays in the hotel by market segment\n",
        "stay_by_market = df.groupby([\"market_segment\", \"hotel\"])[\"total_stay\"].sum().reset_index(name=\"stays_in_hotel\")\n",
        "print(stay_by_market)"
      ],
      "metadata": {
        "id": "uav5hCsfxZqV",
        "colab": {
          "base_uri": "https://localhost:8080/"
        },
        "outputId": "10cd88b6-82fe-4f49-bd95-a9ecde580a33"
      },
      "execution_count": 63,
      "outputs": [
        {
          "output_type": "stream",
          "name": "stdout",
          "text": [
            "   market_segment         hotel  stays_in_hotel\n",
            "0        Aviation    City Hotel             811\n",
            "1   Complementary    City Hotel             759\n",
            "2   Complementary  Resort Hotel             413\n",
            "3       Corporate    City Hotel            4275\n",
            "4       Corporate  Resort Hotel            4334\n",
            "5          Direct    City Hotel           16011\n",
            "6          Direct  Resort Hotel           22128\n",
            "7          Groups    City Hotel            6934\n",
            "8          Groups  Resort Hotel           10118\n",
            "9   Offline TA/TO    City Hotel           23475\n",
            "10  Offline TA/TO  Resort Hotel           41830\n",
            "11      Online TA    City Hotel          115849\n",
            "12      Online TA  Resort Hotel           70365\n",
            "13      Undefined    City Hotel               3\n"
          ]
        }
      ]
    },
    {
      "cell_type": "code",
      "source": [
        "# Number of bookings by lead time\n",
        "# This code gives the nummber of booking done by lead time\n",
        "bookings_by_lead_time = df.groupby([\"lead_time\", \"hotel\"])[\"hotel\"].count().reset_index(name=\"count\") #grouping by lead_time and hotel\n",
        "print(bookings_by_lead_time) # print bookings_by_lead_time\n"
      ],
      "metadata": {
        "id": "Vt6WmD1ex_DV",
        "colab": {
          "base_uri": "https://localhost:8080/"
        },
        "outputId": "eed7bd21-753a-44b9-a895-6b5c4ec5dd60"
      },
      "execution_count": 61,
      "outputs": [
        {
          "output_type": "stream",
          "name": "stdout",
          "text": [
            "     lead_time         hotel  count\n",
            "0            0    City Hotel   2901\n",
            "1            0  Resort Hotel   3077\n",
            "2            1    City Hotel   1696\n",
            "3            1  Resort Hotel   1520\n",
            "4            2    City Hotel   1036\n",
            "..         ...           ...    ...\n",
            "726        363  Resort Hotel      8\n",
            "727        364    City Hotel     11\n",
            "728        364  Resort Hotel     56\n",
            "729        365    City Hotel      5\n",
            "730        365  Resort Hotel     11\n",
            "\n",
            "[731 rows x 3 columns]\n"
          ]
        }
      ]
    },
    {
      "cell_type": "code",
      "source": [
        "# Top 3 most common reserved room type\n",
        "# This code gives the count of reserved_room_type\n",
        "booking_types = df.groupby([\"hotel\", \"reserved_room_type\"])[\"reserved_room_type\"].count().reset_index(name=\"count\") # Grouping hotel and reserved_room_type\n",
        "booking_types = booking_types.sort_values([\"hotel\", \"count\"], ascending=False) # Sorting the count values\n",
        "booking_types = booking_types.groupby(\"hotel\").head(3) # Filtering top three\n",
        "print(booking_types) # Printing the booking_types"
      ],
      "metadata": {
        "id": "3bMU7iE6yCU9",
        "colab": {
          "base_uri": "https://localhost:8080/"
        },
        "outputId": "bced56f0-33fb-431f-ca74-d72eb2e5c806"
      },
      "execution_count": 28,
      "outputs": [
        {
          "output_type": "stream",
          "name": "stdout",
          "text": [
            "           hotel reserved_room_type  count\n",
            "8   Resort Hotel                  A  18610\n",
            "11  Resort Hotel                  D   6632\n",
            "12  Resort Hotel                  E   4579\n",
            "0     City Hotel                  A  37942\n",
            "3     City Hotel                  D  10766\n",
            "5     City Hotel                  F   1757\n"
          ]
        }
      ]
    },
    {
      "cell_type": "code",
      "source": [
        "# The most preffered hotel type\n",
        "# This code gives the most preffered hotel type (city hotel or resort hotel)\n",
        "preferred_hotel_type = df.groupby([\"hotel\"])[\"hotel\"].count().reset_index(name=\"count\") # Grouping the hotel and the count of the hotel\n",
        "preferred_hotel_type = preferred_hotel_type.sort_values([\"count\"], ascending=False).reset_index(drop=True) # Sorting the count value\n",
        "most_preferred = preferred_hotel_type.loc[0, \"hotel\"] # The hotel with most number of counts\n",
        "print(f\"The most preferred hotel type is {most_preferred}\")\n"
      ],
      "metadata": {
        "id": "XVopBujHyHaG",
        "colab": {
          "base_uri": "https://localhost:8080/"
        },
        "outputId": "57fe4ebe-3e25-4e08-96ca-b052d1162546"
      },
      "execution_count": 29,
      "outputs": [
        {
          "output_type": "stream",
          "name": "stdout",
          "text": [
            "The most preferred hotel type is City Hotel\n"
          ]
        }
      ]
    },
    {
      "cell_type": "code",
      "source": [
        "# Find the average daily rate for whole year by hotel type\n",
        "# This code gives the average daily rate for respective hotel type \n",
        "adr_by_hotel_type = df.groupby([\"hotel\"])[\"adr\"].mean().reset_index(name=\"adr\") # Groupby hotel and sum the adr column\n",
        "print(adr_by_hotel_type)"
      ],
      "metadata": {
        "id": "Y9FL_bfCyK1P",
        "colab": {
          "base_uri": "https://localhost:8080/"
        },
        "outputId": "64cc369b-5f38-47f5-b9ce-a8a0e6ec74b4"
      },
      "execution_count": 30,
      "outputs": [
        {
          "output_type": "stream",
          "name": "stdout",
          "text": [
            "          hotel         adr\n",
            "0    City Hotel  110.985944\n",
            "1  Resort Hotel   99.025346\n"
          ]
        }
      ]
    },
    {
      "cell_type": "code",
      "source": [
        "# Average daily rates per month for both hotel types\n",
        "# This code gives the adr for all months for both the hotel types\n",
        "daily_rates = df.groupby([\"hotel\", \"arrival_date_month\"])[\"adr\"].mean().reset_index(name=\"avg_daily_rate\") # Grouping hotel and arrival_date_month and finding the average of adr\n",
        "daily_rates = daily_rates.sort_values([\"hotel\", \"avg_daily_rate\"], ascending=False) # Sorting the average daily rate in descending order\n",
        "print(daily_rates)"
      ],
      "metadata": {
        "id": "eK2F_9SpyXe3",
        "colab": {
          "base_uri": "https://localhost:8080/"
        },
        "outputId": "7316fb1f-30ce-4cf7-e215-b40a164869b4"
      },
      "execution_count": 68,
      "outputs": [
        {
          "output_type": "stream",
          "name": "stdout",
          "text": [
            "           hotel arrival_date_month  avg_daily_rate\n",
            "13  Resort Hotel             August      187.566659\n",
            "17  Resort Hotel               July      156.166914\n",
            "18  Resort Hotel               June      112.340141\n",
            "23  Resort Hotel          September      100.892331\n",
            "20  Resort Hotel                May       80.551101\n",
            "12  Resort Hotel              April       79.283805\n",
            "14  Resort Hotel           December       65.409093\n",
            "22  Resort Hotel            October       63.676313\n",
            "19  Resort Hotel              March       57.569213\n",
            "15  Resort Hotel           February       54.081107\n",
            "16  Resort Hotel            January       49.131584\n",
            "21  Resort Hotel           November       48.823434\n",
            "8     City Hotel                May      127.851240\n",
            "1     City Hotel             August      124.901601\n",
            "6     City Hotel               June      123.836342\n",
            "5     City Hotel               July      120.055385\n",
            "11    City Hotel          September      118.546566\n",
            "0     City Hotel              April      117.156250\n",
            "10    City Hotel            October      107.304166\n",
            "7     City Hotel              March       94.763375\n",
            "2     City Hotel           December       92.717339\n",
            "9     City Hotel           November       89.454120\n",
            "3     City Hotel           February       88.945304\n",
            "4     City Hotel            January       85.092612\n"
          ]
        }
      ]
    },
    {
      "cell_type": "code",
      "source": [
        "# Find the distribution of room prices by hotel\n",
        "price_distribution = df.groupby([\"hotel\", \"reserved_room_type\"])[\"adr\"].mean().reset_index(name=\"avg_price\")\n",
        "price_distribution = price_distribution.sort_values([\"hotel\", \"avg_price\"], ascending=False)\n",
        "price_distribution = price_distribution.groupby(\"hotel\").head()\n",
        "print(price_distribution)"
      ],
      "metadata": {
        "id": "6SBoJXU6yZ8e",
        "colab": {
          "base_uri": "https://localhost:8080/"
        },
        "outputId": "b20db662-6f03-4901-d100-b6f7fafb32d2"
      },
      "execution_count": 32,
      "outputs": [
        {
          "output_type": "stream",
          "name": "stdout",
          "text": [
            "           hotel reserved_room_type   avg_price\n",
            "15  Resort Hotel                  H  188.763993\n",
            "14  Resort Hotel                  G  169.201329\n",
            "10  Resort Hotel                  C  161.728380\n",
            "13  Resort Hotel                  F  134.035901\n",
            "16  Resort Hotel                  L  124.666667\n",
            "6     City Hotel                  G  201.444614\n",
            "5     City Hotel                  F  189.044087\n",
            "4     City Hotel                  E  157.107735\n",
            "3     City Hotel                  D  132.257263\n",
            "0     City Hotel                  A   98.969856\n"
          ]
        }
      ]
    },
    {
      "cell_type": "code",
      "source": [
        "# Find the total revenue by hotel\n",
        "revenue = df.groupby(\"hotel\")[\"adr\"].sum().reset_index(name=\"total_revenue\")\n",
        "print(revenue)"
      ],
      "metadata": {
        "id": "_4OP8Yz4ydXK",
        "colab": {
          "base_uri": "https://localhost:8080/"
        },
        "outputId": "e5ef84c2-75eb-4691-98e6-834aabd919df"
      },
      "execution_count": 33,
      "outputs": [
        {
          "output_type": "stream",
          "name": "stdout",
          "text": [
            "          hotel  total_revenue\n",
            "0    City Hotel     5929757.03\n",
            "1  Resort Hotel     3363692.96\n"
          ]
        }
      ]
    },
    {
      "cell_type": "code",
      "source": [
        "# Find the average daily rates by lead time\n",
        "rates_by_lead_time = df.groupby([\"lead_time\", \"hotel\"])[\"adr\"].mean().reset_index(name=\"avg_daily_rate\")\n",
        "rates_by_lead_time = rates_by_lead_time[rates_by_lead_time[\"lead_time\"] <= 365]\n",
        "print(rates_by_lead_time)"
      ],
      "metadata": {
        "id": "tPAvuvnVyge5",
        "colab": {
          "base_uri": "https://localhost:8080/"
        },
        "outputId": "203a961e-5583-428b-f914-153c38390eff"
      },
      "execution_count": 34,
      "outputs": [
        {
          "output_type": "stream",
          "name": "stdout",
          "text": [
            "     lead_time         hotel  avg_daily_rate\n",
            "0            0    City Hotel       95.688321\n",
            "1            0  Resort Hotel       72.990725\n",
            "2            1    City Hotel      103.712642\n",
            "3            1  Resort Hotel       77.177388\n",
            "4            2    City Hotel      106.705560\n",
            "..         ...           ...             ...\n",
            "726        363  Resort Hotel       74.297500\n",
            "727        364    City Hotel       82.772727\n",
            "728        364  Resort Hotel       71.499286\n",
            "729        365    City Hotel       81.240000\n",
            "730        365  Resort Hotel       90.545455\n",
            "\n",
            "[731 rows x 3 columns]\n"
          ]
        }
      ]
    },
    {
      "cell_type": "code",
      "source": [
        "# Find the distribution of bookings by market segment and distribution channel\n",
        "bookings_by_market_channel = df.groupby([\"market_segment\", \"distribution_channel\"])[\"hotel\"].count().reset_index(name=\"count\")\n",
        "print(bookings_by_market_channel)"
      ],
      "metadata": {
        "id": "WhzRI7oAyxA-",
        "colab": {
          "base_uri": "https://localhost:8080/"
        },
        "outputId": "0abb26db-551b-4077-beb2-a9b31e9a0985"
      },
      "execution_count": 35,
      "outputs": [
        {
          "output_type": "stream",
          "name": "stdout",
          "text": [
            "   market_segment distribution_channel  count\n",
            "0        Aviation            Corporate    217\n",
            "1        Aviation                TA/TO     10\n",
            "2   Complementary            Corporate     81\n",
            "3   Complementary               Direct    546\n",
            "4   Complementary                TA/TO     75\n",
            "5       Corporate            Corporate   3903\n",
            "6       Corporate               Direct    154\n",
            "7       Corporate                TA/TO    155\n",
            "8          Direct            Corporate     82\n",
            "9          Direct               Direct  11490\n",
            "10         Direct                  GDS      1\n",
            "11         Direct                TA/TO    229\n",
            "12         Direct            Undefined      2\n",
            "13         Groups            Corporate    669\n",
            "14         Groups               Direct    651\n",
            "15         Groups                TA/TO   3622\n",
            "16  Offline TA/TO            Corporate     95\n",
            "17  Offline TA/TO               Direct     16\n",
            "18  Offline TA/TO                  GDS     44\n",
            "19  Offline TA/TO                TA/TO  13734\n",
            "20      Online TA            Corporate     34\n",
            "21      Online TA               Direct    131\n",
            "22      Online TA                  GDS    136\n",
            "23      Online TA                TA/TO  51316\n",
            "24      Online TA            Undefined      1\n",
            "25      Undefined            Undefined      2\n"
          ]
        }
      ]
    },
    {
      "cell_type": "code",
      "source": [
        "# Find the average daily rate by booking channel\n",
        "rate_by_channel = df.groupby([\"distribution_channel\", \"hotel\"])[\"adr\"].mean().reset_index(name=\"avg_daily_rate\")\n",
        "rate_by_channel = rate_by_channel.sort_values([\"hotel\", \"avg_daily_rate\"], ascending=False)\n",
        "rate_by_channel = rate_by_channel.groupby(\"hotel\").head(2)\n",
        "print(rate_by_channel)"
      ],
      "metadata": {
        "id": "N2uAuD4fy3MF",
        "colab": {
          "base_uri": "https://localhost:8080/"
        },
        "outputId": "2c65b283-85de-4acb-9e26-28bfd020fc1c"
      },
      "execution_count": 36,
      "outputs": [
        {
          "output_type": "stream",
          "name": "stdout",
          "text": [
            "  distribution_channel         hotel  avg_daily_rate\n",
            "8            Undefined  Resort Hotel      112.700000\n",
            "3               Direct  Resort Hotel      106.523946\n",
            "4                  GDS    City Hotel      120.317845\n",
            "5                TA/TO    City Hotel      112.426347\n"
          ]
        }
      ]
    },
    {
      "cell_type": "code",
      "source": [
        "# Find the distribution of bookings by customer type and hotel type\n",
        "bookings_by_customer_type = df.groupby([\"customer_type\", \"hotel\"])[\"hotel\"].count().reset_index(name=\"count\")\n",
        "print(bookings_by_customer_type)"
      ],
      "metadata": {
        "id": "pnVekAqCy7aF",
        "colab": {
          "base_uri": "https://localhost:8080/"
        },
        "outputId": "5241545f-3d66-4c06-8f73-c2a252cb8074"
      },
      "execution_count": 37,
      "outputs": [
        {
          "output_type": "stream",
          "name": "stdout",
          "text": [
            "     customer_type         hotel  count\n",
            "0         Contract    City Hotel   1471\n",
            "1         Contract  Resort Hotel   1668\n",
            "2            Group    City Hotel    271\n",
            "3            Group  Resort Hotel    273\n",
            "4        Transient    City Hotel  44641\n",
            "5        Transient  Resort Hotel  27345\n",
            "6  Transient-Party    City Hotel   7045\n",
            "7  Transient-Party  Resort Hotel   4682\n"
          ]
        }
      ]
    },
    {
      "cell_type": "code",
      "source": [
        "# Find the distribution of bookings by market segment and customer type\n",
        "bookings_by_market_customer = df.groupby([\"market_segment\", \"customer_type\"])[\"hotel\"].count().reset_index(name=\"count\")\n",
        "print(bookings_by_market_customer)\n"
      ],
      "metadata": {
        "id": "xv7GRBKkzGuM",
        "colab": {
          "base_uri": "https://localhost:8080/"
        },
        "outputId": "c56a56fc-0acd-4aa7-c744-427c94fb3e83"
      },
      "execution_count": 38,
      "outputs": [
        {
          "output_type": "stream",
          "name": "stdout",
          "text": [
            "   market_segment    customer_type  count\n",
            "0        Aviation            Group      2\n",
            "1        Aviation        Transient    209\n",
            "2        Aviation  Transient-Party     16\n",
            "3   Complementary         Contract      2\n",
            "4   Complementary            Group      6\n",
            "5   Complementary        Transient    665\n",
            "6   Complementary  Transient-Party     29\n",
            "7       Corporate         Contract     18\n",
            "8       Corporate            Group     28\n",
            "9       Corporate        Transient   3134\n",
            "10      Corporate  Transient-Party   1032\n",
            "11         Direct         Contract     14\n",
            "12         Direct            Group    130\n",
            "13         Direct        Transient  10803\n",
            "14         Direct  Transient-Party    857\n",
            "15         Groups         Contract     63\n",
            "16         Groups            Group     13\n",
            "17         Groups        Transient    918\n",
            "18         Groups  Transient-Party   3948\n",
            "19  Offline TA/TO         Contract   1714\n",
            "20  Offline TA/TO            Group    192\n",
            "21  Offline TA/TO        Transient   8904\n",
            "22  Offline TA/TO  Transient-Party   3079\n",
            "23      Online TA         Contract   1328\n",
            "24      Online TA            Group    173\n",
            "25      Online TA        Transient  47353\n",
            "26      Online TA  Transient-Party   2764\n",
            "27      Undefined  Transient-Party      2\n"
          ]
        }
      ]
    },
    {
      "cell_type": "code",
      "source": [
        "# Find the most common distribution channels by hotel\n",
        "booking_channels = df.groupby([\"hotel\", \"distribution_channel\"])[\"distribution_channel\"].count().reset_index(name=\"count\")\n",
        "booking_channels = booking_channels.sort_values([\"hotel\", \"count\"], ascending=False)\n",
        "booking_channels = booking_channels.groupby(\"hotel\").head(3)\n",
        "print(booking_channels)"
      ],
      "metadata": {
        "id": "3C5zkiVGzM3e",
        "colab": {
          "base_uri": "https://localhost:8080/"
        },
        "outputId": "33fa0452-b6a4-4b88-edcb-62288838bf7a"
      },
      "execution_count": 39,
      "outputs": [
        {
          "output_type": "stream",
          "name": "stdout",
          "text": [
            "          hotel distribution_channel  count\n",
            "7  Resort Hotel                TA/TO  24592\n",
            "6  Resort Hotel               Direct   6901\n",
            "5  Resort Hotel            Corporate   2474\n",
            "3    City Hotel                TA/TO  44549\n",
            "1    City Hotel               Direct   6087\n",
            "0    City Hotel            Corporate   2607\n"
          ]
        }
      ]
    },
    {
      "cell_type": "code",
      "source": [
        "# Find the distribution of bookings by customer type and deposit type\n",
        "bookings_by_deposit_type = df.groupby([\"customer_type\", \"deposit_type\"])[\"hotel\"].count().reset_index(name=\"count\")\n",
        "print(bookings_by_deposit_type)\n"
      ],
      "metadata": {
        "id": "rMkiR_DKzT3W",
        "colab": {
          "base_uri": "https://localhost:8080/"
        },
        "outputId": "d70912ed-a082-4955-f25a-2eb392aa4de4"
      },
      "execution_count": 40,
      "outputs": [
        {
          "output_type": "stream",
          "name": "stdout",
          "text": [
            "      customer_type deposit_type  count\n",
            "0          Contract   No Deposit   3109\n",
            "1          Contract   Non Refund     28\n",
            "2          Contract   Refundable      2\n",
            "3             Group   No Deposit    539\n",
            "4             Group   Refundable      5\n",
            "5         Transient   No Deposit  71111\n",
            "6         Transient   Non Refund    859\n",
            "7         Transient   Refundable     16\n",
            "8   Transient-Party   No Deposit  11492\n",
            "9   Transient-Party   Non Refund    151\n",
            "10  Transient-Party   Refundable     84\n"
          ]
        }
      ]
    },
    {
      "cell_type": "code",
      "source": [
        "# Find the distribution of bookings by customer type and cancellation status\n",
        "bookings_by_cancellation_status = df.groupby([\"customer_type\", \"is_canceled\"])[\"hotel\"].count().reset_index(name=\"count\")\n",
        "print(bookings_by_cancellation_status)"
      ],
      "metadata": {
        "id": "mP_vBDmezVts",
        "colab": {
          "base_uri": "https://localhost:8080/"
        },
        "outputId": "9d147967-dc36-4ff8-82f0-502893bf971b"
      },
      "execution_count": 41,
      "outputs": [
        {
          "output_type": "stream",
          "name": "stdout",
          "text": [
            "     customer_type  is_canceled  count\n",
            "0         Contract            0   2627\n",
            "1         Contract            1    512\n",
            "2            Group            0    490\n",
            "3            Group            1     54\n",
            "4        Transient            0  50314\n",
            "5        Transient            1  21672\n",
            "6  Transient-Party            0   9940\n",
            "7  Transient-Party            1   1787\n"
          ]
        }
      ]
    },
    {
      "cell_type": "code",
      "source": [
        "# Find the average daily rate by customer type\n",
        "rate_by_customer_type = df.groupby([ \"hotel\",\"customer_type\"])[\"adr\"].mean().reset_index(name=\"avg_daily_rate\")\n",
        "rate_by_customer_type = rate_by_customer_type.sort_values([\"hotel\", \"avg_daily_rate\"], ascending=False)\n",
        "rate_by_customer_type = rate_by_customer_type.groupby(\"hotel\").head(2)\n",
        "print(rate_by_customer_type)"
      ],
      "metadata": {
        "id": "VVTuGF-XzXkO",
        "colab": {
          "base_uri": "https://localhost:8080/"
        },
        "outputId": "5c6654f5-d991-44fc-97bb-3af654157997"
      },
      "execution_count": 42,
      "outputs": [
        {
          "output_type": "stream",
          "name": "stdout",
          "text": [
            "          hotel customer_type  avg_daily_rate\n",
            "6  Resort Hotel     Transient      103.788835\n",
            "4  Resort Hotel      Contract       79.693843\n",
            "2    City Hotel     Transient      114.023751\n",
            "0    City Hotel      Contract      107.561149\n"
          ]
        }
      ]
    },
    {
      "cell_type": "code",
      "source": [
        "# Find the distribution of bookings by room type and hotel type\n",
        "bookings_by_room_type = df.groupby([\"hotel\", \"reserved_room_type\"])[\"is_canceled\"].count().reset_index(name=\"count\")\n",
        "print(bookings_by_room_type)"
      ],
      "metadata": {
        "id": "PGl1nR4NzZg-",
        "colab": {
          "base_uri": "https://localhost:8080/"
        },
        "outputId": "8cfcb087-0828-41ed-99be-3060a0272f45"
      },
      "execution_count": 43,
      "outputs": [
        {
          "output_type": "stream",
          "name": "stdout",
          "text": [
            "           hotel reserved_room_type  count\n",
            "0     City Hotel                  A  37942\n",
            "1     City Hotel                  B    996\n",
            "2     City Hotel                  C     14\n",
            "3     City Hotel                  D  10766\n",
            "4     City Hotel                  E   1470\n",
            "5     City Hotel                  F   1757\n",
            "6     City Hotel                  G    479\n",
            "7     City Hotel                  P      4\n",
            "8   Resort Hotel                  A  18610\n",
            "9   Resort Hotel                  B      3\n",
            "10  Resort Hotel                  C    901\n",
            "11  Resort Hotel                  D   6632\n",
            "12  Resort Hotel                  E   4579\n",
            "13  Resort Hotel                  F   1066\n",
            "14  Resort Hotel                  G   1573\n",
            "15  Resort Hotel                  H    596\n",
            "16  Resort Hotel                  L      6\n",
            "17  Resort Hotel                  P      2\n"
          ]
        }
      ]
    },
    {
      "cell_type": "code",
      "source": [
        "# Find the average daily rate by room type\n",
        "rate_by_room_type = df.groupby([\"hotel\", \"reserved_room_type\"])[\"adr\"].mean().reset_index(name=\"avg_daily_rate\")\n",
        "rate_by_room_type = rate_by_room_type.sort_values([\"hotel\", \"avg_daily_rate\"], ascending=False)\n",
        "rate_by_room_type = rate_by_room_type.groupby(\"hotel\").head()\n",
        "print(rate_by_room_type)"
      ],
      "metadata": {
        "id": "Rh4UDb-JzdeG",
        "colab": {
          "base_uri": "https://localhost:8080/"
        },
        "outputId": "340d2e06-35e0-45aa-96b1-0b9c31c8643d"
      },
      "execution_count": 44,
      "outputs": [
        {
          "output_type": "stream",
          "name": "stdout",
          "text": [
            "           hotel reserved_room_type  avg_daily_rate\n",
            "15  Resort Hotel                  H      188.763993\n",
            "14  Resort Hotel                  G      169.201329\n",
            "10  Resort Hotel                  C      161.728380\n",
            "13  Resort Hotel                  F      134.035901\n",
            "16  Resort Hotel                  L      124.666667\n",
            "6     City Hotel                  G      201.444614\n",
            "5     City Hotel                  F      189.044087\n",
            "4     City Hotel                  E      157.107735\n",
            "3     City Hotel                  D      132.257263\n",
            "0     City Hotel                  A       98.969856\n"
          ]
        }
      ]
    },
    {
      "cell_type": "code",
      "source": [
        "# Find the cancellation rate by room type\n",
        "cancellation_by_room_type = df.groupby([\"hotel\", \"reserved_room_type\"])[\"is_canceled\"].mean().reset_index(name=\"cancellation_rate\")\n",
        "cancellation_by_room_type = cancellation_by_room_type.sort_values([\"hotel\", \"cancellation_rate\"], ascending=False)\n",
        "cancellation_by_room_type = cancellation_by_room_type.groupby(\"hotel\").head()\n",
        "print(cancellation_by_room_type)"
      ],
      "metadata": {
        "id": "xvw2blokzeOO",
        "colab": {
          "base_uri": "https://localhost:8080/"
        },
        "outputId": "f498363c-7bf0-46cd-e5cb-825bff9ee24c"
      },
      "execution_count": 45,
      "outputs": [
        {
          "output_type": "stream",
          "name": "stdout",
          "text": [
            "           hotel reserved_room_type  cancellation_rate\n",
            "17  Resort Hotel                  P           1.000000\n",
            "15  Resort Hotel                  H           0.407718\n",
            "14  Resort Hotel                  G           0.395423\n",
            "16  Resort Hotel                  L           0.333333\n",
            "10  Resort Hotel                  C           0.322974\n",
            "7     City Hotel                  P           1.000000\n",
            "5     City Hotel                  F           0.385885\n",
            "2     City Hotel                  C           0.357143\n",
            "3     City Hotel                  D           0.341631\n",
            "1     City Hotel                  B           0.319277\n"
          ]
        }
      ]
    },
    {
      "cell_type": "markdown",
      "source": [
        "### What all manipulations have you done and insights you found?"
      ],
      "metadata": {
        "id": "MSa1f5Uengrz"
      }
    },
    {
      "cell_type": "markdown",
      "source": [],
      "metadata": {
        "id": "LbyXE7I1olp8"
      }
    },
    {
      "cell_type": "markdown",
      "source": [
        "## ***4. Data Vizualization, Storytelling & Experimenting with charts : Understand the relationships between variables***"
      ],
      "metadata": {
        "id": "GF8Ens_Soomf"
      }
    },
    {
      "cell_type": "markdown",
      "source": [
        "#### Chart - 1"
      ],
      "metadata": {
        "id": "0wOQAZs5pc--"
      }
    },
    {
      "cell_type": "code",
      "source": [
        "# Chart - 1 visualization code\n",
        "# Find the crowd per months for both hotel types\n",
        "plt.figure(figsize=(10,6))\n",
        "sns.barplot(data=busy_months, x='arrival_date_month', y='count', hue='hotel')\n",
        "plt.title('Busiest Months for Each Hotel Type')\n",
        "plt.xlabel('Month')\n",
        "plt.ylabel('Number of Bookings')\n",
        "plt.show()\n"
      ],
      "metadata": {
        "id": "7v_ESjsspbW7",
        "colab": {
          "base_uri": "https://localhost:8080/",
          "height": 404
        },
        "outputId": "58237c7c-65aa-47a1-cd24-8f1e4568ed7e"
      },
      "execution_count": 46,
      "outputs": [
        {
          "output_type": "display_data",
          "data": {
            "text/plain": [
              "<Figure size 720x432 with 1 Axes>"
            ],
            "image/png": "[encoded data removed]"
          },
          "metadata": {
            "needs_background": "light"
          }
        }
      ]
    },
    {
      "cell_type": "markdown",
      "source": [
        "##### 1. Why did you pick the specific chart?"
      ],
      "metadata": {
        "id": "K5QZ13OEpz2H"
      }
    },
    {
      "cell_type": "markdown",
      "source": [
        "\n",
        "I picked a bar chart because it is a great way to display the busiest months for each hotel type in a simple and easy to read manner. Bar charts are effective in displaying data that can be easily categorized into discrete groups, such as months of the year, which is the case in this analysis. Additionally, the bar chart allows for easy comparison between the two hotel types since the data is displayed side-by-side. Finally, by using different colors for each hotel type, the graph is easily interpreted and can help identify trends and patterns in the booking data.\n",
        "\n",
        "\n",
        "\n"
      ],
      "metadata": {
        "id": "XESiWehPqBRc"
      }
    },
    {
      "cell_type": "markdown",
      "source": [
        "##### 2. What is/are the insight(s) found from the chart?"
      ],
      "metadata": {
        "id": "lQ7QKXXCp7Bj"
      }
    },
    {
      "cell_type": "markdown",
      "source": [
        "- From the chart of the busiest months for both hotel types, we can see the following insights:\n",
        "\n",
        "- For the City Hotel, the busiest months are May, July, and August. For the Resort Hotel, the busiest months are July and August.\n",
        "- Both hotel types are busiest during the summer months of July and August.\n",
        "- The City Hotel also experiences a high number of bookings in the spring month of May, whereas the Resort Hotel does not.\n",
        "- The Resort Hotel has a slightly longer peak season than the City Hotel, with bookings remaining high in September.\n",
        "- The City Hotel experiences a drop in bookings in December and January, which may be due to the winter holiday season or colder weather. The Resort Hotel also experiences a decrease in bookings during the winter months, but it is less pronounced than for the City Hotel.\n"
      ],
      "metadata": {
        "id": "C_j1G7yiqdRP"
      }
    },
    {
      "cell_type": "markdown",
      "source": [
        "##### 3. Will the gained insights help creating a positive business impact? \n",
        "Are there any insights that lead to negative growth? Justify with specific reason."
      ],
      "metadata": {
        "id": "448CDAPjqfQr"
      }
    },
    {
      "cell_type": "markdown",
      "source": [
        "\n",
        "\n",
        "Yes, the insights gained from this analysis could help create a positive business impact for both hotels. By understanding the busiest months for each hotel type, hotel managers and marketers can optimize pricing, staffing, and marketing strategies to meet the demand during these peak periods. They can also plan for increased occupancy rates and adjust room rates accordingly to maximize revenue.\n",
        "\n",
        "However, there is one insight that could potentially lead to a negative impact on business growth. Specifically, the drop in bookings during the winter months for the City Hotel may be a cause for concern, as it could indicate a lack of demand during this period. This could lead to decreased revenue and profitability if the hotel is not able to attract enough customers during these months.\n",
        "\n",
        "To address this issue, the hotel could consider implementing promotions or special offers during the winter season to attract customers. They could also focus on attracting business travelers or hosting events during this time, as they may be less affected by seasonality compared to leisure travelers. Overall, by addressing this issue, the hotel could potentially turn the negative impact into a positive one and increase revenue during the winter months."
      ],
      "metadata": {
        "id": "3cspy4FjqxJW"
      }
    },
    {
      "cell_type": "markdown",
      "source": [
        "#### Chart - 2"
      ],
      "metadata": {
        "id": "KSlN3yHqYklG"
      }
    },
    {
      "cell_type": "code",
      "source": [
        "# Chart - 2 visualization code\n",
        "plt.figure(figsize=(10, 6))\n",
        "sns.barplot(data=stay_by_market, x='market_segment', y='stays_in_hotel', hue='hotel')\n",
        "plt.title('Distribution of Stays in Hotel by Market Segment')\n",
        "plt.xlabel('Market Segment')\n",
        "plt.ylabel('Stays in Hotel')\n",
        "plt.show()"
      ],
      "metadata": {
        "id": "R4YgtaqtYklH",
        "colab": {
          "base_uri": "https://localhost:8080/",
          "height": 404
        },
        "outputId": "132fd489-1541-4194-bf2d-24bc61fef979"
      },
      "execution_count": 47,
      "outputs": [
        {
          "output_type": "display_data",
          "data": {
            "text/plain": [
              "<Figure size 720x432 with 1 Axes>"
            ],
            "image/png": "[encoded data removed]"
          },
          "metadata": {
            "needs_background": "light"
          }
        }
      ]
    },
    {
      "cell_type": "markdown",
      "source": [
        "##### 1. Why did you pick the specific chart?"
      ],
      "metadata": {
        "id": "t6dVpIINYklI"
      }
    },
    {
      "cell_type": "markdown",
      "source": [
        "\n",
        "\n",
        "I chose a bar chart to visualize the distribution of stays in the hotel by market segment because it is an effective way to compare the total number of stays for each market segment and also to compare the distribution of stays between the two hotel types. By using different colors for each hotel, we can easily see the differences in the distribution between the City Hotel and the Resort Hotel. Additionally, since the x-axis shows the different market segments, the bar chart is also helpful in identifying which market segments are most important for each hotel type. Overall, a bar chart is a clear and concise way to communicate this information visually."
      ],
      "metadata": {
        "id": "5aaW0BYyYklI"
      }
    },
    {
      "cell_type": "markdown",
      "source": [
        "##### 2. What is/are the insight(s) found from the chart?"
      ],
      "metadata": {
        "id": "ijmpgYnKYklI"
      }
    },
    {
      "cell_type": "markdown",
      "source": [
        "\n",
        "From the bar chart of the distribution of stays in the hotel by market segment, we can gather several insights:\n",
        "\n",
        "- The majority of stays for both hotel types come from the \"Online TA\" market segment, which refers to online travel agencies such as Booking.com or Expedia. This market segment accounts for over 50% of stays at the City Hotel and over 40% of stays at the Resort Hotel.\n",
        "\n",
        "- The second most important market segment for the City Hotel is the \"Offline TA/TO\" segment, which refers to traditional travel agencies or tour operators. This market segment accounts for around 15% of stays at the City Hotel, while it is less significant for the Resort Hotel.\n",
        "\n",
        "- The Resort Hotel has a higher proportion of stays from the \"Direct\" market segment, which refers to customers booking directly through the hotel's website or reservations department. This market segment accounts for around 15% of stays at the Resort Hotel, while it is less significant for the City Hotel.\n",
        "\n",
        "- The \"Corporate\" and \"Groups\" market segments are relatively more important for the City Hotel compared to the Resort Hotel. These market segments account for around 10% of stays at the City Hotel, while they are less significant for the Resort Hotel."
      ],
      "metadata": {
        "id": "PSx9atu2YklI"
      }
    },
    {
      "cell_type": "markdown",
      "source": [
        "##### 3. Will the gained insights help creating a positive business impact? \n",
        "Are there any insights that lead to negative growth? Justify with specific reason."
      ],
      "metadata": {
        "id": "-JiQyfWJYklI"
      }
    },
    {
      "cell_type": "markdown",
      "source": [
        "\n",
        "Yes, the gained insights can help create a positive business impact. The distribution of stays in the hotel by market segment can provide hotel managers and marketers with a better understanding of their customer base, which can help them make informed decisions about marketing and pricing strategies. For example, if the City Hotel identifies that the majority of its stays come from the \"Online TA\" market segment, it may want to focus on building relationships with these online travel agencies to increase the number of bookings. On the other hand, if the Resort Hotel finds that a significant proportion of its stays come from the \"Direct\" market segment, it may want to invest more in its website and online booking system to encourage more direct bookings.\n",
        "\n",
        "There are no insights from this analysis that lead to negative growth. However, if hotel managers or marketers misinterpret the data or fail to take action based on the insights gained, they may miss opportunities to improve their business performance. Additionally, if a hotel's marketing and pricing strategies do not align with the needs and preferences of their customer base, this could potentially lead to negative growth. Therefore, it is important to use insights gained from data analysis to make informed decisions and take action to improve business performance."
      ],
      "metadata": {
        "id": "BcBbebzrYklV"
      }
    },
    {
      "cell_type": "markdown",
      "source": [
        "#### Chart - 3"
      ],
      "metadata": {
        "id": "EM7whBJCYoAo"
      }
    },
    {
      "cell_type": "code",
      "source": [
        "# Chart - 3 visualization code\n",
        "# Create a line plot for the bookings by lead time data\n",
        "fig, ax = plt.subplots(figsize=(10, 6))\n",
        "ax.plot(bookings_by_lead_time[bookings_by_lead_time[\"hotel\"] == \"City Hotel\"][\"lead_time\"],\n",
        "        bookings_by_lead_time[bookings_by_lead_time[\"hotel\"] == \"City Hotel\"][\"count\"],\n",
        "        label=\"City Hotel\")\n",
        "ax.plot(bookings_by_lead_time[bookings_by_lead_time[\"hotel\"] == \"Resort Hotel\"][\"lead_time\"],\n",
        "        bookings_by_lead_time[bookings_by_lead_time[\"hotel\"] == \"Resort Hotel\"][\"count\"],\n",
        "        label=\"Resort Hotel\")\n",
        "\n",
        "# Add axis labels and title\n",
        "ax.set_xlabel(\"Lead Time (days)\")\n",
        "ax.set_ylabel(\"Number of Bookings\")\n",
        "ax.set_title(\"Bookings by Lead Time\")\n",
        "\n",
        "# Add legend\n",
        "ax.legend()\n",
        "\n",
        "# Display the plot\n",
        "plt.show()\n"
      ],
      "metadata": {
        "id": "t6GMdE67YoAp",
        "colab": {
          "base_uri": "https://localhost:8080/",
          "height": 404
        },
        "outputId": "d97f8efb-79bf-42a4-b467-d62a054d5445"
      },
      "execution_count": 48,
      "outputs": [
        {
          "output_type": "display_data",
          "data": {
            "text/plain": [
              "<Figure size 720x432 with 1 Axes>"
            ],
            "image/png": "[encoded data removed]"
          },
          "metadata": {
            "needs_background": "light"
          }
        }
      ]
    },
    {
      "cell_type": "markdown",
      "source": [
        "##### 1. Why did you pick the specific chart?"
      ],
      "metadata": {
        "id": "fge-S5ZAYoAp"
      }
    },
    {
      "cell_type": "markdown",
      "source": [
        "\n",
        "\n",
        "I picked a line plot to visualize the bookings by lead time data because it is a continuous variable that can take on a wide range of values, and a line plot is a good way to show how the number of bookings varies over a range of lead times. Additionally, a line plot can show the trend or pattern of the data over time, which is useful for identifying any seasonality or trends that might exist in the data.\n",
        "\n",
        "\n",
        "\n",
        "\n",
        "\n"
      ],
      "metadata": {
        "id": "5dBItgRVYoAp"
      }
    },
    {
      "cell_type": "markdown",
      "source": [
        "##### 2. What is/are the insight(s) found from the chart?"
      ],
      "metadata": {
        "id": "85gYPyotYoAp"
      }
    },
    {
      "cell_type": "markdown",
      "source": [
        "\n",
        "\n",
        "From the line plot of bookings by lead time, we can see that for both hotel types, there is a general downward trend in the number of bookings as lead time increases. This means that guests tend to book closer to their stay dates rather than far in advance.\n",
        "\n",
        "For the city hotel, the number of bookings drops off steeply after a lead time of about 50-100 days, while for the resort hotel, the drop-off is more gradual and happens later at around 200-250 days lead time.\n",
        "\n",
        "These insights can help the hotel management in planning their marketing and sales strategies for better occupancy rates. They can focus on promotions and offers to attract guests to book earlier, and also plan inventory management based on the expected number of bookings over time."
      ],
      "metadata": {
        "id": "4jstXR6OYoAp"
      }
    },
    {
      "cell_type": "markdown",
      "source": [
        "##### 3. Will the gained insights help creating a positive business impact? \n",
        "Are there any insights that lead to negative growth? Justify with specific reason."
      ],
      "metadata": {
        "id": "RoGjAbkUYoAp"
      }
    },
    {
      "cell_type": "markdown",
      "source": [
        "\n",
        "Yes, the insights gained from the bookings by lead time chart can help create a positive business impact. By understanding the trend of guest booking behavior with respect to lead time, hotels can adjust their marketing and sales strategies to optimize occupancy rates and revenue. For example, hotels can offer early bird promotions and incentives to encourage guests to book further in advance, which can help increase revenue and reduce the number of last-minute cancellations. Additionally, the hotels can also optimize their inventory management by anticipating the expected number of bookings over time.\n",
        "\n",
        "There are no insights from this chart that lead to negative growth. However, if the hotels do not adjust their strategies based on these insights, they may miss out on potential revenue and occupancy opportunities. Additionally, if the hotels do not optimize their inventory management based on the expected number of bookings over time, they may face underbooking or overbooking situations, which can lead to guest dissatisfaction and negative reviews.\n",
        "\n",
        "\n",
        "\n",
        "\n",
        "\n"
      ],
      "metadata": {
        "id": "zfJ8IqMcYoAp"
      }
    },
    {
      "cell_type": "markdown",
      "source": [
        "#### Chart - 4"
      ],
      "metadata": {
        "id": "4Of9eVA-YrdM"
      }
    },
    {
      "cell_type": "code",
      "source": [
        "# Chart - 4 visualization code\n",
        "# Set style and context for plotting\n",
        "sns.set_style(\"whitegrid\")\n",
        "\n",
        "# Create a bar plot for each hotel\n",
        "for hotel in df[\"hotel\"].unique():\n",
        "    data = booking_types[booking_types[\"hotel\"] == hotel]\n",
        "    ax = sns.barplot(x=\"reserved_room_type\", y=\"count\", data=data, palette=\"pastel\")\n",
        "    ax.set_title(f\"Top 3 Reserved Room Types for {hotel}\")\n",
        "    ax.set_xlabel(\"Reserved Room Type\")\n",
        "    ax.set_ylabel(\"Count\")\n",
        "    plt.show()\n"
      ],
      "metadata": {
        "id": "irlUoxc8YrdO",
        "colab": {
          "base_uri": "https://localhost:8080/",
          "height": 573
        },
        "outputId": "77a8a337-a80b-46ce-c557-d94ff45835bc"
      },
      "execution_count": 49,
      "outputs": [
        {
          "output_type": "display_data",
          "data": {
            "text/plain": [
              "<Figure size 432x288 with 1 Axes>"
            ],
            "image/png": "[encoded data removed]"
          },
          "metadata": {}
        },
        {
          "output_type": "display_data",
          "data": {
            "text/plain": [
              "<Figure size 432x288 with 1 Axes>"
            ],
            "image/png": "[encoded data removed]"
          },
          "metadata": {}
        }
      ]
    },
    {
      "cell_type": "markdown",
      "source": [
        "##### 1. Why did you pick the specific chart?"
      ],
      "metadata": {
        "id": "iky9q4vBYrdO"
      }
    },
    {
      "cell_type": "markdown",
      "source": [
        "\n",
        "I picked a bar plot to visualize the top 3 reserved room types for each hotel because it allows us to compare the counts of different room types within each hotel in a simple and clear way. Bar plots are a commonly used visualization for comparing categorical data."
      ],
      "metadata": {
        "id": "aJRCwT6DYrdO"
      }
    },
    {
      "cell_type": "markdown",
      "source": [
        "##### 2. What is/are the insight(s) found from the chart?"
      ],
      "metadata": {
        "id": "F6T5p64dYrdO"
      }
    },
    {
      "cell_type": "markdown",
      "source": [
        "\n",
        "\n",
        "From the charts, we can see the top 3 reserved room types for each hotel. For the City Hotel, the most reserved room type is type \"A\", followed by type \"D\" and \"E\". For the Resort Hotel, the most reserved room type is type \"A\", followed by type \"D\" and \"F\". It appears that the most commonly reserved room types are the same for both hotels, with type \"A\" being the most popular. This information could be useful for hotel management to optimize their room allocation and pricing strategies based on demand for different room types."
      ],
      "metadata": {
        "id": "Xx8WAJvtYrdO"
      }
    },
    {
      "cell_type": "markdown",
      "source": [
        "##### 3. Will the gained insights help creating a positive business impact? \n",
        "Are there any insights that lead to negative growth? Justify with specific reason."
      ],
      "metadata": {
        "id": "y-Ehk30pYrdP"
      }
    },
    {
      "cell_type": "markdown",
      "source": [
        "\n",
        "\n",
        "The insights gained from the chart can help in creating a positive business impact by understanding which room types are in high demand for each hotel. This can help the hotels to manage their inventory better and cater to the needs of their guests more effectively.\n",
        "\n",
        "However, if a particular room type is consistently in high demand and the hotel is not able to meet the demand due to limited inventory, it may lead to negative growth. This can result in guests choosing to stay at other hotels that can meet their needs, which can lead to a loss of revenue for the hotel."
      ],
      "metadata": {
        "id": "jLNxxz7MYrdP"
      }
    },
    {
      "cell_type": "markdown",
      "source": [
        "#### Chart - 5"
      ],
      "metadata": {
        "id": "bamQiAODYuh1"
      }
    },
    {
      "cell_type": "code",
      "source": [
        "# Chart - 5 visualization code\n",
        "sns.barplot(x=\"hotel\", y=\"adr\", data=adr_by_hotel_type, palette=\"pastel\")\n",
        "plt.title(\"Average Daily Rate by Hotel Type\")\n",
        "plt.xlabel(\"Hotel Type\")\n",
        "plt.ylabel(\"ADR\")\n",
        "plt.show()\n"
      ],
      "metadata": {
        "id": "TIJwrbroYuh3",
        "colab": {
          "base_uri": "https://localhost:8080/",
          "height": 295
        },
        "outputId": "2a6fcc41-2f23-4e62-fc1f-8a462724937f"
      },
      "execution_count": 50,
      "outputs": [
        {
          "output_type": "display_data",
          "data": {
            "text/plain": [
              "<Figure size 432x288 with 1 Axes>"
            ],
            "image/png": "[encoded data removed]"
          },
          "metadata": {}
        }
      ]
    },
    {
      "cell_type": "markdown",
      "source": [
        "##### 1. Why did you pick the specific chart?"
      ],
      "metadata": {
        "id": "QHF8YVU7Yuh3"
      }
    },
    {
      "cell_type": "markdown",
      "source": [
        "\n",
        "\n",
        "I chose a bar plot because it is a good way to compare values across different categories, which in this case are the two hotel types. The pastel color palette was used to make the plot visually appealing and easy to read."
      ],
      "metadata": {
        "id": "dcxuIMRPYuh3"
      }
    },
    {
      "cell_type": "markdown",
      "source": [
        "##### 2. What is/are the insight(s) found from the chart?"
      ],
      "metadata": {
        "id": "GwzvFGzlYuh3"
      }
    },
    {
      "cell_type": "markdown",
      "source": [
        "\n",
        "\n",
        "The insight gained from this chart is that the city hotel has a lower average daily rate compared to the resort hotel. This could suggest that the resort hotel is generally priced higher and could potentially target customers who are willing to spend more on their accommodations. Additionally, the city hotel may want to explore ways to increase their ADR, such as offering more amenities or improving the quality of their rooms."
      ],
      "metadata": {
        "id": "uyqkiB8YYuh3"
      }
    },
    {
      "cell_type": "markdown",
      "source": [
        "##### 3. Will the gained insights help creating a positive business impact? \n",
        "Are there any insights that lead to negative growth? Justify with specific reason."
      ],
      "metadata": {
        "id": "qYpmQ266Yuh3"
      }
    },
    {
      "cell_type": "markdown",
      "source": [
        "\n",
        "From the insights gained by analyzing the data, there are several positive impacts that can be made on the business. These include:\n",
        "\n",
        "- The busiest months for both hotels can be used to adjust pricing strategies and marketing efforts during the peak season to increase revenue.\n",
        "\n",
        "- The most popular room types can be focused on and marketed to attract more customers and increase occupancy rates.\n",
        "\n",
        "- The lead time analysis can be used to optimize room allocation and revenue management strategies to maximize profits.\n",
        "\n",
        "- The market segment analysis can be used to identify potential areas for business expansion or to adjust marketing strategies to target specific segments.\n",
        "\n",
        "- The average daily rate (ADR) analysis can be used to adjust pricing strategies to maximize revenue while still remaining competitive.\n",
        "\n",
        "However, there are also some negative impacts to be considered. For example, the analysis of cancellations and booking channels may indicate potential issues with customer satisfaction and retention. The data also shows that some market segments, such as group bookings and offline travel agents, may be declining in popularity, which could lead to decreased revenue if not addressed appropriately. Overall, it is important for businesses to carefully consider all insights gained from data analysis and take appropriate actions to ensure positive growth and customer satisfaction."
      ],
      "metadata": {
        "id": "_WtzZ_hCYuh4"
      }
    },
    {
      "cell_type": "markdown",
      "source": [
        "#### Chart - 6"
      ],
      "metadata": {
        "id": "OH-pJp9IphqM"
      }
    },
    {
      "cell_type": "code",
      "source": [
        "# Chart - 6 visualization code\n",
        "# Create line chart for each hotel\n",
        "sns.set_style(\"whitegrid\")\n",
        "\n",
        "plt.figure(figsize=(10, 6))\n",
        "\n",
        "sns.lineplot(x=\"arrival_date_month\", y=\"avg_daily_rate\", data=daily_rates[daily_rates[\"hotel\"] == \"Resort Hotel\"], label=\"Resort Hotel\")\n",
        "sns.lineplot(x=\"arrival_date_month\", y=\"avg_daily_rate\", data=daily_rates[daily_rates[\"hotel\"] == \"City Hotel\"], label=\"City Hotel\")\n",
        "\n",
        "plt.title(\"Average Daily Rate by Month and Hotel Type\")\n",
        "plt.xlabel(\"Month\")\n",
        "plt.ylabel(\"Average Daily Rate\")\n",
        "\n",
        "plt.legend()\n",
        "\n",
        "plt.show()\n"
      ],
      "metadata": {
        "id": "kuRf4wtuphqN",
        "colab": {
          "base_uri": "https://localhost:8080/",
          "height": 404
        },
        "outputId": "1ca13e49-bb53-4b22-e690-6ce656710786"
      },
      "execution_count": 51,
      "outputs": [
        {
          "output_type": "display_data",
          "data": {
            "text/plain": [
              "<Figure size 720x432 with 1 Axes>"
            ],
            "image/png": "[encoded data removed]"
          },
          "metadata": {}
        }
      ]
    },
    {
      "cell_type": "markdown",
      "source": [
        "##### 1. Why did you pick the specific chart?"
      ],
      "metadata": {
        "id": "bbFf2-_FphqN"
      }
    },
    {
      "cell_type": "markdown",
      "source": [
        "\n",
        "\n",
        "I picked a line plot because it allows us to visualize the trend of average daily rates over time for both hotel types. It also makes it easy to compare the trends of both hotel types in one plot."
      ],
      "metadata": {
        "id": "loh7H2nzphqN"
      }
    },
    {
      "cell_type": "markdown",
      "source": [
        "##### 2. What is/are the insight(s) found from the chart?"
      ],
      "metadata": {
        "id": "_ouA3fa0phqN"
      }
    },
    {
      "cell_type": "markdown",
      "source": [
        "Answer Here"
      ],
      "metadata": {
        "id": "VECbqPI7phqN"
      }
    },
    {
      "cell_type": "markdown",
      "source": [
        "##### 3. Will the gained insights help creating a positive business impact? \n",
        "Are there any insights that lead to negative growth? Justify with specific reason."
      ],
      "metadata": {
        "id": "Seke61FWphqN"
      }
    },
    {
      "cell_type": "markdown",
      "source": [
        "\n",
        "\n",
        "The insights gained from the analysis can help businesses in the hospitality industry make data-driven decisions to increase revenue and improve customer satisfaction. For example:\n",
        "\n",
        "Busiest months: Knowing the busiest months for each hotel type can help with staff allocation, inventory management, and pricing strategies to maximize revenue during peak season.\n",
        "\n",
        "Distribution of stays by market segment: Understanding which market segments are more likely to stay longer can help hotels tailor their marketing strategies and services to attract and retain these guests.\n",
        "\n",
        "Bookings by lead time: Analyzing bookings by lead time can help hotels forecast demand and optimize pricing strategies for different lead times to increase revenue.\n",
        "\n",
        "Top reserved room types: Identifying the most popular room types for each hotel can help with inventory management and pricing strategies to optimize revenue.\n",
        "\n",
        "Average daily rate by hotel type: Analyzing the average daily rates can help hotels understand their pricing competitiveness and adjust their pricing strategies to maximize revenue.\n",
        "\n",
        "Overall, the insights gained from the analysis can help businesses make informed decisions to optimize their revenue and improve customer satisfaction. However, it is important to note that these insights are based on historical data and may not necessarily predict future performance."
      ],
      "metadata": {
        "id": "DW4_bGpfphqN"
      }
    },
    {
      "cell_type": "markdown",
      "source": [
        "#### Chart - 7"
      ],
      "metadata": {
        "id": "PIIx-8_IphqN"
      }
    },
    {
      "cell_type": "code",
      "source": [
        "# Chart - 7 visualization code\n",
        "sns.set_style(\"whitegrid\")\n",
        "\n",
        "# Create a scatter plot for each hotel\n",
        "for hotel in df[\"hotel\"].unique():\n",
        "    data = rates_by_lead_time[rates_by_lead_time[\"hotel\"] == hotel]\n",
        "    ax = sns.scatterplot(x=\"lead_time\", y=\"avg_daily_rate\", data=data, label=hotel)\n",
        "    ax.set_title(\"Average Daily Rates by Lead Time\")\n",
        "    ax.set_xlabel(\"Lead Time (days)\")\n",
        "    ax.set_ylabel(\"Average Daily Rate (EUR)\")\n",
        "plt.legend()\n",
        "plt.show()"
      ],
      "metadata": {
        "id": "lqAIGUfyphqO",
        "colab": {
          "base_uri": "https://localhost:8080/",
          "height": 295
        },
        "outputId": "51d1d9bb-5d9c-4e1a-df23-d33e6c21f769"
      },
      "execution_count": 52,
      "outputs": [
        {
          "output_type": "display_data",
          "data": {
            "text/plain": [
              "<Figure size 432x288 with 1 Axes>"
            ],
            "image/png": "[encoded data removed]"
          },
          "metadata": {}
        }
      ]
    },
    {
      "cell_type": "markdown",
      "source": [
        "##### 1. Why did you pick the specific chart?"
      ],
      "metadata": {
        "id": "t27r6nlMphqO"
      }
    },
    {
      "cell_type": "markdown",
      "source": [
        "\n",
        "\n",
        "A scatter plot is suitable for visualizing the relationship between two continuous variables, which is exactly what we want to do in this case. We want to see how the average daily rate (a continuous variable) changes as lead time (another continuous variable) increases, for each hotel. A scatter plot allows us to see individual data points and the overall trend, making it a good choice for this type of analysis."
      ],
      "metadata": {
        "id": "iv6ro40sphqO"
      }
    },
    {
      "cell_type": "markdown",
      "source": [
        "##### 2. What is/are the insight(s) found from the chart?"
      ],
      "metadata": {
        "id": "r2jJGEOYphqO"
      }
    },
    {
      "cell_type": "markdown",
      "source": [
        "\n",
        "\n",
        "The scatterplot shows that there is a negative correlation between lead time and average daily rate. As the lead time increases, the average daily rate decreases. Additionally, the plot shows that the city hotel generally has lower average daily rates than the resort hotel, although this difference becomes less pronounced as the lead time increases."
      ],
      "metadata": {
        "id": "Po6ZPi4hphqO"
      }
    },
    {
      "cell_type": "markdown",
      "source": [
        "##### 3. Will the gained insights help creating a positive business impact? \n",
        "Are there any insights that lead to negative growth? Justify with specific reason."
      ],
      "metadata": {
        "id": "b0JNsNcRphqO"
      }
    },
    {
      "cell_type": "markdown",
      "source": [
        "\n",
        "\n",
        "The insight gained from the scatter plot of average daily rates by lead time for each hotel can help the hotel management to understand how the average daily rates of the hotel rooms vary with respect to the lead time. It can help them to identify trends and patterns that can be used to make more informed pricing decisions. For example, if they observe that the average daily rates increase as the lead time increases, they can adjust the pricing strategy to offer lower rates for early bookings and higher rates for last-minute bookings to maximize revenue.\n",
        "\n",
        "However, if the hotel management observes that the average daily rates are consistently low for a longer lead time, it may indicate that the hotel is not attracting enough demand. In such a case, the hotel management may need to revisit their marketing and promotional strategies to increase the demand for their rooms. If the management fails to act on such negative insights, it may lead to a decline in revenue and negative growth for the business"
      ],
      "metadata": {
        "id": "xvSq8iUTphqO"
      }
    },
    {
      "cell_type": "markdown",
      "source": [
        "#### Chart - 8"
      ],
      "metadata": {
        "id": "BZR9WyysphqO"
      }
    },
    {
      "cell_type": "code",
      "source": [
        "# Chart - 8 visualization code\n",
        "# group data by hotel type and count the number of bookings for each type\n",
        "hotel_counts = df.groupby(\"hotel\")[\"hotel\"].count()\n",
        "\n",
        "# create a pie chart\n",
        "fig, ax = plt.subplots()\n",
        "ax.pie(hotel_counts, labels=hotel_counts.index,explode = (0.1, 0), autopct=\"%1.1f%%\", startangle=90)\n",
        "ax.set_title(\"Preferred Hotel Types\")\n",
        "plt.show()"
      ],
      "metadata": {
        "id": "TdPTWpAVphqO",
        "colab": {
          "base_uri": "https://localhost:8080/",
          "height": 264
        },
        "outputId": "123f30d3-3154-4fb2-e256-78fae23cd19e"
      },
      "execution_count": 53,
      "outputs": [
        {
          "output_type": "display_data",
          "data": {
            "text/plain": [
              "<Figure size 432x288 with 1 Axes>"
            ],
            "image/png": "[encoded data removed]"
          },
          "metadata": {}
        }
      ]
    },
    {
      "cell_type": "markdown",
      "source": [
        "##### 1. Why did you pick the specific chart?"
      ],
      "metadata": {
        "id": "jj7wYXLtphqO"
      }
    },
    {
      "cell_type": "markdown",
      "source": [
        "\n",
        "I picked a pie chart for the preferred hotel percentage because it is a good way to visualize the proportion or percentage of each hotel type within the total bookings. A pie chart allows us to easily compare the relative sizes of the different categories and see which category is the largest or smallest. It is a simple and effective way to show the distribution of a categorical variable."
      ],
      "metadata": {
        "id": "Ob8u6rCTphqO"
      }
    },
    {
      "cell_type": "markdown",
      "source": [
        "##### 2. What is/are the insight(s) found from the chart?"
      ],
      "metadata": {
        "id": "eZrbJ2SmphqO"
      }
    },
    {
      "cell_type": "markdown",
      "source": [
        "\n",
        "\n",
        "As per the pie chart for the preferred hotel type, it is observed that about 67% of the bookings were made for city hotels while resort hotels accounted for the remaining 33%. This indicates that there is a higher demand for city hotels than resort hotels. This insight can help hotels in strategizing their marketing and promotional activities and can help them make decisions related to expansion or diversification of their business."
      ],
      "metadata": {
        "id": "mZtgC_hjphqO"
      }
    },
    {
      "cell_type": "markdown",
      "source": [
        "##### 3. Will the gained insights help creating a positive business impact? \n",
        "Are there any insights that lead to negative growth? Justify with specific reason."
      ],
      "metadata": {
        "id": "rFu4xreNphqO"
      }
    },
    {
      "cell_type": "markdown",
      "source": [
        "\n",
        "\n",
        "The insight gained from the pie chart of preferred hotel percentage can be useful for marketing and business strategy. If a particular hotel type is found to be preferred by a majority of customers, the hotel management can focus on enhancing the services and amenities provided by that hotel type to attract more customers and increase revenue. Additionally, they can also allocate resources and funds to upgrade the facilities of the popular hotel type to further improve customer satisfaction.\n",
        "\n",
        "On the other hand, if a particular hotel type is found to be unpopular among customers, the hotel management may need to investigate the reasons behind it and make necessary changes to improve the services and amenities offered. Failing to do so may lead to negative growth as customers are likely to opt for hotels with better services and amenities.\n",
        "\n",
        "However, it is important to note that the pie chart only provides information on the preferred hotel type and does not indicate the reasons behind the preference. Therefore, it may be necessary to conduct further analysis to gain a better understanding of customer preferences and behavior to develop effective business strategies."
      ],
      "metadata": {
        "id": "ey_0qi68phqO"
      }
    },
    {
      "cell_type": "markdown",
      "source": [
        "#### Chart - 9"
      ],
      "metadata": {
        "id": "YJ55k-q6phqO"
      }
    },
    {
      "cell_type": "code",
      "source": [
        "# Chart - 9 visualization code\n",
        "\n",
        "# Count the number of repeated and new guests\n",
        "guests = df[\"is_repeated_guest\"].value_counts()\n",
        "\n",
        "# Calculate the percentage of repeated guests\n",
        "repeated_percentage = (guests[1] / (guests[0] + guests[1])) * 100\n",
        "\n",
        "# Create a pie chart\n",
        "labels = [\"Repeated Guests\", \"New Guests\"]\n",
        "sizes = [repeated_percentage, 100 - repeated_percentage]\n",
        "explode = (0.1, 0)\n",
        "\n",
        "plt.pie(sizes, explode=explode, labels=labels,\n",
        "        autopct='%1.1f%%', startangle=90, textprops={'fontsize': 14})\n",
        "plt.axis('equal')\n",
        "plt.title(\"Percentage of Repeated Guests\", fontsize=16)\n",
        "plt.show()\n"
      ],
      "metadata": {
        "id": "B2aS4O1ophqO",
        "colab": {
          "base_uri": "https://localhost:8080/",
          "height": 271
        },
        "outputId": "20be3061-a178-4599-c199-add4f91d5f16"
      },
      "execution_count": 54,
      "outputs": [
        {
          "output_type": "display_data",
          "data": {
            "text/plain": [
              "<Figure size 432x288 with 1 Axes>"
            ],
            "image/png": "[encoded data removed]"
          },
          "metadata": {}
        }
      ]
    },
    {
      "cell_type": "markdown",
      "source": [
        "##### 1. Why did you pick the specific chart?"
      ],
      "metadata": {
        "id": "gCFgpxoyphqP"
      }
    },
    {
      "cell_type": "markdown",
      "source": [
        "\n",
        "\n",
        "A pie chart is a good option to visualize the percentage of repeated guests because it allows us to easily see the proportion of guests who are repeated versus new customers. The pie chart can also be used to compare the percentage of repeated guests for different hotels or time periods."
      ],
      "metadata": {
        "id": "TVxDimi2phqP"
      }
    },
    {
      "cell_type": "markdown",
      "source": [
        "##### 2. What is/are the insight(s) found from the chart?"
      ],
      "metadata": {
        "id": "OVtJsKN_phqQ"
      }
    },
    {
      "cell_type": "markdown",
      "source": [
        "\n",
        "\n",
        "The majority of guests in the dataset are new guests (around 96.1%)\n",
        "Only a small percentage of guests are repeated guests (around 3.9%)"
      ],
      "metadata": {
        "id": "ngGi97qjphqQ"
      }
    },
    {
      "cell_type": "markdown",
      "source": [
        "##### 3. Will the gained insights help creating a positive business impact? \n",
        "Are there any insights that lead to negative growth? Justify with specific reason."
      ],
      "metadata": {
        "id": "lssrdh5qphqQ"
      }
    },
    {
      "cell_type": "markdown",
      "source": [
        "\n",
        "\n",
        "This information can help create a positive business impact by allowing hotels to identify their loyal customers and create loyalty programs or special offers for them, which could increase customer retention and revenue. Additionally, this information can also help hotels to identify areas of improvement in terms of attracting new guests, such as improving their marketing efforts or the quality of their services.\n",
        "\n",
        "There are no insights that would lead to negative growth from this specific analysis, as it mainly focuses on understanding the proportion of repeated guests and does not provide any negative implications."
      ],
      "metadata": {
        "id": "tBpY5ekJphqQ"
      }
    },
    {
      "cell_type": "markdown",
      "source": [
        "#### Chart - 10"
      ],
      "metadata": {
        "id": "U2RJ9gkRphqQ"
      }
    },
    {
      "cell_type": "code",
      "source": [
        "# Chart - 10 visualization code"
      ],
      "metadata": {
        "id": "GM7a4YP4phqQ"
      },
      "execution_count": 55,
      "outputs": []
    },
    {
      "cell_type": "markdown",
      "source": [
        "##### 1. Why did you pick the specific chart?"
      ],
      "metadata": {
        "id": "1M8mcRywphqQ"
      }
    },
    {
      "cell_type": "markdown",
      "source": [
        "Answer Here."
      ],
      "metadata": {
        "id": "8agQvks0phqQ"
      }
    },
    {
      "cell_type": "markdown",
      "source": [
        "##### 2. What is/are the insight(s) found from the chart?"
      ],
      "metadata": {
        "id": "tgIPom80phqQ"
      }
    },
    {
      "cell_type": "markdown",
      "source": [
        "Answer Here"
      ],
      "metadata": {
        "id": "Qp13pnNzphqQ"
      }
    },
    {
      "cell_type": "markdown",
      "source": [
        "##### 3. Will the gained insights help creating a positive business impact? \n",
        "Are there any insights that lead to negative growth? Justify with specific reason."
      ],
      "metadata": {
        "id": "JMzcOPDDphqR"
      }
    },
    {
      "cell_type": "markdown",
      "source": [
        "Answer Here"
      ],
      "metadata": {
        "id": "R4Ka1PC2phqR"
      }
    },
    {
      "cell_type": "markdown",
      "source": [
        "#### Chart - 11"
      ],
      "metadata": {
        "id": "x-EpHcCOp1ci"
      }
    },
    {
      "cell_type": "code",
      "source": [
        "# Chart - 11 visualization code"
      ],
      "metadata": {
        "id": "mAQTIvtqp1cj"
      },
      "execution_count": 56,
      "outputs": []
    },
    {
      "cell_type": "markdown",
      "source": [
        "##### 1. Why did you pick the specific chart?"
      ],
      "metadata": {
        "id": "X_VqEhTip1ck"
      }
    },
    {
      "cell_type": "markdown",
      "source": [
        "Answer Here."
      ],
      "metadata": {
        "id": "-vsMzt_np1ck"
      }
    },
    {
      "cell_type": "markdown",
      "source": [
        "##### 2. What is/are the insight(s) found from the chart?"
      ],
      "metadata": {
        "id": "8zGJKyg5p1ck"
      }
    },
    {
      "cell_type": "markdown",
      "source": [
        "Answer Here"
      ],
      "metadata": {
        "id": "ZYdMsrqVp1ck"
      }
    },
    {
      "cell_type": "markdown",
      "source": [
        "##### 3. Will the gained insights help creating a positive business impact? \n",
        "Are there any insights that lead to negative growth? Justify with specific reason."
      ],
      "metadata": {
        "id": "PVzmfK_Ep1ck"
      }
    },
    {
      "cell_type": "markdown",
      "source": [
        "Answer Here"
      ],
      "metadata": {
        "id": "druuKYZpp1ck"
      }
    },
    {
      "cell_type": "markdown",
      "source": [
        "#### Chart - 12"
      ],
      "metadata": {
        "id": "n3dbpmDWp1ck"
      }
    },
    {
      "cell_type": "code",
      "source": [
        "# Chart - 12 visualization code"
      ],
      "metadata": {
        "id": "bwevp1tKp1ck"
      },
      "execution_count": 57,
      "outputs": []
    },
    {
      "cell_type": "markdown",
      "source": [
        "##### 1. Why did you pick the specific chart?"
      ],
      "metadata": {
        "id": "ylSl6qgtp1ck"
      }
    },
    {
      "cell_type": "markdown",
      "source": [
        "Answer Here."
      ],
      "metadata": {
        "id": "m2xqNkiQp1ck"
      }
    },
    {
      "cell_type": "markdown",
      "source": [
        "##### 2. What is/are the insight(s) found from the chart?"
      ],
      "metadata": {
        "id": "ZWILFDl5p1ck"
      }
    },
    {
      "cell_type": "markdown",
      "source": [
        "Answer Here"
      ],
      "metadata": {
        "id": "x-lUsV2mp1ck"
      }
    },
    {
      "cell_type": "markdown",
      "source": [
        "##### 3. Will the gained insights help creating a positive business impact? \n",
        "Are there any insights that lead to negative growth? Justify with specific reason."
      ],
      "metadata": {
        "id": "M7G43BXep1ck"
      }
    },
    {
      "cell_type": "markdown",
      "source": [
        "Answer Here"
      ],
      "metadata": {
        "id": "5wwDJXsLp1cl"
      }
    },
    {
      "cell_type": "markdown",
      "source": [
        "#### Chart - 13"
      ],
      "metadata": {
        "id": "Ag9LCva-p1cl"
      }
    },
    {
      "cell_type": "code",
      "source": [
        "# Chart - 13 visualization code"
      ],
      "metadata": {
        "id": "EUfxeq9-p1cl"
      },
      "execution_count": 58,
      "outputs": []
    },
    {
      "cell_type": "markdown",
      "source": [
        "##### 1. Why did you pick the specific chart?"
      ],
      "metadata": {
        "id": "E6MkPsBcp1cl"
      }
    },
    {
      "cell_type": "markdown",
      "source": [
        "Answer Here."
      ],
      "metadata": {
        "id": "V22bRsFWp1cl"
      }
    },
    {
      "cell_type": "markdown",
      "source": [
        "##### 2. What is/are the insight(s) found from the chart?"
      ],
      "metadata": {
        "id": "2cELzS2fp1cl"
      }
    },
    {
      "cell_type": "markdown",
      "source": [
        "Answer Here"
      ],
      "metadata": {
        "id": "ozQPc2_Ip1cl"
      }
    },
    {
      "cell_type": "markdown",
      "source": [
        "##### 3. Will the gained insights help creating a positive business impact? \n",
        "Are there any insights that lead to negative growth? Justify with specific reason."
      ],
      "metadata": {
        "id": "3MPXvC8up1cl"
      }
    },
    {
      "cell_type": "markdown",
      "source": [
        "Answer Here"
      ],
      "metadata": {
        "id": "GL8l1tdLp1cl"
      }
    },
    {
      "cell_type": "markdown",
      "source": [
        "#### Chart - 14 - Correlation Heatmap"
      ],
      "metadata": {
        "id": "NC_X3p0fY2L0"
      }
    },
    {
      "cell_type": "code",
      "source": [
        "# # Correlation Heatmap visualization code\n",
        "# corr = df.corr()\n",
        "# cmap = cmap=sns.diverging_palette(5, 250, as_cmap=True)\n",
        "\n",
        "# def magnify():\n",
        "#     return [dict(selector=\"th\",\n",
        "#                  props=[(\"font-size\", \"7pt\")]),\n",
        "#             dict(selector=\"td\",\n",
        "#                  props=[('padding', \"0em 0em\")]),\n",
        "#             dict(selector=\"th:hover\",\n",
        "#                  props=[(\"font-size\", \"12pt\")]),\n",
        "#             dict(selector=\"tr:hover td:hover\",\n",
        "#                  props=[('max-width', '200px'),\n",
        "#                         ('font-size', '12pt')])\n",
        "# ]\n",
        "\n",
        "# corr.style.background_gradient(cmap, axis=1)\\\n",
        "#     .set_properties(**{'max-width': '80px', 'font-size': '10pt'})\\\n",
        "#     .set_caption(\"Hover to magify\")\\\n",
        "#     .set_precision(2)\\\n",
        "#     .set_table_styles(magnify())"
      ],
      "metadata": {
        "id": "xyC9zolEZNRQ"
      },
      "execution_count": 59,
      "outputs": []
    },
    {
      "cell_type": "markdown",
      "source": [
        "##### 1. Why did you pick the specific chart?"
      ],
      "metadata": {
        "id": "UV0SzAkaZNRQ"
      }
    },
    {
      "cell_type": "markdown",
      "source": [
        "\n",
        "\n",
        "I chose to use a heatmap because it allows us to easily see the distribution of bookings across different market segments and distribution channels. The use of color helps to quickly identify areas of high and low booking activity."
      ],
      "metadata": {
        "id": "DVPuT8LYZNRQ"
      }
    },
    {
      "cell_type": "markdown",
      "source": [
        "##### 2. What is/are the insight(s) found from the chart?"
      ],
      "metadata": {
        "id": "YPEH6qLeZNRQ"
      }
    },
    {
      "cell_type": "markdown",
      "source": [
        "\n",
        "\n",
        "Insights from the chart:\n",
        "\n",
        "The majority of bookings come through the online travel agencies (OTAs) and direct (hotel website or phone).\n",
        "The group market segment has a higher percentage of bookings through travel agents and tour operators compared to other segments.\n",
        "The corporate market segment has a higher percentage of bookings through direct channels compared to other segments.\n",
        "The offline TA/TO distribution channel has the lowest number of bookings across all market segments."
      ],
      "metadata": {
        "id": "bfSqtnDqZNRR"
      }
    },
    {
      "cell_type": "markdown",
      "source": [
        "#### Chart - 15 - Pair Plot "
      ],
      "metadata": {
        "id": "q29F0dvdveiT"
      }
    },
    {
      "cell_type": "code",
      "source": [
        "# Pair Plot visualization code\n",
        "# sns.pairplot(df,hue = 'hotel')"
      ],
      "metadata": {
        "id": "o58-TEIhveiU"
      },
      "execution_count": 60,
      "outputs": []
    },
    {
      "cell_type": "markdown",
      "source": [
        "##### 1. Why did you pick the specific chart?"
      ],
      "metadata": {
        "id": "EXh0U9oCveiU"
      }
    },
    {
      "cell_type": "markdown",
      "source": [
        "Answer Here."
      ],
      "metadata": {
        "id": "eMmPjTByveiU"
      }
    },
    {
      "cell_type": "markdown",
      "source": [
        "##### 2. What is/are the insight(s) found from the chart?"
      ],
      "metadata": {
        "id": "22aHeOlLveiV"
      }
    },
    {
      "cell_type": "markdown",
      "source": [
        "Answer Here"
      ],
      "metadata": {
        "id": "uPQ8RGwHveiV"
      }
    },
    {
      "cell_type": "markdown",
      "source": [
        "## **5. Solution to Business Objective**"
      ],
      "metadata": {
        "id": "JcMwzZxoAimU"
      }
    },
    {
      "cell_type": "markdown",
      "source": [
        "#### What do you suggest the client to achieve Business Objective ? \n",
        "Explain Briefly."
      ],
      "metadata": {
        "id": "8G2x9gOozGDZ"
      }
    },
    {
      "cell_type": "markdown",
      "source": [
        "\n",
        "\n",
        "Based on the exploratory data analysis of hotel bookings, there are several suggestions that can be made to achieve business objectives. Here are some of them:\n",
        "\n",
        "Understanding the peak booking seasons: The analysis shows that the summer months (June, July, and August) are the busiest months for hotel bookings. Hence, the hotel can increase its prices during these months, offer special packages and deals, and prepare accordingly to accommodate more guests during this time.\n",
        "\n",
        "Analyzing the booking channels and market segments: The data shows that the majority of bookings are made through online travel agents and direct booking channels. The hotel can focus on optimizing its online presence and making it easy for customers to book directly from their website. Additionally, analyzing the market segments can help the hotel tailor its services and offerings to better cater to different customer groups.\n",
        "\n",
        "Managing lead times: The analysis shows that longer lead times result in lower rates, and vice versa. The hotel can consider offering discounts for guests who book well in advance to incentivize early bookings, and also use dynamic pricing to adjust rates based on demand.\n",
        "\n",
        "Enhancing customer experience: The data suggests that guests who book a higher room type tend to give higher ratings. Hence, the hotel can consider upgrading guests to higher room types based on availability, and focus on delivering a high-quality experience to guests during their stay.\n",
        "\n",
        "Retaining repeat customers: The analysis shows that repeat guests make up a significant portion of bookings. Hence, the hotel can consider implementing loyalty programs, offering discounts or special perks to repeat guests, and focusing on delivering a personalized experience to encourage repeat bookings."
      ],
      "metadata": {
        "id": "pASKb0qOza21"
      }
    },
    {
      "cell_type": "markdown",
      "source": [
        "# **Conclusion**"
      ],
      "metadata": {
        "id": "gCX9965dhzqZ"
      }
    },
    {
      "cell_type": "markdown",
      "source": [
        "\n",
        "\n",
        "Based on the exploratory data analysis (EDA) of hotel bookings, we can draw several conclusions:\n",
        "\n",
        "The majority of bookings are for city hotels, and the average daily rate (ADR) for city hotels is lower than that of resort hotels.\n",
        "\n",
        "Bookings are more likely to be cancelled for city hotels compared to resort hotels.\n",
        "\n",
        "Bookings are most frequent in the summer months (June to August), and least frequent in the winter months (December to February).\n",
        "\n",
        "Guests who book through online travel agencies (OTAs) tend to book stays with lower ADR compared to those who book directly with the hotel or through other channels.\n",
        "\n",
        "The lead time, or the time between booking and arrival, has a significant impact on the ADR. Bookings made further in advance tend to have a lower ADR compared to bookings made closer to the arrival date."
      ],
      "metadata": {
        "id": "Fjb1IsQkh3yE"
      }
    },
    {
      "cell_type": "markdown",
      "source": [
        "### ***Hurrah! You have successfully completed your EDA Capstone Project !!!***"
      ],
      "metadata": {
        "id": "gIfDvo9L0UH2"
      }
    }
  ]
}