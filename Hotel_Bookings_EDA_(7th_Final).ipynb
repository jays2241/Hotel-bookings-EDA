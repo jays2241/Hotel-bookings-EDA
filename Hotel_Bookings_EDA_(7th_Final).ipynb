{
  "nbformat": 4,
  "nbformat_minor": 0,
  "metadata": {
    "colab": {
      "provenance": [],
      "collapsed_sections": [
        "mDgbUHAGgjLW",
        "Y3lxredqlCYt",
        "3RnN4peoiCZX",
        "x71ZqKXriCWQ",
        "7hBIi_osiCS2",
        "JlHwYmJAmNHm",
        "H0kj-8xxnORC",
        "nA9Y7ga8ng1Z"
      ],
      "include_colab_link": true
    },
    "kernelspec": {
      "name": "python3",
      "display_name": "Python 3"
    },
    "language_info": {
      "name": "python"
    },
    "gpuClass": "standard"
  },
  "cells": [
    {
      "cell_type": "markdown",
      "metadata": {
        "id": "view-in-github",
        "colab_type": "text"
      },
      "source": [
        "<a href=\"https://colab.research.google.com/github/jays2241/Hotel-bookings-EDA/blob/main/Hotel_Bookings_EDA_(7th_Final).ipynb\" target=\"_parent\"><img src=\"https://colab.research.google.com/assets/colab-badge.svg\" alt=\"Open In Colab\"/></a>"
      ]
    },
    {
      "cell_type": "markdown",
      "source": [
        "# **Project Name**    - Hotel booking Analysis EDA\n",
        "\n"
      ],
      "metadata": {
        "id": "vncDsAP0Gaoa"
      }
    },
    {
      "cell_type": "markdown",
      "source": [
        "##### **Project Type**    - EDA\n",
        "##### **Contribution**    - Individual\n",
        "##### **Name -** Jay Sawant\n"
      ],
      "metadata": {
        "id": "beRrZCGUAJYm"
      }
    },
    {
      "cell_type": "markdown",
      "source": [
        "# **Project Summary -**"
      ],
      "metadata": {
        "id": "FJNUwmbgGyua"
      }
    },
    {
      "cell_type": "markdown",
      "source": [
        "\n",
        "**Introduction:**\n",
        "\n",
        "The hotel industry has high very competition. So Hotels and resorts are always searching for new ways to attract the customers attention towards them. One of the most important aspects of this industry is managing bookings and reservations. Hotel owner need to be able to predict customer behavior, determine when to offer promotions and discounts, and optimize pricing strategies. Thats why exploratory data analysis (EDA) play an important role in understanding the factors that affect hotel bookings.\n",
        "\n",
        "**Objective:**\n",
        "\n",
        "The objective of this project is to analyze a hotel booking dataset provided by Almabetter and identify factors that affect hotel bookings. The dataset contains information on booking details for a city hotel and a resort hotel. \n",
        "\n",
        "The project aims to answer several questions, such as:\n",
        "\n",
        "- When is the best time of year to book a hotel room?\n",
        "\n",
        "- What is the length of stay required to get the best daily rate?\n",
        "\n",
        "- How does lead time affect bookings?\n",
        "\n",
        "- Which type of hotel has high demand?\n",
        "\n",
        "- What is the best time to offer discounts?\n",
        "\n",
        "- How do the pricing trends vary for different months and hotel types?\n",
        "\n",
        "- Which booking channels and customer types are most popular for different types of hotels?\n",
        "\n",
        "- etc.\n",
        "\n",
        "**Data Source:**\n",
        "\n",
        "The dataset used in this project is a hotel_booking.csv. This dataset contains booking information for two types of hotels. The city hotel and resort hotel. The dataset has 119,390 rows and 32 columns. The data set has several columns from which the columns named 'agent','company' and 'children' have null values. There are some duplicate rows which needs to be removed.\n",
        "\n",
        "**Data Cleaning:**\n",
        "\n",
        "The first step in the project is to clean the dataset. This involves handling missing data, removing duplicate records, and correcting data types. I performed several data cleaning steps that are listed below:\n",
        "\n",
        "- Removing duplicate records: There were some duplicate records were removed by code: \"df.drop_duplicates(inplace = True)\". This ensure that each row represented a unique booking.\n",
        "\n",
        "- Handling missing data: There were some missing values in 'agent','company' and 'children' column. The missing values from 'agent' and 'company' was replaced by 0 and the missing values from 'children' was replaced by the mean value.\n",
        "\n",
        "- Correcting data types: Some columns in the dataset had incorrect data types. These were corrected using appropriate data types.'children', 'company', 'agent' columns were classified as float which was typecasted into int type. The 'reservation_status_date' column was typecasted into date format. \n",
        "\n",
        "**Exploratory Data Analysis:**\n",
        "\n",
        "The next step in the project was to perform exploratory data analysis (EDA) on the cleaned dataset. The EDA process involved analyzing the data to identify patterns, trends, and relationships.\n",
        "\n",
        " Some of the insights found from the EDA process include:\n",
        "\n",
        "- The majority of bookings were made between May and August, and the peak booking month was August.\n",
        "- Most bookings were made for one or two nights.\n",
        "- Approximately one-third of all bookings were canceled, with resort hotel bookings having a higher cancellation rate than city hotel bookings.\n",
        "- The most common room type was \"A\".\n",
        "- The average daily rate for the resort hotel was higher than that of the city hotel. \n",
        "- Both hotels had a higher average daily rate in the summer months.\n",
        "- The average daily rate decreased with increase of lead time.\n",
        "- The number of repeated guests were very less.\n",
        "\n",
        " **Conclusion:**\n",
        "\n",
        "The EDA process identified severalfactors that affect hotel bookings. It suggests that the best time to book a hotel room is during the summer months, and that the optimal length of stay is one or two nights. Most of the guests are new and non repeated.\n",
        "\n",
        "The insights from this project can be used by hotel owners to improve the booking process and optimize pricing strategies. For example, hotels can offer special promotions and discounts during the period of November and January."
      ],
      "metadata": {
        "id": "F6v_1wHtG2nS"
      }
    },
    {
      "cell_type": "markdown",
      "source": [
        "# **GitHub Link -**"
      ],
      "metadata": {
        "id": "w6K7xa23Elo4"
      }
    },
    {
      "cell_type": "markdown",
      "source": [
        "\n",
        "https://github.com/jays2241/Hotel-bookings-EDA"
      ],
      "metadata": {
        "id": "h1o69JH3Eqqn"
      }
    },
    {
      "cell_type": "markdown",
      "source": [
        "# **Problem Statement**\n"
      ],
      "metadata": {
        "id": "yQaldy8SH6Dl"
      }
    },
    {
      "cell_type": "markdown",
      "source": [
        "To analyse and gain insights from hotel bookings dataset, and to identify patterns and trends in the data. The main goal of this EDA project is to give useful insights to hotel managers and owners that can help them to optimize their pricing and marketing strategies, and to increase the customer count. "
      ],
      "metadata": {
        "id": "DpeJGUA3kjGy"
      }
    },
    {
      "cell_type": "markdown",
      "source": [
        "#### **Define Your Business Objective?**"
      ],
      "metadata": {
        "id": "PH-0ReGfmX4f"
      }
    },
    {
      "cell_type": "markdown",
      "source": [
        "Identify key factors that influence hotel bookings in order to improve the performance and profitability of hotels."
      ],
      "metadata": {
        "id": "PhDvGCAqmjP1"
      }
    },
    {
      "cell_type": "markdown",
      "source": [
        "# **General Guidelines** : -  "
      ],
      "metadata": {
        "id": "mDgbUHAGgjLW"
      }
    },
    {
      "cell_type": "markdown",
      "source": [
        "1.   Well-structured, formatted, and commented code is required. \n",
        "2.   Exception Handling, Production Grade Code & Deployment Ready Code will be a plus. Those students will be awarded some additional credits. \n",
        "     \n",
        "     The additional credits will have advantages over other students during Star Student selection.\n",
        "       \n",
        "             [ Note: - Deployment Ready Code is defined as, the whole .ipynb notebook should be executable in one go\n",
        "                       without a single error logged. ]\n",
        "\n",
        "3.   Each and every logic should have proper comments.\n",
        "4. You may add as many number of charts you want. Make Sure for each and every chart the following format should be answered.\n",
        "        \n",
        "\n",
        "```\n",
        "# Chart visualization code\n",
        "```\n",
        "            \n",
        "\n",
        "*   Why did you pick the specific chart?\n",
        "*   What is/are the insight(s) found from the chart?\n",
        "* Will the gained insights help creating a positive business impact? \n",
        "Are there any insights that lead to negative growth? Justify with specific reason.\n",
        "\n",
        "5. You have to create at least 20 logical & meaningful charts having important insights.\n",
        "\n",
        "\n",
        "[ Hints : - Do the Vizualization in  a structured way while following \"UBM\" Rule. \n",
        "\n",
        "U - Univariate Analysis,\n",
        "\n",
        "B - Bivariate Analysis (Numerical - Categorical, Numerical - Numerical, Categorical - Categorical)\n",
        "\n",
        "M - Multivariate Analysis\n",
        " ]\n",
        "\n",
        "\n",
        "\n"
      ],
      "metadata": {
        "id": "ZrxVaUj-hHfC"
      }
    },
    {
      "cell_type": "markdown",
      "source": [
        "# ***Let's Begin !***"
      ],
      "metadata": {
        "id": "O_i_v8NEhb9l"
      }
    },
    {
      "cell_type": "markdown",
      "source": [
        "## ***1. Know Your Data***"
      ],
      "metadata": {
        "id": "HhfV-JJviCcP"
      }
    },
    {
      "cell_type": "markdown",
      "source": [
        "### Import Libraries"
      ],
      "metadata": {
        "id": "Y3lxredqlCYt"
      }
    },
    {
      "cell_type": "code",
      "source": [
        "# Import Libraries\n",
        "import numpy as np\n",
        "import pandas as pd\n",
        "from matplotlib import pyplot as plt\n",
        "import seaborn as sns\n",
        "import missingno as msno\n",
        "\n",
        "# Mount drive\n",
        "from google.colab import drive\n",
        "drive.mount('/content/drive')"
      ],
      "metadata": {
        "id": "M8Vqi-pPk-HR",
        "colab": {
          "base_uri": "https://localhost:8080/"
        },
        "outputId": "1f66c5e8-bb95-41db-c8b5-6f8095d8683d"
      },
      "execution_count": 1,
      "outputs": [
        {
          "output_type": "stream",
          "name": "stdout",
          "text": [
            "Mounted at /content/drive\n"
          ]
        }
      ]
    },
    {
      "cell_type": "markdown",
      "source": [
        "### Dataset Loading"
      ],
      "metadata": {
        "id": "3RnN4peoiCZX"
      }
    },
    {
      "cell_type": "code",
      "source": [
        "# Load Dataset\n",
        "df = pd.read_csv('/content/drive/MyDrive/Almabetter/Hotel booking/Hotel Bookings.csv')"
      ],
      "metadata": {
        "id": "4CkvbW_SlZ_R"
      },
      "execution_count": 2,
      "outputs": []
    },
    {
      "cell_type": "markdown",
      "source": [
        "### Dataset First View"
      ],
      "metadata": {
        "id": "x71ZqKXriCWQ"
      }
    },
    {
      "cell_type": "code",
      "source": [
        "# Dataset First Look\n",
        "df.head()"
      ],
      "metadata": {
        "id": "LWNFOSvLl09H",
        "colab": {
          "base_uri": "https://localhost:8080/",
          "height": 386
        },
        "outputId": "9dfbd19c-0927-41e9-e0a8-1f503bf32a13"
      },
      "execution_count": 3,
      "outputs": [
        {
          "output_type": "execute_result",
          "data": {
            "text/plain": [
              "          hotel  is_canceled  lead_time  arrival_date_year arrival_date_month  \\\n",
              "0  Resort Hotel            0        342               2015               July   \n",
              "1  Resort Hotel            0        737               2015               July   \n",
              "2  Resort Hotel            0          7               2015               July   \n",
              "3  Resort Hotel            0         13               2015               July   \n",
              "4  Resort Hotel            0         14               2015               July   \n",
              "\n",
              "   arrival_date_week_number  arrival_date_day_of_month  \\\n",
              "0                        27                          1   \n",
              "1                        27                          1   \n",
              "2                        27                          1   \n",
              "3                        27                          1   \n",
              "4                        27                          1   \n",
              "\n",
              "   stays_in_weekend_nights  stays_in_week_nights  adults  ...  deposit_type  \\\n",
              "0                        0                     0       2  ...    No Deposit   \n",
              "1                        0                     0       2  ...    No Deposit   \n",
              "2                        0                     1       1  ...    No Deposit   \n",
              "3                        0                     1       1  ...    No Deposit   \n",
              "4                        0                     2       2  ...    No Deposit   \n",
              "\n",
              "   agent company days_in_waiting_list customer_type   adr  \\\n",
              "0    NaN     NaN                    0     Transient   0.0   \n",
              "1    NaN     NaN                    0     Transient   0.0   \n",
              "2    NaN     NaN                    0     Transient  75.0   \n",
              "3  304.0     NaN                    0     Transient  75.0   \n",
              "4  240.0     NaN                    0     Transient  98.0   \n",
              "\n",
              "   required_car_parking_spaces  total_of_special_requests  reservation_status  \\\n",
              "0                            0                          0           Check-Out   \n",
              "1                            0                          0           Check-Out   \n",
              "2                            0                          0           Check-Out   \n",
              "3                            0                          0           Check-Out   \n",
              "4                            0                          1           Check-Out   \n",
              "\n",
              "  reservation_status_date  \n",
              "0              2015-07-01  \n",
              "1              2015-07-01  \n",
              "2              2015-07-02  \n",
              "3              2015-07-02  \n",
              "4              2015-07-03  \n",
              "\n",
              "[5 rows x 32 columns]"
            ],
            "text/html": [
              "\n",
              "  <div id=\"df-09ef32dd-3844-4a4d-8944-c667b49fc26c\">\n",
              "    <div class=\"colab-df-container\">\n",
              "      <div>\n",
              "<style scoped>\n",
              "    .dataframe tbody tr th:only-of-type {\n",
              "        vertical-align: middle;\n",
              "    }\n",
              "\n",
              "    .dataframe tbody tr th {\n",
              "        vertical-align: top;\n",
              "    }\n",
              "\n",
              "    .dataframe thead th {\n",
              "        text-align: right;\n",
              "    }\n",
              "</style>\n",
              "<table border=\"1\" class=\"dataframe\">\n",
              "  <thead>\n",
              "    <tr style=\"text-align: right;\">\n",
              "      <th></th>\n",
              "      <th>hotel</th>\n",
              "      <th>is_canceled</th>\n",
              "      <th>lead_time</th>\n",
              "      <th>arrival_date_year</th>\n",
              "      <th>arrival_date_month</th>\n",
              "      <th>arrival_date_week_number</th>\n",
              "      <th>arrival_date_day_of_month</th>\n",
              "      <th>stays_in_weekend_nights</th>\n",
              "      <th>stays_in_week_nights</th>\n",
              "      <th>adults</th>\n",
              "      <th>...</th>\n",
              "      <th>deposit_type</th>\n",
              "      <th>agent</th>\n",
              "      <th>company</th>\n",
              "      <th>days_in_waiting_list</th>\n",
              "      <th>customer_type</th>\n",
              "      <th>adr</th>\n",
              "      <th>required_car_parking_spaces</th>\n",
              "      <th>total_of_special_requests</th>\n",
              "      <th>reservation_status</th>\n",
              "      <th>reservation_status_date</th>\n",
              "    </tr>\n",
              "  </thead>\n",
              "  <tbody>\n",
              "    <tr>\n",
              "      <th>0</th>\n",
              "      <td>Resort Hotel</td>\n",
              "      <td>0</td>\n",
              "      <td>342</td>\n",
              "      <td>2015</td>\n",
              "      <td>July</td>\n",
              "      <td>27</td>\n",
              "      <td>1</td>\n",
              "      <td>0</td>\n",
              "      <td>0</td>\n",
              "      <td>2</td>\n",
              "      <td>...</td>\n",
              "      <td>No Deposit</td>\n",
              "      <td>NaN</td>\n",
              "      <td>NaN</td>\n",
              "      <td>0</td>\n",
              "      <td>Transient</td>\n",
              "      <td>0.0</td>\n",
              "      <td>0</td>\n",
              "      <td>0</td>\n",
              "      <td>Check-Out</td>\n",
              "      <td>2015-07-01</td>\n",
              "    </tr>\n",
              "    <tr>\n",
              "      <th>1</th>\n",
              "      <td>Resort Hotel</td>\n",
              "      <td>0</td>\n",
              "      <td>737</td>\n",
              "      <td>2015</td>\n",
              "      <td>July</td>\n",
              "      <td>27</td>\n",
              "      <td>1</td>\n",
              "      <td>0</td>\n",
              "      <td>0</td>\n",
              "      <td>2</td>\n",
              "      <td>...</td>\n",
              "      <td>No Deposit</td>\n",
              "      <td>NaN</td>\n",
              "      <td>NaN</td>\n",
              "      <td>0</td>\n",
              "      <td>Transient</td>\n",
              "      <td>0.0</td>\n",
              "      <td>0</td>\n",
              "      <td>0</td>\n",
              "      <td>Check-Out</td>\n",
              "      <td>2015-07-01</td>\n",
              "    </tr>\n",
              "    <tr>\n",
              "      <th>2</th>\n",
              "      <td>Resort Hotel</td>\n",
              "      <td>0</td>\n",
              "      <td>7</td>\n",
              "      <td>2015</td>\n",
              "      <td>July</td>\n",
              "      <td>27</td>\n",
              "      <td>1</td>\n",
              "      <td>0</td>\n",
              "      <td>1</td>\n",
              "      <td>1</td>\n",
              "      <td>...</td>\n",
              "      <td>No Deposit</td>\n",
              "      <td>NaN</td>\n",
              "      <td>NaN</td>\n",
              "      <td>0</td>\n",
              "      <td>Transient</td>\n",
              "      <td>75.0</td>\n",
              "      <td>0</td>\n",
              "      <td>0</td>\n",
              "      <td>Check-Out</td>\n",
              "      <td>2015-07-02</td>\n",
              "    </tr>\n",
              "    <tr>\n",
              "      <th>3</th>\n",
              "      <td>Resort Hotel</td>\n",
              "      <td>0</td>\n",
              "      <td>13</td>\n",
              "      <td>2015</td>\n",
              "      <td>July</td>\n",
              "      <td>27</td>\n",
              "      <td>1</td>\n",
              "      <td>0</td>\n",
              "      <td>1</td>\n",
              "      <td>1</td>\n",
              "      <td>...</td>\n",
              "      <td>No Deposit</td>\n",
              "      <td>304.0</td>\n",
              "      <td>NaN</td>\n",
              "      <td>0</td>\n",
              "      <td>Transient</td>\n",
              "      <td>75.0</td>\n",
              "      <td>0</td>\n",
              "      <td>0</td>\n",
              "      <td>Check-Out</td>\n",
              "      <td>2015-07-02</td>\n",
              "    </tr>\n",
              "    <tr>\n",
              "      <th>4</th>\n",
              "      <td>Resort Hotel</td>\n",
              "      <td>0</td>\n",
              "      <td>14</td>\n",
              "      <td>2015</td>\n",
              "      <td>July</td>\n",
              "      <td>27</td>\n",
              "      <td>1</td>\n",
              "      <td>0</td>\n",
              "      <td>2</td>\n",
              "      <td>2</td>\n",
              "      <td>...</td>\n",
              "      <td>No Deposit</td>\n",
              "      <td>240.0</td>\n",
              "      <td>NaN</td>\n",
              "      <td>0</td>\n",
              "      <td>Transient</td>\n",
              "      <td>98.0</td>\n",
              "      <td>0</td>\n",
              "      <td>1</td>\n",
              "      <td>Check-Out</td>\n",
              "      <td>2015-07-03</td>\n",
              "    </tr>\n",
              "  </tbody>\n",
              "</table>\n",
              "<p>5 rows × 32 columns</p>\n",
              "</div>\n",
              "      <button class=\"colab-df-convert\" onclick=\"convertToInteractive('df-09ef32dd-3844-4a4d-8944-c667b49fc26c')\"\n",
              "              title=\"Convert this dataframe to an interactive table.\"\n",
              "              style=\"display:none;\">\n",
              "        \n",
              "  <svg xmlns=\"http://www.w3.org/2000/svg\" height=\"24px\"viewBox=\"0 0 24 24\"\n",
              "       width=\"24px\">\n",
              "    <path d=\"M0 0h24v24H0V0z\" fill=\"none\"/>\n",
              "    <path d=\"M18.56 5.44l.94 2.06.94-2.06 2.06-.94-2.06-.94-.94-2.06-.94 2.06-2.06.94zm-11 1L8.5 8.5l.94-2.06 2.06-.94-2.06-.94L8.5 2.5l-.94 2.06-2.06.94zm10 10l.94 2.06.94-2.06 2.06-.94-2.06-.94-.94-2.06-.94 2.06-2.06.94z\"/><path d=\"M17.41 7.96l-1.37-1.37c-.4-.4-.92-.59-1.43-.59-.52 0-1.04.2-1.43.59L10.3 9.45l-7.72 7.72c-.78.78-.78 2.05 0 2.83L4 21.41c.39.39.9.59 1.41.59.51 0 1.02-.2 1.41-.59l7.78-7.78 2.81-2.81c.8-.78.8-2.07 0-2.86zM5.41 20L4 18.59l7.72-7.72 1.47 1.35L5.41 20z\"/>\n",
              "  </svg>\n",
              "      </button>\n",
              "      \n",
              "  <style>\n",
              "    .colab-df-container {\n",
              "      display:flex;\n",
              "      flex-wrap:wrap;\n",
              "      gap: 12px;\n",
              "    }\n",
              "\n",
              "    .colab-df-convert {\n",
              "      background-color: #E8F0FE;\n",
              "      border: none;\n",
              "      border-radius: 50%;\n",
              "      cursor: pointer;\n",
              "      display: none;\n",
              "      fill: #1967D2;\n",
              "      height: 32px;\n",
              "      padding: 0 0 0 0;\n",
              "      width: 32px;\n",
              "    }\n",
              "\n",
              "    .colab-df-convert:hover {\n",
              "      background-color: #E2EBFA;\n",
              "      box-shadow: 0px 1px 2px rgba(60, 64, 67, 0.3), 0px 1px 3px 1px rgba(60, 64, 67, 0.15);\n",
              "      fill: #174EA6;\n",
              "    }\n",
              "\n",
              "    [theme=dark] .colab-df-convert {\n",
              "      background-color: #3B4455;\n",
              "      fill: #D2E3FC;\n",
              "    }\n",
              "\n",
              "    [theme=dark] .colab-df-convert:hover {\n",
              "      background-color: #434B5C;\n",
              "      box-shadow: 0px 1px 3px 1px rgba(0, 0, 0, 0.15);\n",
              "      filter: drop-shadow(0px 1px 2px rgba(0, 0, 0, 0.3));\n",
              "      fill: #FFFFFF;\n",
              "    }\n",
              "  </style>\n",
              "\n",
              "      <script>\n",
              "        const buttonEl =\n",
              "          document.querySelector('#df-09ef32dd-3844-4a4d-8944-c667b49fc26c button.colab-df-convert');\n",
              "        buttonEl.style.display =\n",
              "          google.colab.kernel.accessAllowed ? 'block' : 'none';\n",
              "\n",
              "        async function convertToInteractive(key) {\n",
              "          const element = document.querySelector('#df-09ef32dd-3844-4a4d-8944-c667b49fc26c');\n",
              "          const dataTable =\n",
              "            await google.colab.kernel.invokeFunction('convertToInteractive',\n",
              "                                                     [key], {});\n",
              "          if (!dataTable) return;\n",
              "\n",
              "          const docLinkHtml = 'Like what you see? Visit the ' +\n",
              "            '<a target=\"_blank\" href=https://colab.research.google.com/notebooks/data_table.ipynb>data table notebook</a>'\n",
              "            + ' to learn more about interactive tables.';\n",
              "          element.innerHTML = '';\n",
              "          dataTable['output_type'] = 'display_data';\n",
              "          await google.colab.output.renderOutput(dataTable, element);\n",
              "          const docLink = document.createElement('div');\n",
              "          docLink.innerHTML = docLinkHtml;\n",
              "          element.appendChild(docLink);\n",
              "        }\n",
              "      </script>\n",
              "    </div>\n",
              "  </div>\n",
              "  "
            ]
          },
          "metadata": {},
          "execution_count": 3
        }
      ]
    },
    {
      "cell_type": "markdown",
      "source": [
        "### Dataset Rows & Columns count"
      ],
      "metadata": {
        "id": "7hBIi_osiCS2"
      }
    },
    {
      "cell_type": "code",
      "source": [
        "# Dataset Rows & Columns count\n",
        "df.shape"
      ],
      "metadata": {
        "id": "Kllu7SJgmLij",
        "colab": {
          "base_uri": "https://localhost:8080/"
        },
        "outputId": "98fdc8a8-0af4-4d67-f90c-e1acd2069478"
      },
      "execution_count": 4,
      "outputs": [
        {
          "output_type": "execute_result",
          "data": {
            "text/plain": [
              "(119390, 32)"
            ]
          },
          "metadata": {},
          "execution_count": 4
        }
      ]
    },
    {
      "cell_type": "markdown",
      "source": [
        "### Dataset Information"
      ],
      "metadata": {
        "id": "JlHwYmJAmNHm"
      }
    },
    {
      "cell_type": "code",
      "source": [
        "# Dataset Info\n",
        "df.info()"
      ],
      "metadata": {
        "id": "e9hRXRi6meOf",
        "colab": {
          "base_uri": "https://localhost:8080/"
        },
        "outputId": "4e051035-d4ce-48b7-f489-890e16198a8e"
      },
      "execution_count": 5,
      "outputs": [
        {
          "output_type": "stream",
          "name": "stdout",
          "text": [
            "<class 'pandas.core.frame.DataFrame'>\n",
            "RangeIndex: 119390 entries, 0 to 119389\n",
            "Data columns (total 32 columns):\n",
            " #   Column                          Non-Null Count   Dtype  \n",
            "---  ------                          --------------   -----  \n",
            " 0   hotel                           119390 non-null  object \n",
            " 1   is_canceled                     119390 non-null  int64  \n",
            " 2   lead_time                       119390 non-null  int64  \n",
            " 3   arrival_date_year               119390 non-null  int64  \n",
            " 4   arrival_date_month              119390 non-null  object \n",
            " 5   arrival_date_week_number        119390 non-null  int64  \n",
            " 6   arrival_date_day_of_month       119390 non-null  int64  \n",
            " 7   stays_in_weekend_nights         119390 non-null  int64  \n",
            " 8   stays_in_week_nights            119390 non-null  int64  \n",
            " 9   adults                          119390 non-null  int64  \n",
            " 10  children                        119386 non-null  float64\n",
            " 11  babies                          119390 non-null  int64  \n",
            " 12  meal                            119390 non-null  object \n",
            " 13  country                         118902 non-null  object \n",
            " 14  market_segment                  119390 non-null  object \n",
            " 15  distribution_channel            119390 non-null  object \n",
            " 16  is_repeated_guest               119390 non-null  int64  \n",
            " 17  previous_cancellations          119390 non-null  int64  \n",
            " 18  previous_bookings_not_canceled  119390 non-null  int64  \n",
            " 19  reserved_room_type              119390 non-null  object \n",
            " 20  assigned_room_type              119390 non-null  object \n",
            " 21  booking_changes                 119390 non-null  int64  \n",
            " 22  deposit_type                    119390 non-null  object \n",
            " 23  agent                           103050 non-null  float64\n",
            " 24  company                         6797 non-null    float64\n",
            " 25  days_in_waiting_list            119390 non-null  int64  \n",
            " 26  customer_type                   119390 non-null  object \n",
            " 27  adr                             119390 non-null  float64\n",
            " 28  required_car_parking_spaces     119390 non-null  int64  \n",
            " 29  total_of_special_requests       119390 non-null  int64  \n",
            " 30  reservation_status              119390 non-null  object \n",
            " 31  reservation_status_date         119390 non-null  object \n",
            "dtypes: float64(4), int64(16), object(12)\n",
            "memory usage: 29.1+ MB\n"
          ]
        }
      ]
    },
    {
      "cell_type": "markdown",
      "source": [
        "#### Duplicate Values"
      ],
      "metadata": {
        "id": "35m5QtbWiB9F"
      }
    },
    {
      "cell_type": "code",
      "source": [
        "df.duplicated().sum()"
      ],
      "metadata": {
        "id": "1sLdpKYkmox0",
        "colab": {
          "base_uri": "https://localhost:8080/"
        },
        "outputId": "8740d05f-dc92-4779-805b-03c16f4db394"
      },
      "execution_count": 6,
      "outputs": [
        {
          "output_type": "execute_result",
          "data": {
            "text/plain": [
              "31994"
            ]
          },
          "metadata": {},
          "execution_count": 6
        }
      ]
    },
    {
      "cell_type": "markdown",
      "source": [
        "#### Missing Values/Null Values"
      ],
      "metadata": {
        "id": "PoPl-ycgm1ru"
      }
    },
    {
      "cell_type": "code",
      "source": [
        "# Missing Values/Null Values Count\n",
        "df.isna().sum()"
      ],
      "metadata": {
        "id": "GgHWkxvamxVg",
        "colab": {
          "base_uri": "https://localhost:8080/"
        },
        "outputId": "f170ddb8-cd3d-4555-d726-d96a6ee4ca58"
      },
      "execution_count": 7,
      "outputs": [
        {
          "output_type": "execute_result",
          "data": {
            "text/plain": [
              "hotel                                  0\n",
              "is_canceled                            0\n",
              "lead_time                              0\n",
              "arrival_date_year                      0\n",
              "arrival_date_month                     0\n",
              "arrival_date_week_number               0\n",
              "arrival_date_day_of_month              0\n",
              "stays_in_weekend_nights                0\n",
              "stays_in_week_nights                   0\n",
              "adults                                 0\n",
              "children                               4\n",
              "babies                                 0\n",
              "meal                                   0\n",
              "country                              488\n",
              "market_segment                         0\n",
              "distribution_channel                   0\n",
              "is_repeated_guest                      0\n",
              "previous_cancellations                 0\n",
              "previous_bookings_not_canceled         0\n",
              "reserved_room_type                     0\n",
              "assigned_room_type                     0\n",
              "booking_changes                        0\n",
              "deposit_type                           0\n",
              "agent                              16340\n",
              "company                           112593\n",
              "days_in_waiting_list                   0\n",
              "customer_type                          0\n",
              "adr                                    0\n",
              "required_car_parking_spaces            0\n",
              "total_of_special_requests              0\n",
              "reservation_status                     0\n",
              "reservation_status_date                0\n",
              "dtype: int64"
            ]
          },
          "metadata": {},
          "execution_count": 7
        }
      ]
    },
    {
      "cell_type": "code",
      "source": [
        "# Dataset null values count\n",
        "df.isna().sum().sum()"
      ],
      "metadata": {
        "id": "3q5wnI3om9sJ",
        "colab": {
          "base_uri": "https://localhost:8080/"
        },
        "outputId": "219d1b35-c480-4666-938e-44efa829a94a"
      },
      "execution_count": 8,
      "outputs": [
        {
          "output_type": "execute_result",
          "data": {
            "text/plain": [
              "129425"
            ]
          },
          "metadata": {},
          "execution_count": 8
        }
      ]
    },
    {
      "cell_type": "code",
      "source": [
        "# Visualizing the missing values\n",
        "plt.figure(figsize = (10,5))\n",
        "sns.heatmap(df.isna(),cmap='Reds',cbar = False)\n",
        "plt.show()"
      ],
      "metadata": {
        "id": "Q-LOq6a07SUC",
        "colab": {
          "base_uri": "https://localhost:8080/",
          "height": 478
        },
        "outputId": "254a8515-6df2-4cb2-b76b-2d611a779864"
      },
      "execution_count": 9,
      "outputs": [
        {
          "output_type": "display_data",
          "data": {
            "text/plain": [
              "<Figure size 720x360 with 1 Axes>"
            ],
            "image/png": "[encoded data removed]"
          },
          "metadata": {
            "needs_background": "light"
          }
        }
      ]
    },
    {
      "cell_type": "markdown",
      "source": [
        "### What did you know about your dataset?"
      ],
      "metadata": {
        "id": "H0kj-8xxnORC"
      }
    },
    {
      "cell_type": "markdown",
      "source": [
        "- The dataset contains information on bookings for two types of hotels - a city hotel and a resort hotel.\n",
        "\n",
        "- It has information such as the booking date, length of stay, number of adults, children, babies, the number of available parking spaces, etc.\n",
        "\n",
        "- The dataset has a total of 119,390 records and 32 columns.\n",
        "\n",
        "- The dataset contains missing values, which are mainly in agent and company column."
      ],
      "metadata": {
        "id": "gfoNAAC-nUe_"
      }
    },
    {
      "cell_type": "markdown",
      "source": [
        "## ***2. Understanding Your Variables***"
      ],
      "metadata": {
        "id": "nA9Y7ga8ng1Z"
      }
    },
    {
      "cell_type": "code",
      "source": [
        "# Dataset Columns\n",
        "df.columns"
      ],
      "metadata": {
        "id": "j7xfkqrt5Ag5",
        "colab": {
          "base_uri": "https://localhost:8080/"
        },
        "outputId": "61063ced-1944-4987-984a-eaadcb868062"
      },
      "execution_count": 10,
      "outputs": [
        {
          "output_type": "execute_result",
          "data": {
            "text/plain": [
              "Index(['hotel', 'is_canceled', 'lead_time', 'arrival_date_year',\n",
              "       'arrival_date_month', 'arrival_date_week_number',\n",
              "       'arrival_date_day_of_month', 'stays_in_weekend_nights',\n",
              "       'stays_in_week_nights', 'adults', 'children', 'babies', 'meal',\n",
              "       'country', 'market_segment', 'distribution_channel',\n",
              "       'is_repeated_guest', 'previous_cancellations',\n",
              "       'previous_bookings_not_canceled', 'reserved_room_type',\n",
              "       'assigned_room_type', 'booking_changes', 'deposit_type', 'agent',\n",
              "       'company', 'days_in_waiting_list', 'customer_type', 'adr',\n",
              "       'required_car_parking_spaces', 'total_of_special_requests',\n",
              "       'reservation_status', 'reservation_status_date'],\n",
              "      dtype='object')"
            ]
          },
          "metadata": {},
          "execution_count": 10
        }
      ]
    },
    {
      "cell_type": "code",
      "source": [
        "# Dataset Describe\n",
        "df.describe(include = 'all')"
      ],
      "metadata": {
        "id": "DnOaZdaE5Q5t",
        "colab": {
          "base_uri": "https://localhost:8080/",
          "height": 505
        },
        "outputId": "30ed91ee-77df-47a1-ade4-885ba71beb54"
      },
      "execution_count": 11,
      "outputs": [
        {
          "output_type": "execute_result",
          "data": {
            "text/plain": [
              "             hotel    is_canceled      lead_time  arrival_date_year  \\\n",
              "count       119390  119390.000000  119390.000000      119390.000000   \n",
              "unique           2            NaN            NaN                NaN   \n",
              "top     City Hotel            NaN            NaN                NaN   \n",
              "freq         79330            NaN            NaN                NaN   \n",
              "mean           NaN       0.370416     104.011416        2016.156554   \n",
              "std            NaN       0.482918     106.863097           0.707476   \n",
              "min            NaN       0.000000       0.000000        2015.000000   \n",
              "25%            NaN       0.000000      18.000000        2016.000000   \n",
              "50%            NaN       0.000000      69.000000        2016.000000   \n",
              "75%            NaN       1.000000     160.000000        2017.000000   \n",
              "max            NaN       1.000000     737.000000        2017.000000   \n",
              "\n",
              "       arrival_date_month  arrival_date_week_number  \\\n",
              "count              119390             119390.000000   \n",
              "unique                 12                       NaN   \n",
              "top                August                       NaN   \n",
              "freq                13877                       NaN   \n",
              "mean                  NaN                 27.165173   \n",
              "std                   NaN                 13.605138   \n",
              "min                   NaN                  1.000000   \n",
              "25%                   NaN                 16.000000   \n",
              "50%                   NaN                 28.000000   \n",
              "75%                   NaN                 38.000000   \n",
              "max                   NaN                 53.000000   \n",
              "\n",
              "        arrival_date_day_of_month  stays_in_weekend_nights  \\\n",
              "count               119390.000000            119390.000000   \n",
              "unique                        NaN                      NaN   \n",
              "top                           NaN                      NaN   \n",
              "freq                          NaN                      NaN   \n",
              "mean                    15.798241                 0.927599   \n",
              "std                      8.780829                 0.998613   \n",
              "min                      1.000000                 0.000000   \n",
              "25%                      8.000000                 0.000000   \n",
              "50%                     16.000000                 1.000000   \n",
              "75%                     23.000000                 2.000000   \n",
              "max                     31.000000                19.000000   \n",
              "\n",
              "        stays_in_week_nights         adults  ...  deposit_type          agent  \\\n",
              "count          119390.000000  119390.000000  ...        119390  103050.000000   \n",
              "unique                   NaN            NaN  ...             3            NaN   \n",
              "top                      NaN            NaN  ...    No Deposit            NaN   \n",
              "freq                     NaN            NaN  ...        104641            NaN   \n",
              "mean                2.500302       1.856403  ...           NaN      86.693382   \n",
              "std                 1.908286       0.579261  ...           NaN     110.774548   \n",
              "min                 0.000000       0.000000  ...           NaN       1.000000   \n",
              "25%                 1.000000       2.000000  ...           NaN       9.000000   \n",
              "50%                 2.000000       2.000000  ...           NaN      14.000000   \n",
              "75%                 3.000000       2.000000  ...           NaN     229.000000   \n",
              "max                50.000000      55.000000  ...           NaN     535.000000   \n",
              "\n",
              "            company days_in_waiting_list customer_type            adr  \\\n",
              "count   6797.000000        119390.000000        119390  119390.000000   \n",
              "unique          NaN                  NaN             4            NaN   \n",
              "top             NaN                  NaN     Transient            NaN   \n",
              "freq            NaN                  NaN         89613            NaN   \n",
              "mean     189.266735             2.321149           NaN     101.831122   \n",
              "std      131.655015            17.594721           NaN      50.535790   \n",
              "min        6.000000             0.000000           NaN      -6.380000   \n",
              "25%       62.000000             0.000000           NaN      69.290000   \n",
              "50%      179.000000             0.000000           NaN      94.575000   \n",
              "75%      270.000000             0.000000           NaN     126.000000   \n",
              "max      543.000000           391.000000           NaN    5400.000000   \n",
              "\n",
              "        required_car_parking_spaces  total_of_special_requests  \\\n",
              "count                 119390.000000              119390.000000   \n",
              "unique                          NaN                        NaN   \n",
              "top                             NaN                        NaN   \n",
              "freq                            NaN                        NaN   \n",
              "mean                       0.062518                   0.571363   \n",
              "std                        0.245291                   0.792798   \n",
              "min                        0.000000                   0.000000   \n",
              "25%                        0.000000                   0.000000   \n",
              "50%                        0.000000                   0.000000   \n",
              "75%                        0.000000                   1.000000   \n",
              "max                        8.000000                   5.000000   \n",
              "\n",
              "        reservation_status reservation_status_date  \n",
              "count               119390                  119390  \n",
              "unique                   3                     926  \n",
              "top              Check-Out              2015-10-21  \n",
              "freq                 75166                    1461  \n",
              "mean                   NaN                     NaN  \n",
              "std                    NaN                     NaN  \n",
              "min                    NaN                     NaN  \n",
              "25%                    NaN                     NaN  \n",
              "50%                    NaN                     NaN  \n",
              "75%                    NaN                     NaN  \n",
              "max                    NaN                     NaN  \n",
              "\n",
              "[11 rows x 32 columns]"
            ],
            "text/html": [
              "\n",
              "  <div id=\"df-8e3e3818-dd6a-467b-adf9-a5b278aaa355\">\n",
              "    <div class=\"colab-df-container\">\n",
              "      <div>\n",
              "<style scoped>\n",
              "    .dataframe tbody tr th:only-of-type {\n",
              "        vertical-align: middle;\n",
              "    }\n",
              "\n",
              "    .dataframe tbody tr th {\n",
              "        vertical-align: top;\n",
              "    }\n",
              "\n",
              "    .dataframe thead th {\n",
              "        text-align: right;\n",
              "    }\n",
              "</style>\n",
              "<table border=\"1\" class=\"dataframe\">\n",
              "  <thead>\n",
              "    <tr style=\"text-align: right;\">\n",
              "      <th></th>\n",
              "      <th>hotel</th>\n",
              "      <th>is_canceled</th>\n",
              "      <th>lead_time</th>\n",
              "      <th>arrival_date_year</th>\n",
              "      <th>arrival_date_month</th>\n",
              "      <th>arrival_date_week_number</th>\n",
              "      <th>arrival_date_day_of_month</th>\n",
              "      <th>stays_in_weekend_nights</th>\n",
              "      <th>stays_in_week_nights</th>\n",
              "      <th>adults</th>\n",
              "      <th>...</th>\n",
              "      <th>deposit_type</th>\n",
              "      <th>agent</th>\n",
              "      <th>company</th>\n",
              "      <th>days_in_waiting_list</th>\n",
              "      <th>customer_type</th>\n",
              "      <th>adr</th>\n",
              "      <th>required_car_parking_spaces</th>\n",
              "      <th>total_of_special_requests</th>\n",
              "      <th>reservation_status</th>\n",
              "      <th>reservation_status_date</th>\n",
              "    </tr>\n",
              "  </thead>\n",
              "  <tbody>\n",
              "    <tr>\n",
              "      <th>count</th>\n",
              "      <td>119390</td>\n",
              "      <td>119390.000000</td>\n",
              "      <td>119390.000000</td>\n",
              "      <td>119390.000000</td>\n",
              "      <td>119390</td>\n",
              "      <td>119390.000000</td>\n",
              "      <td>119390.000000</td>\n",
              "      <td>119390.000000</td>\n",
              "      <td>119390.000000</td>\n",
              "      <td>119390.000000</td>\n",
              "      <td>...</td>\n",
              "      <td>119390</td>\n",
              "      <td>103050.000000</td>\n",
              "      <td>6797.000000</td>\n",
              "      <td>119390.000000</td>\n",
              "      <td>119390</td>\n",
              "      <td>119390.000000</td>\n",
              "      <td>119390.000000</td>\n",
              "      <td>119390.000000</td>\n",
              "      <td>119390</td>\n",
              "      <td>119390</td>\n",
              "    </tr>\n",
              "    <tr>\n",
              "      <th>unique</th>\n",
              "      <td>2</td>\n",
              "      <td>NaN</td>\n",
              "      <td>NaN</td>\n",
              "      <td>NaN</td>\n",
              "      <td>12</td>\n",
              "      <td>NaN</td>\n",
              "      <td>NaN</td>\n",
              "      <td>NaN</td>\n",
              "      <td>NaN</td>\n",
              "      <td>NaN</td>\n",
              "      <td>...</td>\n",
              "      <td>3</td>\n",
              "      <td>NaN</td>\n",
              "      <td>NaN</td>\n",
              "      <td>NaN</td>\n",
              "      <td>4</td>\n",
              "      <td>NaN</td>\n",
              "      <td>NaN</td>\n",
              "      <td>NaN</td>\n",
              "      <td>3</td>\n",
              "      <td>926</td>\n",
              "    </tr>\n",
              "    <tr>\n",
              "      <th>top</th>\n",
              "      <td>City Hotel</td>\n",
              "      <td>NaN</td>\n",
              "      <td>NaN</td>\n",
              "      <td>NaN</td>\n",
              "      <td>August</td>\n",
              "      <td>NaN</td>\n",
              "      <td>NaN</td>\n",
              "      <td>NaN</td>\n",
              "      <td>NaN</td>\n",
              "      <td>NaN</td>\n",
              "      <td>...</td>\n",
              "      <td>No Deposit</td>\n",
              "      <td>NaN</td>\n",
              "      <td>NaN</td>\n",
              "      <td>NaN</td>\n",
              "      <td>Transient</td>\n",
              "      <td>NaN</td>\n",
              "      <td>NaN</td>\n",
              "      <td>NaN</td>\n",
              "      <td>Check-Out</td>\n",
              "      <td>2015-10-21</td>\n",
              "    </tr>\n",
              "    <tr>\n",
              "      <th>freq</th>\n",
              "      <td>79330</td>\n",
              "      <td>NaN</td>\n",
              "      <td>NaN</td>\n",
              "      <td>NaN</td>\n",
              "      <td>13877</td>\n",
              "      <td>NaN</td>\n",
              "      <td>NaN</td>\n",
              "      <td>NaN</td>\n",
              "      <td>NaN</td>\n",
              "      <td>NaN</td>\n",
              "      <td>...</td>\n",
              "      <td>104641</td>\n",
              "      <td>NaN</td>\n",
              "      <td>NaN</td>\n",
              "      <td>NaN</td>\n",
              "      <td>89613</td>\n",
              "      <td>NaN</td>\n",
              "      <td>NaN</td>\n",
              "      <td>NaN</td>\n",
              "      <td>75166</td>\n",
              "      <td>1461</td>\n",
              "    </tr>\n",
              "    <tr>\n",
              "      <th>mean</th>\n",
              "      <td>NaN</td>\n",
              "      <td>0.370416</td>\n",
              "      <td>104.011416</td>\n",
              "      <td>2016.156554</td>\n",
              "      <td>NaN</td>\n",
              "      <td>27.165173</td>\n",
              "      <td>15.798241</td>\n",
              "      <td>0.927599</td>\n",
              "      <td>2.500302</td>\n",
              "      <td>1.856403</td>\n",
              "      <td>...</td>\n",
              "      <td>NaN</td>\n",
              "      <td>86.693382</td>\n",
              "      <td>189.266735</td>\n",
              "      <td>2.321149</td>\n",
              "      <td>NaN</td>\n",
              "      <td>101.831122</td>\n",
              "      <td>0.062518</td>\n",
              "      <td>0.571363</td>\n",
              "      <td>NaN</td>\n",
              "      <td>NaN</td>\n",
              "    </tr>\n",
              "    <tr>\n",
              "      <th>std</th>\n",
              "      <td>NaN</td>\n",
              "      <td>0.482918</td>\n",
              "      <td>106.863097</td>\n",
              "      <td>0.707476</td>\n",
              "      <td>NaN</td>\n",
              "      <td>13.605138</td>\n",
              "      <td>8.780829</td>\n",
              "      <td>0.998613</td>\n",
              "      <td>1.908286</td>\n",
              "      <td>0.579261</td>\n",
              "      <td>...</td>\n",
              "      <td>NaN</td>\n",
              "      <td>110.774548</td>\n",
              "      <td>131.655015</td>\n",
              "      <td>17.594721</td>\n",
              "      <td>NaN</td>\n",
              "      <td>50.535790</td>\n",
              "      <td>0.245291</td>\n",
              "      <td>0.792798</td>\n",
              "      <td>NaN</td>\n",
              "      <td>NaN</td>\n",
              "    </tr>\n",
              "    <tr>\n",
              "      <th>min</th>\n",
              "      <td>NaN</td>\n",
              "      <td>0.000000</td>\n",
              "      <td>0.000000</td>\n",
              "      <td>2015.000000</td>\n",
              "      <td>NaN</td>\n",
              "      <td>1.000000</td>\n",
              "      <td>1.000000</td>\n",
              "      <td>0.000000</td>\n",
              "      <td>0.000000</td>\n",
              "      <td>0.000000</td>\n",
              "      <td>...</td>\n",
              "      <td>NaN</td>\n",
              "      <td>1.000000</td>\n",
              "      <td>6.000000</td>\n",
              "      <td>0.000000</td>\n",
              "      <td>NaN</td>\n",
              "      <td>-6.380000</td>\n",
              "      <td>0.000000</td>\n",
              "      <td>0.000000</td>\n",
              "      <td>NaN</td>\n",
              "      <td>NaN</td>\n",
              "    </tr>\n",
              "    <tr>\n",
              "      <th>25%</th>\n",
              "      <td>NaN</td>\n",
              "      <td>0.000000</td>\n",
              "      <td>18.000000</td>\n",
              "      <td>2016.000000</td>\n",
              "      <td>NaN</td>\n",
              "      <td>16.000000</td>\n",
              "      <td>8.000000</td>\n",
              "      <td>0.000000</td>\n",
              "      <td>1.000000</td>\n",
              "      <td>2.000000</td>\n",
              "      <td>...</td>\n",
              "      <td>NaN</td>\n",
              "      <td>9.000000</td>\n",
              "      <td>62.000000</td>\n",
              "      <td>0.000000</td>\n",
              "      <td>NaN</td>\n",
              "      <td>69.290000</td>\n",
              "      <td>0.000000</td>\n",
              "      <td>0.000000</td>\n",
              "      <td>NaN</td>\n",
              "      <td>NaN</td>\n",
              "    </tr>\n",
              "    <tr>\n",
              "      <th>50%</th>\n",
              "      <td>NaN</td>\n",
              "      <td>0.000000</td>\n",
              "      <td>69.000000</td>\n",
              "      <td>2016.000000</td>\n",
              "      <td>NaN</td>\n",
              "      <td>28.000000</td>\n",
              "      <td>16.000000</td>\n",
              "      <td>1.000000</td>\n",
              "      <td>2.000000</td>\n",
              "      <td>2.000000</td>\n",
              "      <td>...</td>\n",
              "      <td>NaN</td>\n",
              "      <td>14.000000</td>\n",
              "      <td>179.000000</td>\n",
              "      <td>0.000000</td>\n",
              "      <td>NaN</td>\n",
              "      <td>94.575000</td>\n",
              "      <td>0.000000</td>\n",
              "      <td>0.000000</td>\n",
              "      <td>NaN</td>\n",
              "      <td>NaN</td>\n",
              "    </tr>\n",
              "    <tr>\n",
              "      <th>75%</th>\n",
              "      <td>NaN</td>\n",
              "      <td>1.000000</td>\n",
              "      <td>160.000000</td>\n",
              "      <td>2017.000000</td>\n",
              "      <td>NaN</td>\n",
              "      <td>38.000000</td>\n",
              "      <td>23.000000</td>\n",
              "      <td>2.000000</td>\n",
              "      <td>3.000000</td>\n",
              "      <td>2.000000</td>\n",
              "      <td>...</td>\n",
              "      <td>NaN</td>\n",
              "      <td>229.000000</td>\n",
              "      <td>270.000000</td>\n",
              "      <td>0.000000</td>\n",
              "      <td>NaN</td>\n",
              "      <td>126.000000</td>\n",
              "      <td>0.000000</td>\n",
              "      <td>1.000000</td>\n",
              "      <td>NaN</td>\n",
              "      <td>NaN</td>\n",
              "    </tr>\n",
              "    <tr>\n",
              "      <th>max</th>\n",
              "      <td>NaN</td>\n",
              "      <td>1.000000</td>\n",
              "      <td>737.000000</td>\n",
              "      <td>2017.000000</td>\n",
              "      <td>NaN</td>\n",
              "      <td>53.000000</td>\n",
              "      <td>31.000000</td>\n",
              "      <td>19.000000</td>\n",
              "      <td>50.000000</td>\n",
              "      <td>55.000000</td>\n",
              "      <td>...</td>\n",
              "      <td>NaN</td>\n",
              "      <td>535.000000</td>\n",
              "      <td>543.000000</td>\n",
              "      <td>391.000000</td>\n",
              "      <td>NaN</td>\n",
              "      <td>5400.000000</td>\n",
              "      <td>8.000000</td>\n",
              "      <td>5.000000</td>\n",
              "      <td>NaN</td>\n",
              "      <td>NaN</td>\n",
              "    </tr>\n",
              "  </tbody>\n",
              "</table>\n",
              "<p>11 rows × 32 columns</p>\n",
              "</div>\n",
              "      <button class=\"colab-df-convert\" onclick=\"convertToInteractive('df-8e3e3818-dd6a-467b-adf9-a5b278aaa355')\"\n",
              "              title=\"Convert this dataframe to an interactive table.\"\n",
              "              style=\"display:none;\">\n",
              "        \n",
              "  <svg xmlns=\"http://www.w3.org/2000/svg\" height=\"24px\"viewBox=\"0 0 24 24\"\n",
              "       width=\"24px\">\n",
              "    <path d=\"M0 0h24v24H0V0z\" fill=\"none\"/>\n",
              "    <path d=\"M18.56 5.44l.94 2.06.94-2.06 2.06-.94-2.06-.94-.94-2.06-.94 2.06-2.06.94zm-11 1L8.5 8.5l.94-2.06 2.06-.94-2.06-.94L8.5 2.5l-.94 2.06-2.06.94zm10 10l.94 2.06.94-2.06 2.06-.94-2.06-.94-.94-2.06-.94 2.06-2.06.94z\"/><path d=\"M17.41 7.96l-1.37-1.37c-.4-.4-.92-.59-1.43-.59-.52 0-1.04.2-1.43.59L10.3 9.45l-7.72 7.72c-.78.78-.78 2.05 0 2.83L4 21.41c.39.39.9.59 1.41.59.51 0 1.02-.2 1.41-.59l7.78-7.78 2.81-2.81c.8-.78.8-2.07 0-2.86zM5.41 20L4 18.59l7.72-7.72 1.47 1.35L5.41 20z\"/>\n",
              "  </svg>\n",
              "      </button>\n",
              "      \n",
              "  <style>\n",
              "    .colab-df-container {\n",
              "      display:flex;\n",
              "      flex-wrap:wrap;\n",
              "      gap: 12px;\n",
              "    }\n",
              "\n",
              "    .colab-df-convert {\n",
              "      background-color: #E8F0FE;\n",
              "      border: none;\n",
              "      border-radius: 50%;\n",
              "      cursor: pointer;\n",
              "      display: none;\n",
              "      fill: #1967D2;\n",
              "      height: 32px;\n",
              "      padding: 0 0 0 0;\n",
              "      width: 32px;\n",
              "    }\n",
              "\n",
              "    .colab-df-convert:hover {\n",
              "      background-color: #E2EBFA;\n",
              "      box-shadow: 0px 1px 2px rgba(60, 64, 67, 0.3), 0px 1px 3px 1px rgba(60, 64, 67, 0.15);\n",
              "      fill: #174EA6;\n",
              "    }\n",
              "\n",
              "    [theme=dark] .colab-df-convert {\n",
              "      background-color: #3B4455;\n",
              "      fill: #D2E3FC;\n",
              "    }\n",
              "\n",
              "    [theme=dark] .colab-df-convert:hover {\n",
              "      background-color: #434B5C;\n",
              "      box-shadow: 0px 1px 3px 1px rgba(0, 0, 0, 0.15);\n",
              "      filter: drop-shadow(0px 1px 2px rgba(0, 0, 0, 0.3));\n",
              "      fill: #FFFFFF;\n",
              "    }\n",
              "  </style>\n",
              "\n",
              "      <script>\n",
              "        const buttonEl =\n",
              "          document.querySelector('#df-8e3e3818-dd6a-467b-adf9-a5b278aaa355 button.colab-df-convert');\n",
              "        buttonEl.style.display =\n",
              "          google.colab.kernel.accessAllowed ? 'block' : 'none';\n",
              "\n",
              "        async function convertToInteractive(key) {\n",
              "          const element = document.querySelector('#df-8e3e3818-dd6a-467b-adf9-a5b278aaa355');\n",
              "          const dataTable =\n",
              "            await google.colab.kernel.invokeFunction('convertToInteractive',\n",
              "                                                     [key], {});\n",
              "          if (!dataTable) return;\n",
              "\n",
              "          const docLinkHtml = 'Like what you see? Visit the ' +\n",
              "            '<a target=\"_blank\" href=https://colab.research.google.com/notebooks/data_table.ipynb>data table notebook</a>'\n",
              "            + ' to learn more about interactive tables.';\n",
              "          element.innerHTML = '';\n",
              "          dataTable['output_type'] = 'display_data';\n",
              "          await google.colab.output.renderOutput(dataTable, element);\n",
              "          const docLink = document.createElement('div');\n",
              "          docLink.innerHTML = docLinkHtml;\n",
              "          element.appendChild(docLink);\n",
              "        }\n",
              "      </script>\n",
              "    </div>\n",
              "  </div>\n",
              "  "
            ]
          },
          "metadata": {},
          "execution_count": 11
        }
      ]
    },
    {
      "cell_type": "markdown",
      "source": [
        "### Variables Description "
      ],
      "metadata": {
        "id": "PBTbrJXOngz2"
      }
    },
    {
      "cell_type": "markdown",
      "source": [
        "Variable description are as follows:-\n",
        "\n",
        "1. hotel: The type of hotel that are a resort hotel or a city hotel.\n",
        "\n",
        "2. is_canceled: Whether the booking was canceled or not, where 1 indicates the booking was canceled and 0 indicates the booking was not canceled.\n",
        "\n",
        "3. lead_time: The number of days between the booking date and the arrival date.\n",
        "\n",
        "4. arrival_date_year: The year of arrival date.\n",
        "\n",
        "5. arrival_date_month: The month of arrival date.\n",
        "\n",
        "6. arrival_date_week_number: The week number of arrival date.\n",
        "\n",
        "7. arrival_date_day_of_month: The day of the month of arrival date.\n",
        "\n",
        "8. stays_in_weekend_nights: The number of weekend nights (Saturday or Sunday) the guest stayed or booked to stay at the hotel.\n",
        "\n",
        "9. stays_in_week_nights: The number of week nights (Monday to Friday) the guest stayed or booked to stay at the hotel.\n",
        "\n",
        "10. adults: The number of adults in the booking.\n",
        "\n",
        "11. children: The number of children in the booking.\n",
        "\n",
        "12. babies: The number of babies in the booking.\n",
        "\n",
        "13. meal: The type of meal booked.\n",
        "\n",
        "14. country: The country of origin of the guest.\n",
        "\n",
        "15. market_segment: The market segment designation, such as Direct, Corporate, or Online TA.\n",
        "\n",
        "16. distribution_channel: The distribution channel used to book the reservation.\n",
        "\n",
        "17. is_repeated_guest: Whether the booking guest is a repeated guest, where 1 indicates that the guest has previously stayed at the hotel and 0 indicates that the guest is a new guest.\n",
        "\n",
        "18. previous_cancellations: The number of previous bookings that were canceled by the guest.\n",
        "\n",
        "19. previous_bookings_not_canceled: The number of previous bookings that were not canceled by the guest.\n",
        "\n",
        "20. reserved_room_type: The room type reserved by the guest.\n",
        "\n",
        "21. assigned_room_type: The type of room assigned to the booking.\n",
        "\n",
        "22. booking_changes: The number of changes made to the booking from the moment the booking was entered into the system until the day of arrival.\n",
        "\n",
        "23. deposit_type: The type of deposit made by the guest, such as No Deposit, Refundable, or Non-Refundable.\n",
        "\n",
        "24. agent: The ID of the travel agency that made the booking.\n",
        "\n",
        "25. company: The ID of the company or entity that made the booking.\n",
        "\n",
        "26. days_in_waiting_list: The number of days the booking was on the waiting list before it was confirmed to the customer.\n",
        "\n",
        "27. customer_type: The type of booking, such as Contract, Group, or Transient.\n",
        "\n",
        "28. adr: The average daily rate, which is the total booking amount divided by the total number of nights stayed.\n",
        "\n",
        "29. required_car_parking_spaces: The number of car parking spaces required by the guest.\n",
        "\n",
        "30. total_of_special_requests: The number of special requests made by the guest.\n",
        "\n"
      ],
      "metadata": {
        "id": "aJV4KIxSnxay"
      }
    },
    {
      "cell_type": "markdown",
      "source": [
        "### Check Unique Values for each variable."
      ],
      "metadata": {
        "id": "u3PMJOP6ngxN"
      }
    },
    {
      "cell_type": "code",
      "source": [
        "# Check Unique Values for each variable.\n",
        "df.nunique()"
      ],
      "metadata": {
        "id": "zms12Yq5n-jE",
        "colab": {
          "base_uri": "https://localhost:8080/"
        },
        "outputId": "e997b62b-7c8d-4f32-88d7-60f1c9004952"
      },
      "execution_count": 12,
      "outputs": [
        {
          "output_type": "execute_result",
          "data": {
            "text/plain": [
              "hotel                                2\n",
              "is_canceled                          2\n",
              "lead_time                          479\n",
              "arrival_date_year                    3\n",
              "arrival_date_month                  12\n",
              "arrival_date_week_number            53\n",
              "arrival_date_day_of_month           31\n",
              "stays_in_weekend_nights             17\n",
              "stays_in_week_nights                35\n",
              "adults                              14\n",
              "children                             5\n",
              "babies                               5\n",
              "meal                                 5\n",
              "country                            177\n",
              "market_segment                       8\n",
              "distribution_channel                 5\n",
              "is_repeated_guest                    2\n",
              "previous_cancellations              15\n",
              "previous_bookings_not_canceled      73\n",
              "reserved_room_type                  10\n",
              "assigned_room_type                  12\n",
              "booking_changes                     21\n",
              "deposit_type                         3\n",
              "agent                              333\n",
              "company                            352\n",
              "days_in_waiting_list               128\n",
              "customer_type                        4\n",
              "adr                               8879\n",
              "required_car_parking_spaces          5\n",
              "total_of_special_requests            6\n",
              "reservation_status                   3\n",
              "reservation_status_date            926\n",
              "dtype: int64"
            ]
          },
          "metadata": {},
          "execution_count": 12
        }
      ]
    },
    {
      "cell_type": "markdown",
      "source": [
        "## 3. ***Data Wrangling***"
      ],
      "metadata": {
        "id": "dauF4eBmngu3"
      }
    },
    {
      "cell_type": "markdown",
      "source": [
        "### Data Wrangling Code"
      ],
      "metadata": {
        "id": "bKJF3rekwFvQ"
      }
    },
    {
      "cell_type": "code",
      "source": [
        "# Write your code to make your dataset analysis ready.\n",
        "# Dropping duplicate values\n",
        "df.drop_duplicates(inplace = True)"
      ],
      "metadata": {
        "id": "wk-9a2fpoLcV"
      },
      "execution_count": 13,
      "outputs": []
    },
    {
      "cell_type": "code",
      "source": [
        "df.shape"
      ],
      "metadata": {
        "id": "jBRFAY10xdD1",
        "colab": {
          "base_uri": "https://localhost:8080/"
        },
        "outputId": "e5022292-5c22-4722-d42d-67350557b492"
      },
      "execution_count": 14,
      "outputs": [
        {
          "output_type": "execute_result",
          "data": {
            "text/plain": [
              "(87396, 32)"
            ]
          },
          "metadata": {},
          "execution_count": 14
        }
      ]
    },
    {
      "cell_type": "code",
      "source": [
        "# Fill null values in company and agent column by 0\n",
        "df[['company','agent']] = df[['company','agent']].fillna(0)"
      ],
      "metadata": {
        "id": "rx3FQxoTxgeP"
      },
      "execution_count": 15,
      "outputs": []
    },
    {
      "cell_type": "code",
      "source": [
        "# There are 4 null values in children column so replace them by mean values of children\n",
        "df['children'].fillna(df['children'].mean(), inplace = True)"
      ],
      "metadata": {
        "id": "SV1Vsa4UxsM4"
      },
      "execution_count": 16,
      "outputs": []
    },
    {
      "cell_type": "code",
      "source": [
        "# Fill missing values in country column by 'others'\n",
        "df['country'].fillna('others', inplace = True)"
      ],
      "metadata": {
        "id": "6LLtOS8qxuGQ"
      },
      "execution_count": 17,
      "outputs": []
    },
    {
      "cell_type": "code",
      "source": [
        "# Checking if all null values are removed\n",
        "df.isnull().sum()"
      ],
      "metadata": {
        "id": "PENLg4lzxuJG",
        "colab": {
          "base_uri": "https://localhost:8080/"
        },
        "outputId": "6d70f303-61cb-4970-edf5-a6bcf2d8289c"
      },
      "execution_count": 18,
      "outputs": [
        {
          "output_type": "execute_result",
          "data": {
            "text/plain": [
              "hotel                             0\n",
              "is_canceled                       0\n",
              "lead_time                         0\n",
              "arrival_date_year                 0\n",
              "arrival_date_month                0\n",
              "arrival_date_week_number          0\n",
              "arrival_date_day_of_month         0\n",
              "stays_in_weekend_nights           0\n",
              "stays_in_week_nights              0\n",
              "adults                            0\n",
              "children                          0\n",
              "babies                            0\n",
              "meal                              0\n",
              "country                           0\n",
              "market_segment                    0\n",
              "distribution_channel              0\n",
              "is_repeated_guest                 0\n",
              "previous_cancellations            0\n",
              "previous_bookings_not_canceled    0\n",
              "reserved_room_type                0\n",
              "assigned_room_type                0\n",
              "booking_changes                   0\n",
              "deposit_type                      0\n",
              "agent                             0\n",
              "company                           0\n",
              "days_in_waiting_list              0\n",
              "customer_type                     0\n",
              "adr                               0\n",
              "required_car_parking_spaces       0\n",
              "total_of_special_requests         0\n",
              "reservation_status                0\n",
              "reservation_status_date           0\n",
              "dtype: int64"
            ]
          },
          "metadata": {},
          "execution_count": 18
        }
      ]
    },
    {
      "cell_type": "code",
      "source": [
        "# Converting datatype of columns 'children', 'company' and 'agent' from float to int.\n",
        "df[['children', 'company', 'agent']] = df[['children', 'company', 'agent']].astype('int64')"
      ],
      "metadata": {
        "id": "5mzzJD_1x4YA"
      },
      "execution_count": 19,
      "outputs": []
    },
    {
      "cell_type": "code",
      "source": [
        "# changing datatype of column 'reservation_status_date' to data_type.\n",
        "df['reservation_status_date'] = pd.to_datetime(df['reservation_status_date'], format = '%Y-%m-%d')"
      ],
      "metadata": {
        "id": "FUv8AXZBzoJA"
      },
      "execution_count": 20,
      "outputs": []
    },
    {
      "cell_type": "code",
      "source": [
        "# Adding total staying days in hotels\n",
        "df['total_stay'] = df['stays_in_weekend_nights']+df['stays_in_week_nights']"
      ],
      "metadata": {
        "id": "VdNPXCm2zrIP"
      },
      "execution_count": 21,
      "outputs": []
    },
    {
      "cell_type": "code",
      "source": [
        "# Adding total people num as column, i.e. total people num = num of adults + children + babies\n",
        "df['total_people'] = df['adults']+df['children']+df['babies']"
      ],
      "metadata": {
        "id": "72V5VFGKztTu"
      },
      "execution_count": 22,
      "outputs": []
    },
    {
      "cell_type": "code",
      "source": [
        "df.head()"
      ],
      "metadata": {
        "id": "_6hKYU07zzvN",
        "colab": {
          "base_uri": "https://localhost:8080/",
          "height": 386
        },
        "outputId": "0ee8ffec-8149-45a5-e67f-a3ee7eb3f2e5"
      },
      "execution_count": 23,
      "outputs": [
        {
          "output_type": "execute_result",
          "data": {
            "text/plain": [
              "          hotel  is_canceled  lead_time  arrival_date_year arrival_date_month  \\\n",
              "0  Resort Hotel            0        342               2015               July   \n",
              "1  Resort Hotel            0        737               2015               July   \n",
              "2  Resort Hotel            0          7               2015               July   \n",
              "3  Resort Hotel            0         13               2015               July   \n",
              "4  Resort Hotel            0         14               2015               July   \n",
              "\n",
              "   arrival_date_week_number  arrival_date_day_of_month  \\\n",
              "0                        27                          1   \n",
              "1                        27                          1   \n",
              "2                        27                          1   \n",
              "3                        27                          1   \n",
              "4                        27                          1   \n",
              "\n",
              "   stays_in_weekend_nights  stays_in_week_nights  adults  ...  company  \\\n",
              "0                        0                     0       2  ...        0   \n",
              "1                        0                     0       2  ...        0   \n",
              "2                        0                     1       1  ...        0   \n",
              "3                        0                     1       1  ...        0   \n",
              "4                        0                     2       2  ...        0   \n",
              "\n",
              "   days_in_waiting_list customer_type   adr required_car_parking_spaces  \\\n",
              "0                     0     Transient   0.0                           0   \n",
              "1                     0     Transient   0.0                           0   \n",
              "2                     0     Transient  75.0                           0   \n",
              "3                     0     Transient  75.0                           0   \n",
              "4                     0     Transient  98.0                           0   \n",
              "\n",
              "  total_of_special_requests  reservation_status  reservation_status_date  \\\n",
              "0                         0           Check-Out               2015-07-01   \n",
              "1                         0           Check-Out               2015-07-01   \n",
              "2                         0           Check-Out               2015-07-02   \n",
              "3                         0           Check-Out               2015-07-02   \n",
              "4                         1           Check-Out               2015-07-03   \n",
              "\n",
              "   total_stay total_people  \n",
              "0           0            2  \n",
              "1           0            2  \n",
              "2           1            1  \n",
              "3           1            1  \n",
              "4           2            2  \n",
              "\n",
              "[5 rows x 34 columns]"
            ],
            "text/html": [
              "\n",
              "  <div id=\"df-e8501eaf-f70d-4d4e-ab5b-fbf98f85357d\">\n",
              "    <div class=\"colab-df-container\">\n",
              "      <div>\n",
              "<style scoped>\n",
              "    .dataframe tbody tr th:only-of-type {\n",
              "        vertical-align: middle;\n",
              "    }\n",
              "\n",
              "    .dataframe tbody tr th {\n",
              "        vertical-align: top;\n",
              "    }\n",
              "\n",
              "    .dataframe thead th {\n",
              "        text-align: right;\n",
              "    }\n",
              "</style>\n",
              "<table border=\"1\" class=\"dataframe\">\n",
              "  <thead>\n",
              "    <tr style=\"text-align: right;\">\n",
              "      <th></th>\n",
              "      <th>hotel</th>\n",
              "      <th>is_canceled</th>\n",
              "      <th>lead_time</th>\n",
              "      <th>arrival_date_year</th>\n",
              "      <th>arrival_date_month</th>\n",
              "      <th>arrival_date_week_number</th>\n",
              "      <th>arrival_date_day_of_month</th>\n",
              "      <th>stays_in_weekend_nights</th>\n",
              "      <th>stays_in_week_nights</th>\n",
              "      <th>adults</th>\n",
              "      <th>...</th>\n",
              "      <th>company</th>\n",
              "      <th>days_in_waiting_list</th>\n",
              "      <th>customer_type</th>\n",
              "      <th>adr</th>\n",
              "      <th>required_car_parking_spaces</th>\n",
              "      <th>total_of_special_requests</th>\n",
              "      <th>reservation_status</th>\n",
              "      <th>reservation_status_date</th>\n",
              "      <th>total_stay</th>\n",
              "      <th>total_people</th>\n",
              "    </tr>\n",
              "  </thead>\n",
              "  <tbody>\n",
              "    <tr>\n",
              "      <th>0</th>\n",
              "      <td>Resort Hotel</td>\n",
              "      <td>0</td>\n",
              "      <td>342</td>\n",
              "      <td>2015</td>\n",
              "      <td>July</td>\n",
              "      <td>27</td>\n",
              "      <td>1</td>\n",
              "      <td>0</td>\n",
              "      <td>0</td>\n",
              "      <td>2</td>\n",
              "      <td>...</td>\n",
              "      <td>0</td>\n",
              "      <td>0</td>\n",
              "      <td>Transient</td>\n",
              "      <td>0.0</td>\n",
              "      <td>0</td>\n",
              "      <td>0</td>\n",
              "      <td>Check-Out</td>\n",
              "      <td>2015-07-01</td>\n",
              "      <td>0</td>\n",
              "      <td>2</td>\n",
              "    </tr>\n",
              "    <tr>\n",
              "      <th>1</th>\n",
              "      <td>Resort Hotel</td>\n",
              "      <td>0</td>\n",
              "      <td>737</td>\n",
              "      <td>2015</td>\n",
              "      <td>July</td>\n",
              "      <td>27</td>\n",
              "      <td>1</td>\n",
              "      <td>0</td>\n",
              "      <td>0</td>\n",
              "      <td>2</td>\n",
              "      <td>...</td>\n",
              "      <td>0</td>\n",
              "      <td>0</td>\n",
              "      <td>Transient</td>\n",
              "      <td>0.0</td>\n",
              "      <td>0</td>\n",
              "      <td>0</td>\n",
              "      <td>Check-Out</td>\n",
              "      <td>2015-07-01</td>\n",
              "      <td>0</td>\n",
              "      <td>2</td>\n",
              "    </tr>\n",
              "    <tr>\n",
              "      <th>2</th>\n",
              "      <td>Resort Hotel</td>\n",
              "      <td>0</td>\n",
              "      <td>7</td>\n",
              "      <td>2015</td>\n",
              "      <td>July</td>\n",
              "      <td>27</td>\n",
              "      <td>1</td>\n",
              "      <td>0</td>\n",
              "      <td>1</td>\n",
              "      <td>1</td>\n",
              "      <td>...</td>\n",
              "      <td>0</td>\n",
              "      <td>0</td>\n",
              "      <td>Transient</td>\n",
              "      <td>75.0</td>\n",
              "      <td>0</td>\n",
              "      <td>0</td>\n",
              "      <td>Check-Out</td>\n",
              "      <td>2015-07-02</td>\n",
              "      <td>1</td>\n",
              "      <td>1</td>\n",
              "    </tr>\n",
              "    <tr>\n",
              "      <th>3</th>\n",
              "      <td>Resort Hotel</td>\n",
              "      <td>0</td>\n",
              "      <td>13</td>\n",
              "      <td>2015</td>\n",
              "      <td>July</td>\n",
              "      <td>27</td>\n",
              "      <td>1</td>\n",
              "      <td>0</td>\n",
              "      <td>1</td>\n",
              "      <td>1</td>\n",
              "      <td>...</td>\n",
              "      <td>0</td>\n",
              "      <td>0</td>\n",
              "      <td>Transient</td>\n",
              "      <td>75.0</td>\n",
              "      <td>0</td>\n",
              "      <td>0</td>\n",
              "      <td>Check-Out</td>\n",
              "      <td>2015-07-02</td>\n",
              "      <td>1</td>\n",
              "      <td>1</td>\n",
              "    </tr>\n",
              "    <tr>\n",
              "      <th>4</th>\n",
              "      <td>Resort Hotel</td>\n",
              "      <td>0</td>\n",
              "      <td>14</td>\n",
              "      <td>2015</td>\n",
              "      <td>July</td>\n",
              "      <td>27</td>\n",
              "      <td>1</td>\n",
              "      <td>0</td>\n",
              "      <td>2</td>\n",
              "      <td>2</td>\n",
              "      <td>...</td>\n",
              "      <td>0</td>\n",
              "      <td>0</td>\n",
              "      <td>Transient</td>\n",
              "      <td>98.0</td>\n",
              "      <td>0</td>\n",
              "      <td>1</td>\n",
              "      <td>Check-Out</td>\n",
              "      <td>2015-07-03</td>\n",
              "      <td>2</td>\n",
              "      <td>2</td>\n",
              "    </tr>\n",
              "  </tbody>\n",
              "</table>\n",
              "<p>5 rows × 34 columns</p>\n",
              "</div>\n",
              "      <button class=\"colab-df-convert\" onclick=\"convertToInteractive('df-e8501eaf-f70d-4d4e-ab5b-fbf98f85357d')\"\n",
              "              title=\"Convert this dataframe to an interactive table.\"\n",
              "              style=\"display:none;\">\n",
              "        \n",
              "  <svg xmlns=\"http://www.w3.org/2000/svg\" height=\"24px\"viewBox=\"0 0 24 24\"\n",
              "       width=\"24px\">\n",
              "    <path d=\"M0 0h24v24H0V0z\" fill=\"none\"/>\n",
              "    <path d=\"M18.56 5.44l.94 2.06.94-2.06 2.06-.94-2.06-.94-.94-2.06-.94 2.06-2.06.94zm-11 1L8.5 8.5l.94-2.06 2.06-.94-2.06-.94L8.5 2.5l-.94 2.06-2.06.94zm10 10l.94 2.06.94-2.06 2.06-.94-2.06-.94-.94-2.06-.94 2.06-2.06.94z\"/><path d=\"M17.41 7.96l-1.37-1.37c-.4-.4-.92-.59-1.43-.59-.52 0-1.04.2-1.43.59L10.3 9.45l-7.72 7.72c-.78.78-.78 2.05 0 2.83L4 21.41c.39.39.9.59 1.41.59.51 0 1.02-.2 1.41-.59l7.78-7.78 2.81-2.81c.8-.78.8-2.07 0-2.86zM5.41 20L4 18.59l7.72-7.72 1.47 1.35L5.41 20z\"/>\n",
              "  </svg>\n",
              "      </button>\n",
              "      \n",
              "  <style>\n",
              "    .colab-df-container {\n",
              "      display:flex;\n",
              "      flex-wrap:wrap;\n",
              "      gap: 12px;\n",
              "    }\n",
              "\n",
              "    .colab-df-convert {\n",
              "      background-color: #E8F0FE;\n",
              "      border: none;\n",
              "      border-radius: 50%;\n",
              "      cursor: pointer;\n",
              "      display: none;\n",
              "      fill: #1967D2;\n",
              "      height: 32px;\n",
              "      padding: 0 0 0 0;\n",
              "      width: 32px;\n",
              "    }\n",
              "\n",
              "    .colab-df-convert:hover {\n",
              "      background-color: #E2EBFA;\n",
              "      box-shadow: 0px 1px 2px rgba(60, 64, 67, 0.3), 0px 1px 3px 1px rgba(60, 64, 67, 0.15);\n",
              "      fill: #174EA6;\n",
              "    }\n",
              "\n",
              "    [theme=dark] .colab-df-convert {\n",
              "      background-color: #3B4455;\n",
              "      fill: #D2E3FC;\n",
              "    }\n",
              "\n",
              "    [theme=dark] .colab-df-convert:hover {\n",
              "      background-color: #434B5C;\n",
              "      box-shadow: 0px 1px 3px 1px rgba(0, 0, 0, 0.15);\n",
              "      filter: drop-shadow(0px 1px 2px rgba(0, 0, 0, 0.3));\n",
              "      fill: #FFFFFF;\n",
              "    }\n",
              "  </style>\n",
              "\n",
              "      <script>\n",
              "        const buttonEl =\n",
              "          document.querySelector('#df-e8501eaf-f70d-4d4e-ab5b-fbf98f85357d button.colab-df-convert');\n",
              "        buttonEl.style.display =\n",
              "          google.colab.kernel.accessAllowed ? 'block' : 'none';\n",
              "\n",
              "        async function convertToInteractive(key) {\n",
              "          const element = document.querySelector('#df-e8501eaf-f70d-4d4e-ab5b-fbf98f85357d');\n",
              "          const dataTable =\n",
              "            await google.colab.kernel.invokeFunction('convertToInteractive',\n",
              "                                                     [key], {});\n",
              "          if (!dataTable) return;\n",
              "\n",
              "          const docLinkHtml = 'Like what you see? Visit the ' +\n",
              "            '<a target=\"_blank\" href=https://colab.research.google.com/notebooks/data_table.ipynb>data table notebook</a>'\n",
              "            + ' to learn more about interactive tables.';\n",
              "          element.innerHTML = '';\n",
              "          dataTable['output_type'] = 'display_data';\n",
              "          await google.colab.output.renderOutput(dataTable, element);\n",
              "          const docLink = document.createElement('div');\n",
              "          docLink.innerHTML = docLinkHtml;\n",
              "          element.appendChild(docLink);\n",
              "        }\n",
              "      </script>\n",
              "    </div>\n",
              "  </div>\n",
              "  "
            ]
          },
          "metadata": {},
          "execution_count": 23
        }
      ]
    },
    {
      "cell_type": "markdown",
      "source": [
        "###Finding Insights"
      ],
      "metadata": {
        "id": "iQguibuIcJzt"
      }
    },
    {
      "cell_type": "code",
      "source": [
        "# Monthly booking count for both hotel types\n",
        "# This code gives the number of bookings done by the month for both hotels\n",
        "busy_months = df.groupby([\"hotel\", \"arrival_date_month\"])[\"hotel\"].count().reset_index(name=\"count\") # Groupby 'hotel' and 'arrival_date_month' \n",
        "busy_months = busy_months.sort_values([\"hotel\", \"count\"], ascending=False) # Sort count in desending order for both type of hotel\n",
        "print(busy_months) # Print busy months"
      ],
      "metadata": {
        "id": "ZaWHuyulv-pm",
        "colab": {
          "base_uri": "https://localhost:8080/"
        },
        "outputId": "be6b8154-ed7d-418f-8a1c-9dc71de75641"
      },
      "execution_count": 24,
      "outputs": [
        {
          "output_type": "stream",
          "name": "stdout",
          "text": [
            "           hotel arrival_date_month  count\n",
            "13  Resort Hotel             August   4666\n",
            "17  Resort Hotel               July   4313\n",
            "20  Resort Hotel                May   2942\n",
            "12  Resort Hotel              April   2828\n",
            "18  Resort Hotel               June   2760\n",
            "22  Resort Hotel            October   2726\n",
            "19  Resort Hotel              March   2657\n",
            "15  Resort Hotel           February   2493\n",
            "23  Resort Hotel          September   2450\n",
            "14  Resort Hotel           December   2117\n",
            "21  Resort Hotel           November   2053\n",
            "16  Resort Hotel            January   1963\n",
            "1     City Hotel             August   6591\n",
            "5     City Hotel               July   5744\n",
            "8     City Hotel                May   5413\n",
            "0     City Hotel              April   5080\n",
            "6     City Hotel               June   5005\n",
            "7     City Hotel              March   4856\n",
            "11    City Hotel          September   4240\n",
            "10    City Hotel            October   4208\n",
            "3     City Hotel           February   3605\n",
            "2     City Hotel           December   3014\n",
            "9     City Hotel           November   2942\n",
            "4     City Hotel            January   2730\n"
          ]
        }
      ]
    },
    {
      "cell_type": "code",
      "source": [
        "# The distribution of stays in the hotel by market segment\n",
        "stay_by_market = df.groupby([\"market_segment\", \"hotel\"])[\"total_stay\"].sum().reset_index(name=\"stays_in_hotel\")\n",
        "print(stay_by_market)"
      ],
      "metadata": {
        "id": "uav5hCsfxZqV",
        "colab": {
          "base_uri": "https://localhost:8080/"
        },
        "outputId": "f70c72f7-6e06-4643-e67e-b761e258f739"
      },
      "execution_count": 25,
      "outputs": [
        {
          "output_type": "stream",
          "name": "stdout",
          "text": [
            "   market_segment         hotel  stays_in_hotel\n",
            "0        Aviation    City Hotel             811\n",
            "1   Complementary    City Hotel             759\n",
            "2   Complementary  Resort Hotel             413\n",
            "3       Corporate    City Hotel            4275\n",
            "4       Corporate  Resort Hotel            4334\n",
            "5          Direct    City Hotel           16011\n",
            "6          Direct  Resort Hotel           22128\n",
            "7          Groups    City Hotel            6934\n",
            "8          Groups  Resort Hotel           10118\n",
            "9   Offline TA/TO    City Hotel           23475\n",
            "10  Offline TA/TO  Resort Hotel           41830\n",
            "11      Online TA    City Hotel          115849\n",
            "12      Online TA  Resort Hotel           70365\n",
            "13      Undefined    City Hotel               3\n"
          ]
        }
      ]
    },
    {
      "cell_type": "code",
      "source": [
        "# Number of bookings by lead time\n",
        "# This code gives the nummber of booking done by lead time\n",
        "bookings_by_lead_time = df.groupby([\"lead_time\", \"hotel\"])[\"hotel\"].count().reset_index(name=\"count\") #grouping by lead_time and hotel\n",
        "print(bookings_by_lead_time) # print bookings_by_lead_time\n"
      ],
      "metadata": {
        "id": "Vt6WmD1ex_DV",
        "colab": {
          "base_uri": "https://localhost:8080/"
        },
        "outputId": "ac88c3af-657c-42f7-9d8f-a56eb1f0da88"
      },
      "execution_count": 26,
      "outputs": [
        {
          "output_type": "stream",
          "name": "stdout",
          "text": [
            "     lead_time         hotel  count\n",
            "0            0    City Hotel   2901\n",
            "1            0  Resort Hotel   3077\n",
            "2            1    City Hotel   1696\n",
            "3            1  Resort Hotel   1520\n",
            "4            2    City Hotel   1036\n",
            "..         ...           ...    ...\n",
            "860        622    City Hotel      2\n",
            "861        626    City Hotel      1\n",
            "862        629    City Hotel      2\n",
            "863        709  Resort Hotel      1\n",
            "864        737  Resort Hotel      1\n",
            "\n",
            "[865 rows x 3 columns]\n"
          ]
        }
      ]
    },
    {
      "cell_type": "code",
      "source": [
        "# Top 3 most common reserved room type\n",
        "# This code gives the count of reserved_room_type\n",
        "booking_types = df.groupby([\"hotel\", \"reserved_room_type\"])[\"reserved_room_type\"].count().reset_index(name=\"count\") # Grouping hotel and reserved_room_type\n",
        "booking_types = booking_types.sort_values([\"hotel\", \"count\"], ascending=False) # Sorting the count values\n",
        "booking_types = booking_types.groupby(\"hotel\").head(3) # Filtering top three\n",
        "print(booking_types) # Printing the booking_types"
      ],
      "metadata": {
        "id": "3bMU7iE6yCU9",
        "colab": {
          "base_uri": "https://localhost:8080/"
        },
        "outputId": "ef796616-3008-4391-eeb6-598f7da3f1ba"
      },
      "execution_count": 27,
      "outputs": [
        {
          "output_type": "stream",
          "name": "stdout",
          "text": [
            "           hotel reserved_room_type  count\n",
            "8   Resort Hotel                  A  18610\n",
            "11  Resort Hotel                  D   6632\n",
            "12  Resort Hotel                  E   4579\n",
            "0     City Hotel                  A  37942\n",
            "3     City Hotel                  D  10766\n",
            "5     City Hotel                  F   1757\n"
          ]
        }
      ]
    },
    {
      "cell_type": "code",
      "source": [
        "# The most preffered hotel type\n",
        "# This code gives the most preffered hotel type (city hotel or resort hotel)\n",
        "preferred_hotel_type = df.groupby([\"hotel\"])[\"hotel\"].count().reset_index(name=\"count\") # Grouping the hotel and the count of the hotel\n",
        "preferred_hotel_type = preferred_hotel_type.sort_values([\"count\"], ascending=False).reset_index(drop=True) # Sorting the count value\n",
        "most_preferred = preferred_hotel_type.loc[0, \"hotel\"] # The hotel with most number of counts\n",
        "print(f\"The most preferred hotel type is {most_preferred}\")\n"
      ],
      "metadata": {
        "id": "XVopBujHyHaG",
        "colab": {
          "base_uri": "https://localhost:8080/"
        },
        "outputId": "089b08f2-77cb-4f67-ee0c-ee8175cf0a2a"
      },
      "execution_count": 28,
      "outputs": [
        {
          "output_type": "stream",
          "name": "stdout",
          "text": [
            "The most preferred hotel type is City Hotel\n"
          ]
        }
      ]
    },
    {
      "cell_type": "code",
      "source": [
        "# Find the average daily rate for whole year by hotel type\n",
        "# This code gives the average daily rate for respective hotel type \n",
        "adr_by_hotel_type = df.groupby([\"hotel\"])[\"adr\"].mean().reset_index(name=\"adr\") # Groupby hotel and sum the adr column\n",
        "print(adr_by_hotel_type)"
      ],
      "metadata": {
        "id": "Y9FL_bfCyK1P",
        "colab": {
          "base_uri": "https://localhost:8080/"
        },
        "outputId": "565ffc14-13b4-4136-e486-ae14eda318f2"
      },
      "execution_count": 29,
      "outputs": [
        {
          "output_type": "stream",
          "name": "stdout",
          "text": [
            "          hotel         adr\n",
            "0    City Hotel  110.985944\n",
            "1  Resort Hotel   99.025346\n"
          ]
        }
      ]
    },
    {
      "cell_type": "code",
      "source": [
        "# Average daily rates per month for both hotel types\n",
        "# This code gives the adr for all months for both the hotel types\n",
        "daily_rates = df.groupby([\"hotel\", \"arrival_date_month\"])[\"adr\"].mean().reset_index(name=\"avg_daily_rate\") # Grouping hotel and arrival_date_month and finding the average of adr\n",
        "daily_rates = daily_rates.sort_values([\"hotel\", \"avg_daily_rate\"], ascending=False) # Sorting the average daily rate in descending order\n",
        "print(daily_rates)"
      ],
      "metadata": {
        "id": "eK2F_9SpyXe3",
        "colab": {
          "base_uri": "https://localhost:8080/"
        },
        "outputId": "5fa6907d-98cc-456e-ab09-53b98f41c1f8"
      },
      "execution_count": 30,
      "outputs": [
        {
          "output_type": "stream",
          "name": "stdout",
          "text": [
            "           hotel arrival_date_month  avg_daily_rate\n",
            "13  Resort Hotel             August      187.566659\n",
            "17  Resort Hotel               July      156.166914\n",
            "18  Resort Hotel               June      112.340141\n",
            "23  Resort Hotel          September      100.892331\n",
            "20  Resort Hotel                May       80.551101\n",
            "12  Resort Hotel              April       79.283805\n",
            "14  Resort Hotel           December       65.409093\n",
            "22  Resort Hotel            October       63.676313\n",
            "19  Resort Hotel              March       57.569213\n",
            "15  Resort Hotel           February       54.081107\n",
            "16  Resort Hotel            January       49.131584\n",
            "21  Resort Hotel           November       48.823434\n",
            "8     City Hotel                May      127.851240\n",
            "1     City Hotel             August      124.901601\n",
            "6     City Hotel               June      123.836342\n",
            "5     City Hotel               July      120.055385\n",
            "11    City Hotel          September      118.546566\n",
            "0     City Hotel              April      117.156250\n",
            "10    City Hotel            October      107.304166\n",
            "7     City Hotel              March       94.763375\n",
            "2     City Hotel           December       92.717339\n",
            "9     City Hotel           November       89.454120\n",
            "3     City Hotel           February       88.945304\n",
            "4     City Hotel            January       85.092612\n"
          ]
        }
      ]
    },
    {
      "cell_type": "code",
      "source": [
        "# The distribution of room prices by hotel\n",
        "# This code gives the average price for reserved room type per type of hotel\n",
        "price_distribution = df.groupby([\"hotel\", \"reserved_room_type\"])[\"adr\"].mean().reset_index(name=\"avg_price\") # Grouping the hotel and reserved_room_type and finding average of adr\n",
        "price_distribution = price_distribution.sort_values([\"hotel\", \"avg_price\"], ascending=False) # Sorting the average price in descending order\n",
        "print(price_distribution)"
      ],
      "metadata": {
        "id": "6SBoJXU6yZ8e",
        "colab": {
          "base_uri": "https://localhost:8080/"
        },
        "outputId": "015fa855-33cb-4bdf-9f69-0a62b81751ff"
      },
      "execution_count": 31,
      "outputs": [
        {
          "output_type": "stream",
          "name": "stdout",
          "text": [
            "           hotel reserved_room_type   avg_price\n",
            "15  Resort Hotel                  H  188.763993\n",
            "14  Resort Hotel                  G  169.201329\n",
            "10  Resort Hotel                  C  161.728380\n",
            "13  Resort Hotel                  F  134.035901\n",
            "16  Resort Hotel                  L  124.666667\n",
            "12  Resort Hotel                  E  115.929085\n",
            "11  Resort Hotel                  D  105.552388\n",
            "9   Resort Hotel                  B  104.666667\n",
            "8   Resort Hotel                  A   78.694877\n",
            "17  Resort Hotel                  P    0.000000\n",
            "6     City Hotel                  G  201.444614\n",
            "5     City Hotel                  F  189.044087\n",
            "4     City Hotel                  E  157.107735\n",
            "3     City Hotel                  D  132.257263\n",
            "0     City Hotel                  A   98.969856\n",
            "1     City Hotel                  B   90.334839\n",
            "2     City Hotel                  C   85.482143\n",
            "7     City Hotel                  P    0.000000\n"
          ]
        }
      ]
    },
    {
      "cell_type": "code",
      "source": [
        "# Total revenue per hotel\n",
        "# This code gives the total revenue generated by both hotels respectively\n",
        "revenue = df.groupby(\"hotel\")[\"adr\"].sum().reset_index(name=\"total_revenue\") # Grouping hotel and summing adr\n",
        "print(revenue)"
      ],
      "metadata": {
        "id": "_4OP8Yz4ydXK",
        "colab": {
          "base_uri": "https://localhost:8080/"
        },
        "outputId": "372f27b3-4068-4671-d975-34d3eb22c1f5"
      },
      "execution_count": 32,
      "outputs": [
        {
          "output_type": "stream",
          "name": "stdout",
          "text": [
            "          hotel  total_revenue\n",
            "0    City Hotel     5929757.03\n",
            "1  Resort Hotel     3363692.96\n"
          ]
        }
      ]
    },
    {
      "cell_type": "code",
      "source": [
        "# Average daily rates by lead time\n",
        "rates_by_lead_time = df.groupby([\"lead_time\", \"hotel\"])[\"adr\"].mean().reset_index(name=\"avg_daily_rate\") # Grouping of lead_time and hotel and finding the mean of adr\n",
        "print(rates_by_lead_time)"
      ],
      "metadata": {
        "id": "tPAvuvnVyge5",
        "colab": {
          "base_uri": "https://localhost:8080/"
        },
        "outputId": "26135023-1f79-4c95-bc4a-ba3dc6a0009b"
      },
      "execution_count": 33,
      "outputs": [
        {
          "output_type": "stream",
          "name": "stdout",
          "text": [
            "     lead_time         hotel  avg_daily_rate\n",
            "0            0    City Hotel       95.688321\n",
            "1            0  Resort Hotel       72.990725\n",
            "2            1    City Hotel      103.712642\n",
            "3            1  Resort Hotel       77.177388\n",
            "4            2    City Hotel      106.705560\n",
            "..         ...           ...             ...\n",
            "860        622    City Hotel       60.500000\n",
            "861        626    City Hotel       62.800000\n",
            "862        629    City Hotel       60.500000\n",
            "863        709  Resort Hotel       68.000000\n",
            "864        737  Resort Hotel        0.000000\n",
            "\n",
            "[865 rows x 3 columns]\n"
          ]
        }
      ]
    },
    {
      "cell_type": "code",
      "source": [
        "# The distribution of bookings by customer type and hotel type\n",
        "# This code gives the number of bookings for customer type and hotel type\n",
        "bookings_by_customer_type = df.groupby([\"customer_type\", \"hotel\"])[\"hotel\"].count().reset_index(name=\"count\") # Grouping customer_type and hotel type\n",
        "print(bookings_by_customer_type)"
      ],
      "metadata": {
        "id": "pnVekAqCy7aF",
        "colab": {
          "base_uri": "https://localhost:8080/"
        },
        "outputId": "a9dddc42-1122-45de-846a-b479d642b85c"
      },
      "execution_count": 34,
      "outputs": [
        {
          "output_type": "stream",
          "name": "stdout",
          "text": [
            "     customer_type         hotel  count\n",
            "0         Contract    City Hotel   1471\n",
            "1         Contract  Resort Hotel   1668\n",
            "2            Group    City Hotel    271\n",
            "3            Group  Resort Hotel    273\n",
            "4        Transient    City Hotel  44641\n",
            "5        Transient  Resort Hotel  27345\n",
            "6  Transient-Party    City Hotel   7045\n",
            "7  Transient-Party  Resort Hotel   4682\n"
          ]
        }
      ]
    },
    {
      "cell_type": "code",
      "source": [
        "# Distribution of bookings by market segment and customer type\n",
        "# This code gives the distribution of bookings by market segment and customer type\n",
        "bookings_by_market_customer = df.groupby([\"market_segment\", \"customer_type\"])[\"hotel\"].count().reset_index(name=\"count\") # Grouping market_segment and customer_type\n",
        "print(bookings_by_market_customer)\n"
      ],
      "metadata": {
        "id": "xv7GRBKkzGuM",
        "colab": {
          "base_uri": "https://localhost:8080/"
        },
        "outputId": "5994b3de-74c5-4348-ca6d-a9d978d36227"
      },
      "execution_count": 35,
      "outputs": [
        {
          "output_type": "stream",
          "name": "stdout",
          "text": [
            "   market_segment    customer_type  count\n",
            "0        Aviation            Group      2\n",
            "1        Aviation        Transient    209\n",
            "2        Aviation  Transient-Party     16\n",
            "3   Complementary         Contract      2\n",
            "4   Complementary            Group      6\n",
            "5   Complementary        Transient    665\n",
            "6   Complementary  Transient-Party     29\n",
            "7       Corporate         Contract     18\n",
            "8       Corporate            Group     28\n",
            "9       Corporate        Transient   3134\n",
            "10      Corporate  Transient-Party   1032\n",
            "11         Direct         Contract     14\n",
            "12         Direct            Group    130\n",
            "13         Direct        Transient  10803\n",
            "14         Direct  Transient-Party    857\n",
            "15         Groups         Contract     63\n",
            "16         Groups            Group     13\n",
            "17         Groups        Transient    918\n",
            "18         Groups  Transient-Party   3948\n",
            "19  Offline TA/TO         Contract   1714\n",
            "20  Offline TA/TO            Group    192\n",
            "21  Offline TA/TO        Transient   8904\n",
            "22  Offline TA/TO  Transient-Party   3079\n",
            "23      Online TA         Contract   1328\n",
            "24      Online TA            Group    173\n",
            "25      Online TA        Transient  47353\n",
            "26      Online TA  Transient-Party   2764\n",
            "27      Undefined  Transient-Party      2\n"
          ]
        }
      ]
    },
    {
      "cell_type": "code",
      "source": [
        "# The most common distribution channels by hotel type\n",
        "# This code gives the count of bookings with respective distribution channels\n",
        "booking_channels = df.groupby([\"hotel\", \"distribution_channel\"])[\"distribution_channel\"].count().reset_index(name=\"count\") # Grouping by hotel and distribution_channel and count of distribution_channel\n",
        "booking_channels = booking_channels.sort_values([\"hotel\", \"count\"], ascending=False) # Sorting the count \n",
        "print(booking_channels)"
      ],
      "metadata": {
        "id": "3C5zkiVGzM3e",
        "colab": {
          "base_uri": "https://localhost:8080/"
        },
        "outputId": "2808b7af-e595-45e1-a8de-8159aac030e5"
      },
      "execution_count": 36,
      "outputs": [
        {
          "output_type": "stream",
          "name": "stdout",
          "text": [
            "          hotel distribution_channel  count\n",
            "7  Resort Hotel                TA/TO  24592\n",
            "6  Resort Hotel               Direct   6901\n",
            "5  Resort Hotel            Corporate   2474\n",
            "8  Resort Hotel            Undefined      1\n",
            "3    City Hotel                TA/TO  44549\n",
            "1    City Hotel               Direct   6087\n",
            "0    City Hotel            Corporate   2607\n",
            "2    City Hotel                  GDS    181\n",
            "4    City Hotel            Undefined      4\n"
          ]
        }
      ]
    },
    {
      "cell_type": "code",
      "source": [
        "# Distribution of bookings by customer type and deposit type\n",
        "# This code gives the bookings by the customer type and deposti type\n",
        "bookings_by_deposit_type = df.groupby([\"customer_type\", \"deposit_type\"])[\"hotel\"].count().reset_index(name=\"count\") # Grouping of customer_type and deposit_type and hotel count\n",
        "print(bookings_by_deposit_type)\n"
      ],
      "metadata": {
        "id": "rMkiR_DKzT3W",
        "colab": {
          "base_uri": "https://localhost:8080/"
        },
        "outputId": "89ecc076-5c60-4dca-9a18-d9c854480115"
      },
      "execution_count": 37,
      "outputs": [
        {
          "output_type": "stream",
          "name": "stdout",
          "text": [
            "      customer_type deposit_type  count\n",
            "0          Contract   No Deposit   3109\n",
            "1          Contract   Non Refund     28\n",
            "2          Contract   Refundable      2\n",
            "3             Group   No Deposit    539\n",
            "4             Group   Refundable      5\n",
            "5         Transient   No Deposit  71111\n",
            "6         Transient   Non Refund    859\n",
            "7         Transient   Refundable     16\n",
            "8   Transient-Party   No Deposit  11492\n",
            "9   Transient-Party   Non Refund    151\n",
            "10  Transient-Party   Refundable     84\n"
          ]
        }
      ]
    },
    {
      "cell_type": "code",
      "source": [
        "# Distribution of bookings by customer type and cancellation status\n",
        "# This code shows the number of bookings which are canceled and not canceled by customer type\n",
        "bookings_by_cancellation_status = df.groupby([\"customer_type\", \"is_canceled\"])[\"hotel\"].count().reset_index(name=\"count\") # Grouping customer_type and is_canceled and sum of hotel\n",
        "print(bookings_by_cancellation_status)"
      ],
      "metadata": {
        "id": "mP_vBDmezVts",
        "colab": {
          "base_uri": "https://localhost:8080/"
        },
        "outputId": "96f0c654-fbbd-4698-b724-19419f5f66a3"
      },
      "execution_count": 38,
      "outputs": [
        {
          "output_type": "stream",
          "name": "stdout",
          "text": [
            "     customer_type  is_canceled  count\n",
            "0         Contract            0   2627\n",
            "1         Contract            1    512\n",
            "2            Group            0    490\n",
            "3            Group            1     54\n",
            "4        Transient            0  50314\n",
            "5        Transient            1  21672\n",
            "6  Transient-Party            0   9940\n",
            "7  Transient-Party            1   1787\n"
          ]
        }
      ]
    },
    {
      "cell_type": "code",
      "source": [
        "# Average daily rate by customer type\n",
        "# This code shows the adr for hotel type and customer type\n",
        "rate_by_customer_type = df.groupby([ \"hotel\",\"customer_type\"])[\"adr\"].mean().reset_index(name=\"avg_daily_rate\") # Grouping of hotel and customer_type and mean of adr\n",
        "rate_by_customer_type = rate_by_customer_type.sort_values([\"hotel\", \"avg_daily_rate\"], ascending=False) # Sorting the values in descending order\n",
        "print(rate_by_customer_type)"
      ],
      "metadata": {
        "id": "VVTuGF-XzXkO",
        "colab": {
          "base_uri": "https://localhost:8080/"
        },
        "outputId": "998467c3-1b3c-4ec8-cf46-30d522b13b3b"
      },
      "execution_count": 39,
      "outputs": [
        {
          "output_type": "stream",
          "name": "stdout",
          "text": [
            "          hotel    customer_type  avg_daily_rate\n",
            "6  Resort Hotel        Transient      103.788835\n",
            "4  Resort Hotel         Contract       79.693843\n",
            "7  Resort Hotel  Transient-Party       79.465258\n",
            "5  Resort Hotel            Group       75.463773\n",
            "2    City Hotel        Transient      114.023751\n",
            "0    City Hotel         Contract      107.561149\n",
            "1    City Hotel            Group       93.325793\n",
            "3    City Hotel  Transient-Party       93.131163\n"
          ]
        }
      ]
    },
    {
      "cell_type": "code",
      "source": [
        "# Distribution of bookings by room type and hotel type\n",
        "# This code shows the numner of bookings for room_type and hotel_type\n",
        "bookings_by_room_type = df.groupby([\"hotel\", \"reserved_room_type\"])[\"is_canceled\"].count().reset_index(name=\"count\") # Grouping of hotel and reserved_room type\n",
        "print(bookings_by_room_type)"
      ],
      "metadata": {
        "id": "PGl1nR4NzZg-",
        "colab": {
          "base_uri": "https://localhost:8080/"
        },
        "outputId": "da708502-f0b5-4742-9fc9-54b2fdb8f9d2"
      },
      "execution_count": 40,
      "outputs": [
        {
          "output_type": "stream",
          "name": "stdout",
          "text": [
            "           hotel reserved_room_type  count\n",
            "0     City Hotel                  A  37942\n",
            "1     City Hotel                  B    996\n",
            "2     City Hotel                  C     14\n",
            "3     City Hotel                  D  10766\n",
            "4     City Hotel                  E   1470\n",
            "5     City Hotel                  F   1757\n",
            "6     City Hotel                  G    479\n",
            "7     City Hotel                  P      4\n",
            "8   Resort Hotel                  A  18610\n",
            "9   Resort Hotel                  B      3\n",
            "10  Resort Hotel                  C    901\n",
            "11  Resort Hotel                  D   6632\n",
            "12  Resort Hotel                  E   4579\n",
            "13  Resort Hotel                  F   1066\n",
            "14  Resort Hotel                  G   1573\n",
            "15  Resort Hotel                  H    596\n",
            "16  Resort Hotel                  L      6\n",
            "17  Resort Hotel                  P      2\n"
          ]
        }
      ]
    },
    {
      "cell_type": "code",
      "source": [
        "# Average daily rate by room type\n",
        "# This code shows the adr for reserved room type and hotel type\n",
        "rate_by_room_type = df.groupby([\"hotel\", \"reserved_room_type\"])[\"adr\"].mean().reset_index(name=\"avg_daily_rate\") # Grouping of hotel and reserved_room_type and mean of adr\n",
        "rate_by_room_type = rate_by_room_type.sort_values([\"hotel\", \"avg_daily_rate\"], ascending=False) # soring the adr values\n",
        "print(rate_by_room_type)"
      ],
      "metadata": {
        "id": "Rh4UDb-JzdeG",
        "colab": {
          "base_uri": "https://localhost:8080/"
        },
        "outputId": "2a5c35a1-7274-4d78-f7ee-3cf50cbe4543"
      },
      "execution_count": 41,
      "outputs": [
        {
          "output_type": "stream",
          "name": "stdout",
          "text": [
            "           hotel reserved_room_type  avg_daily_rate\n",
            "15  Resort Hotel                  H      188.763993\n",
            "14  Resort Hotel                  G      169.201329\n",
            "10  Resort Hotel                  C      161.728380\n",
            "13  Resort Hotel                  F      134.035901\n",
            "16  Resort Hotel                  L      124.666667\n",
            "12  Resort Hotel                  E      115.929085\n",
            "11  Resort Hotel                  D      105.552388\n",
            "9   Resort Hotel                  B      104.666667\n",
            "8   Resort Hotel                  A       78.694877\n",
            "17  Resort Hotel                  P        0.000000\n",
            "6     City Hotel                  G      201.444614\n",
            "5     City Hotel                  F      189.044087\n",
            "4     City Hotel                  E      157.107735\n",
            "3     City Hotel                  D      132.257263\n",
            "0     City Hotel                  A       98.969856\n",
            "1     City Hotel                  B       90.334839\n",
            "2     City Hotel                  C       85.482143\n",
            "7     City Hotel                  P        0.000000\n"
          ]
        }
      ]
    },
    {
      "cell_type": "code",
      "source": [
        "# Cancellation rate by room type\n",
        "# This code shows the cancellation rate for reserved_room_type and hotel type\n",
        "cancellation_by_room_type = df.groupby([\"hotel\", \"reserved_room_type\"])[\"is_canceled\"].mean().reset_index(name=\"cancellation_rate\") # Grouping of  hotel and reserved_room_type and mean of is cancelled\n",
        "print(cancellation_by_room_type)"
      ],
      "metadata": {
        "id": "xvw2blokzeOO",
        "colab": {
          "base_uri": "https://localhost:8080/"
        },
        "outputId": "2f1f3006-d52a-46b7-c63a-90113051b013"
      },
      "execution_count": 42,
      "outputs": [
        {
          "output_type": "stream",
          "name": "stdout",
          "text": [
            "           hotel reserved_room_type  cancellation_rate\n",
            "0     City Hotel                  A           0.284513\n",
            "1     City Hotel                  B           0.319277\n",
            "2     City Hotel                  C           0.357143\n",
            "3     City Hotel                  D           0.341631\n",
            "4     City Hotel                  E           0.310204\n",
            "5     City Hotel                  F           0.385885\n",
            "6     City Hotel                  G           0.240084\n",
            "7     City Hotel                  P           1.000000\n",
            "8   Resort Hotel                  A           0.209135\n",
            "9   Resort Hotel                  B           0.000000\n",
            "10  Resort Hotel                  C           0.322974\n",
            "11  Resort Hotel                  D           0.234922\n",
            "12  Resort Hotel                  E           0.260537\n",
            "13  Resort Hotel                  F           0.162289\n",
            "14  Resort Hotel                  G           0.395423\n",
            "15  Resort Hotel                  H           0.407718\n",
            "16  Resort Hotel                  L           0.333333\n",
            "17  Resort Hotel                  P           1.000000\n"
          ]
        }
      ]
    },
    {
      "cell_type": "code",
      "source": [
        "# The total percentage of canceled bookings\n",
        "# This code shows the percentage of cancelled bookings\n",
        "canceled_percentage = df['is_canceled'].mean() * 100\n",
        "print(canceled_percentage)"
      ],
      "metadata": {
        "colab": {
          "base_uri": "https://localhost:8080/"
        },
        "id": "h_ISd8E03DdF",
        "outputId": "3813adaa-3df3-43a7-8596-e9e030a70645"
      },
      "execution_count": 43,
      "outputs": [
        {
          "output_type": "stream",
          "name": "stdout",
          "text": [
            "27.489816467572886\n"
          ]
        }
      ]
    },
    {
      "cell_type": "code",
      "source": [],
      "metadata": {
        "id": "bTgxLWva3LHa"
      },
      "execution_count": 43,
      "outputs": []
    },
    {
      "cell_type": "markdown",
      "source": [
        "### What all manipulations have you done and insights you found?"
      ],
      "metadata": {
        "id": "MSa1f5Uengrz"
      }
    },
    {
      "cell_type": "markdown",
      "source": [
        "**Manipulations to make dataset analysis ready:**\n",
        "\n",
        "1. Dropping duplicate values:\n",
        "  - Firstly, code drops duplicate values in the dataframe using the drop_duplicates().\n",
        "\n",
        "2. Filling null values:\n",
        "  - Then the code fillna() fills null values in the 'company' and 'agent' columns with 0.\n",
        "  - Then fill missing values in the 'children' column with the mean value using the same fillna() function.\n",
        "Then, the missing values in the 'country' column with 'others' are filled by 'others'\n",
        "\n",
        "3. Converting data types:\n",
        "  - Converting the data type of the 'children', 'company', and 'agent' columns from float to int using the astype() function.\n",
        "  - Then the data type of the 'reservation_status_date' column is converted to datetime using the to_datetime() function.\n",
        "\n",
        "\n",
        "4. Adding new columns:\n",
        "  - 'total_stay' and 'total_people' columns are added into the data frame.\n",
        "  - The 'total_stay' column is calculated by adding the 'stays_in_weekend_nights' and 'stays_in_week_nights' columns.\n",
        "  - The 'total_people' column is calculated by adding the 'adults', 'children', and 'babies' columns.\n",
        "\n",
        "**The manipulations for finding insights:**\n",
        "\n",
        "1. What is the distribution of croud per month?:\n",
        "  - Manipulation: Grouped the data by 'hotel' and 'arrival_date_month' and count the number of bookings.\n",
        "  - Insights: August month is the busiest and January month has the least crowd in both the hotels.\n",
        "\n",
        "2. What is the distribution of stays in the hotel by market segment? \n",
        "  - Maniuplation: Grouped the data by 'market_segment' and 'hotel' and sum the 'total_stay' column.\n",
        "  - Insights: The maximum stay is in Online TA City hotel.\n",
        "\n",
        "3. What is the relation between the number of bookings and lead time?\n",
        "  - Manipulation: Grouped the data by 'lead_time' and 'hotel' and counts the number of bookings for each combination.\n",
        "  - Inshghts: As the lead time increases the number of bookings decreases.\n",
        "\n",
        "4. What are the most common bookings for room type? \n",
        "  - Manipulation: Grouped the data by 'hotel' and 'reserved_room_type' and count the number of bookings for each combination, then selects the top three most common reserved room types for each hotel.\n",
        "  - Insights: The most common room type is type 'A' for both the hotels.\n",
        "\n",
        "5. What is the daily average rate for both the hotels?\n",
        "  - Manipulation: Grouped the data by 'hotel' and calculate the average daily rate for each hotel.\n",
        "  - Insights: The city hotel has highest average daily rate.\n",
        "\n",
        "6. What is the most preffered hotel type?\n",
        "  - Manipulation: Grouped the data by 'hotel' and calculate the count of occurrence.\n",
        "  - Insights: The most preferred hotel type is City Hotel.\n",
        "\n",
        "7. What is the percentage of cancelled bookings?\n",
        "  - Manipulation: Find the mean of 'is_cancelled' column and multiplied it with 100.\n",
        "  - Insights: The percentage of cancelled bookings are 27.48."
      ],
      "metadata": {
        "id": "LbyXE7I1olp8"
      }
    },
    {
      "cell_type": "markdown",
      "source": [
        "## ***4. Data Vizualization, Storytelling & Experimenting with charts : Understand the relationships between variables***"
      ],
      "metadata": {
        "id": "GF8Ens_Soomf"
      }
    },
    {
      "cell_type": "markdown",
      "source": [
        "#### Chart - 1 - Barplot on the number of bookings per month for each hotel type"
      ],
      "metadata": {
        "id": "0wOQAZs5pc--"
      }
    },
    {
      "cell_type": "code",
      "source": [
        "# Chart - 1 visualization code\n",
        "# The crowd per months for both hotel types\n",
        "plt.figure(figsize=(10,6)) # sets the figure size for the chart\n",
        "sns.barplot(data=busy_months, x='arrival_date_month', y='count', hue='hotel') # Uses seaborn librart to plot the chart. x axis shows the arrival date month and y axis shows the count of number of bookings\n",
        "plt.title('Busiest Months for Each Hotel Type') # Sets the title of the chart\n",
        "plt.xlabel('Month') # Sets x label\n",
        "plt.ylabel('Number of Bookings') # sete y label\n",
        "plt.show()\n"
      ],
      "metadata": {
        "id": "7v_ESjsspbW7",
        "colab": {
          "base_uri": "https://localhost:8080/",
          "height": 404
        },
        "outputId": "4637d8dc-cd4a-41bc-abd4-a4b92c8ba243"
      },
      "execution_count": 44,
      "outputs": [
        {
          "output_type": "display_data",
          "data": {
            "text/plain": [
              "<Figure size 720x432 with 1 Axes>"
            ],
            "image/png": "[encoded data removed]"
          },
          "metadata": {
            "needs_background": "light"
          }
        }
      ]
    },
    {
      "cell_type": "markdown",
      "source": [
        "##### 1. Why did you pick the specific chart?"
      ],
      "metadata": {
        "id": "K5QZ13OEpz2H"
      }
    },
    {
      "cell_type": "markdown",
      "source": [
        "\n",
        "I picked a bar chart because it is a great way to display the busiest months for each hotel type in a simple and easy to read manner. Bar charts are used to display the data which can be categorized into different groups, such as months of the year. Moreover, the bar chart allows us for comparison between the two hotel types because the data is displayed side by side.\n",
        "\n",
        "\n"
      ],
      "metadata": {
        "id": "XESiWehPqBRc"
      }
    },
    {
      "cell_type": "markdown",
      "source": [
        "##### 2. What is/are the insight(s) found from the chart?"
      ],
      "metadata": {
        "id": "lQ7QKXXCp7Bj"
      }
    },
    {
      "cell_type": "markdown",
      "source": [
        " From the chart above, we can see the following insights:\n",
        "\n",
        "- For the City Hotel, the busiest months are May, July, and August. For the Resort Hotel, the busiest months are July and August.\n",
        "- Both hotel types are busiest during the summer months of July and August.\n",
        "- The City Hotel also experiences a high number of bookings in the month May, whereas the Resort Hotel does not.\n",
        "- The City Hotel has a drop in bookings in December and January, which may be due to the winter holiday season or colder weather. The Resort Hotel also has a decrease in bookings during the winter months.\n"
      ],
      "metadata": {
        "id": "C_j1G7yiqdRP"
      }
    },
    {
      "cell_type": "markdown",
      "source": [
        "##### 3. Will the gained insights help creating a positive business impact? \n",
        "Are there any insights that lead to negative growth? Justify with specific reason."
      ],
      "metadata": {
        "id": "448CDAPjqfQr"
      }
    },
    {
      "cell_type": "markdown",
      "source": [
        "\n",
        "\n",
        "Yes, the insights gained from this analysis could help create a positive business impact for both hotels. By understanding the busiest months for each hotel type, hotel managers can optimize pricing and marketing strategies to meet the demand during these peak periods.\n",
        "\n",
        "There is one insight that can lead to a negative impact on business growth. The drop in bookings during the winter months for the City Hotel may be a cause for concern, as it could indicate a lack of demand during this period. This could lead to decreased revenue and profitability if the hotel is not able to attract enough customers during these months.\n",
        "\n",
        "To decrease this concern the hotel can implement promotions or special offers during the winter season to attract customers. "
      ],
      "metadata": {
        "id": "3cspy4FjqxJW"
      }
    },
    {
      "cell_type": "markdown",
      "source": [
        "#### Chart - 2 - Bar plot for distribution of stays per market segment for each type of hotel"
      ],
      "metadata": {
        "id": "KSlN3yHqYklG"
      }
    },
    {
      "cell_type": "code",
      "source": [
        "# Chart - 2 visualization code\n",
        "plt.figure(figsize=(10, 6)) # Set the figure size\n",
        "sns.barplot(data=stay_by_market, x='market_segment', y='stays_in_hotel', hue='hotel') # Barplot\n",
        "plt.title('Distribution of Stays in Hotel by Market Segment') # Title of the plot\n",
        "plt.xlabel('Market Segment') # X label of the plot\n",
        "plt.ylabel('Stays in Hotel') # Y label of the plot\n",
        "plt.show()"
      ],
      "metadata": {
        "id": "R4YgtaqtYklH",
        "colab": {
          "base_uri": "https://localhost:8080/",
          "height": 404
        },
        "outputId": "42bca683-5c9e-413f-9beb-cd1463e6a2ea"
      },
      "execution_count": 45,
      "outputs": [
        {
          "output_type": "display_data",
          "data": {
            "text/plain": [
              "<Figure size 720x432 with 1 Axes>"
            ],
            "image/png": "[encoded data removed]"
          },
          "metadata": {
            "needs_background": "light"
          }
        }
      ]
    },
    {
      "cell_type": "markdown",
      "source": [
        "##### 1. Why did you pick the specific chart?"
      ],
      "metadata": {
        "id": "t6dVpIINYklI"
      }
    },
    {
      "cell_type": "markdown",
      "source": [
        "\n",
        "\n",
        "I chose a bar chart to visualize the distribution of stays in the hotel by market segment because it is an effective way to compare the total number of stays for each market segments. By using different colors for each hotel, we can easily see the differences in the distribution between the City Hotel and the Resort Hotel. Moreover, since the x-axis shows the different market segments, the bar chart is also helpful in identifying which market segments are most important for each hotel type. "
      ],
      "metadata": {
        "id": "5aaW0BYyYklI"
      }
    },
    {
      "cell_type": "markdown",
      "source": [
        "##### 2. What is/are the insight(s) found from the chart?"
      ],
      "metadata": {
        "id": "ijmpgYnKYklI"
      }
    },
    {
      "cell_type": "markdown",
      "source": [
        "\n",
        "From the bar chart of the distribution of stays in the hotel by market segment, we can find several insights:\n",
        "\n",
        "- The majority of stays for both hotel types come from the \"Online TA\" market segment..\n",
        "\n",
        "- The second most important market segment for the City Hotel is the \"Offline TA/TO\" segment.\n",
        "\n",
        "- The Resort Hotel has a higher proportion of stays from the \"Direct\" market segment, which refers to customers booking directly through the hotel's website or reservations department.\n",
        "\n"
      ],
      "metadata": {
        "id": "PSx9atu2YklI"
      }
    },
    {
      "cell_type": "markdown",
      "source": [
        "##### 3. Will the gained insights help creating a positive business impact? \n",
        "Are there any insights that lead to negative growth? Justify with specific reason."
      ],
      "metadata": {
        "id": "-JiQyfWJYklI"
      }
    },
    {
      "cell_type": "markdown",
      "source": [
        "\n",
        "Yes, the gained insights can help create a positive business impact. The distribution of stays in the hotel by market segment can provide hotel managers and marketers with a better understanding of their customer base, which can help them make the decisions about marketing and pricing strategies. For example, if the City Hotel identifies that the majority of its stays come from the \"Online TA\" market segment, it may want to focus on building relationships with these online travel agencies to increase the number of bookings.\n",
        "\n",
        "There are no insights from this analysis that lead to negative growth. "
      ],
      "metadata": {
        "id": "BcBbebzrYklV"
      }
    },
    {
      "cell_type": "markdown",
      "source": [
        "#### Chart - 3 -  Line chart for distribution of number of bookings per lead time for two hotels"
      ],
      "metadata": {
        "id": "EM7whBJCYoAo"
      }
    },
    {
      "cell_type": "code",
      "source": [
        "# Chart - 3 visualization code\n",
        "# Line chart for the bookings by lead time data\n",
        "fig, ax = plt.subplots(figsize=(10, 6)) # Creating two subplots. One for City hotel and one for Resort hotel\n",
        "ax.plot(bookings_by_lead_time[bookings_by_lead_time[\"hotel\"] == \"City Hotel\"][\"lead_time\"],\n",
        "        bookings_by_lead_time[bookings_by_lead_time[\"hotel\"] == \"City Hotel\"][\"count\"], # Ploting line chart for City hotel\n",
        "        label=\"City Hotel\")\n",
        "ax.plot(bookings_by_lead_time[bookings_by_lead_time[\"hotel\"] == \"Resort Hotel\"][\"lead_time\"],\n",
        "        bookings_by_lead_time[bookings_by_lead_time[\"hotel\"] == \"Resort Hotel\"][\"count\"], # Ploting line chart for Resort hotel\n",
        "        label=\"Resort Hotel\")\n",
        "ax.set_xlabel(\"Lead Time (days)\") # setting labels\n",
        "ax.set_ylabel(\"Number of Bookings\")\n",
        "ax.set_title(\"Bookings by Lead Time\")# setting title\n",
        "ax.legend() # adding legend to chart\n",
        "plt.show()\n"
      ],
      "metadata": {
        "id": "t6GMdE67YoAp",
        "colab": {
          "base_uri": "https://localhost:8080/",
          "height": 404
        },
        "outputId": "041017b1-681e-4dda-b9d2-959ac4270bc3"
      },
      "execution_count": 46,
      "outputs": [
        {
          "output_type": "display_data",
          "data": {
            "text/plain": [
              "<Figure size 720x432 with 1 Axes>"
            ],
            "image/png": "[encoded data removed]"
          },
          "metadata": {
            "needs_background": "light"
          }
        }
      ]
    },
    {
      "cell_type": "markdown",
      "source": [
        "##### 1. Why did you pick the specific chart?"
      ],
      "metadata": {
        "id": "fge-S5ZAYoAp"
      }
    },
    {
      "cell_type": "markdown",
      "source": [
        "\n",
        "\n",
        "I picked a line plot to visualize the bookings by lead time data because it is a continuous variable and it can take wide range of values. A line plot can show the pattern of the data over time, which is useful for identifying any trends that exist in the data.\n",
        "\n",
        "\n",
        "\n",
        "\n",
        "\n"
      ],
      "metadata": {
        "id": "5dBItgRVYoAp"
      }
    },
    {
      "cell_type": "markdown",
      "source": [
        "##### 2. What is/are the insight(s) found from the chart?"
      ],
      "metadata": {
        "id": "85gYPyotYoAp"
      }
    },
    {
      "cell_type": "markdown",
      "source": [
        "\n",
        "\n",
        "From the line plot of bookings by lead time, the insights found are:\n",
        "\n",
        "- We can see that for both hotel types, there is a downward trend in the number of bookings as lead time increases. This means as the lead time increases, the number of booking decreases.\n",
        "\n",
        "- For both type of hotels, the number of bookings drops sharply after a lead time of about 50-100 days.\n"
      ],
      "metadata": {
        "id": "4jstXR6OYoAp"
      }
    },
    {
      "cell_type": "markdown",
      "source": [
        "##### 3. Will the gained insights help creating a positive business impact? \n",
        "Are there any insights that lead to negative growth? Justify with specific reason."
      ],
      "metadata": {
        "id": "RoGjAbkUYoAp"
      }
    },
    {
      "cell_type": "markdown",
      "source": [
        "\n",
        "Yes, the insights gained from the bookings by lead time chart can help create a positive business impact. By understanding the trend of guest booking behavior with respect to lead time, hotels can adjust their marketing and sales strategies to optimize occupancy rates and revenue. For example, hotels can offer promotions for early bookings and encourage guests to book further in advance, which can help increase revenue and decrease the cancellations.\n",
        "\n",
        "There are no insights from this chart that lead to negative growth. However, if the hotels do not teke action on theses insights then they may miss out potential revenue and oportunities."
      ],
      "metadata": {
        "id": "zfJ8IqMcYoAp"
      }
    },
    {
      "cell_type": "markdown",
      "source": [
        "#### Chart - 4 - Bar chart for top 3 reserved room types for both hotels"
      ],
      "metadata": {
        "id": "4Of9eVA-YrdM"
      }
    },
    {
      "cell_type": "code",
      "source": [
        "# Chart - 4 visualization code\n",
        "for hotel in df[\"hotel\"].unique(): # Create a bar plot for each hotel\n",
        "    data = booking_types[booking_types[\"hotel\"] == hotel] # Setting the data to plot\n",
        "    ax = sns.barplot(x=\"reserved_room_type\", y=\"count\", data=data, palette=\"pastel\") # Creating the plot\n",
        "    ax.set_title(f\"Top 3 Reserved Room Types for {hotel}\") # setting title\n",
        "    ax.set_xlabel(\"Reserved Room Type\") # Setting x lable\n",
        "    ax.set_ylabel(\"Count\") # setting y label\n",
        "    plt.show()\n"
      ],
      "metadata": {
        "id": "irlUoxc8YrdO",
        "colab": {
          "base_uri": "https://localhost:8080/",
          "height": 573
        },
        "outputId": "d8154c1a-cf0a-4c6f-b140-0aceb360f96b"
      },
      "execution_count": 47,
      "outputs": [
        {
          "output_type": "display_data",
          "data": {
            "text/plain": [
              "<Figure size 432x288 with 1 Axes>"
            ],
            "image/png": "[encoded data removed]"
          },
          "metadata": {
            "needs_background": "light"
          }
        },
        {
          "output_type": "display_data",
          "data": {
            "text/plain": [
              "<Figure size 432x288 with 1 Axes>"
            ],
            "image/png": "[encoded data removed]"
          },
          "metadata": {
            "needs_background": "light"
          }
        }
      ]
    },
    {
      "cell_type": "markdown",
      "source": [
        "##### 1. Why did you pick the specific chart?"
      ],
      "metadata": {
        "id": "iky9q4vBYrdO"
      }
    },
    {
      "cell_type": "markdown",
      "source": [
        "\n",
        "I picked a bar plot to visualize the top 3 reserved room types because it allows us to compare the counts of different room types within each hotel. Bar plots are a commonly used visualization for comparing categorical data."
      ],
      "metadata": {
        "id": "aJRCwT6DYrdO"
      }
    },
    {
      "cell_type": "markdown",
      "source": [
        "##### 2. What is/are the insight(s) found from the chart?"
      ],
      "metadata": {
        "id": "F6T5p64dYrdO"
      }
    },
    {
      "cell_type": "markdown",
      "source": [
        "\n",
        "\n",
        "The insights found from the chart are:\n",
        "- For the City Hotel, the most reserved room type is type \"A\", followed by type \"D\" and \"E\".\n",
        "- For the Resort Hotel, the most reserved room type is type \"A\", followed by type \"D\" and \"F\".\n"
      ],
      "metadata": {
        "id": "Xx8WAJvtYrdO"
      }
    },
    {
      "cell_type": "markdown",
      "source": [
        "##### 3. Will the gained insights help creating a positive business impact? \n",
        "Are there any insights that lead to negative growth? Justify with specific reason."
      ],
      "metadata": {
        "id": "y-Ehk30pYrdP"
      }
    },
    {
      "cell_type": "markdown",
      "source": [
        "Yes,The insights gained from the chart can help in creating a positive business impact by understanding which room types are in high demand for each hotel. This can help the hotels to focus on the most popular room types.\n",
        "\n",
        "However, there ia a negartive impact if a particular room type is consistently in high demand and the hotel is not able to meet the demand due to limited inventory, it may lead to negative growth. This can result in guests choosing to stay in other hotels, which can lead to a loss of revenue for the hotel."
      ],
      "metadata": {
        "id": "jLNxxz7MYrdP"
      }
    },
    {
      "cell_type": "markdown",
      "source": [
        "#### Chart - 5 - Comparison of Average daily rate by hotel for both hotel"
      ],
      "metadata": {
        "id": "bamQiAODYuh1"
      }
    },
    {
      "cell_type": "code",
      "source": [
        "adr_by_hotel_type = df.groupby('hotel')['adr'].mean() # group the data by hotel type and calculate the mean ADR\n",
        "labels = adr_by_hotel_type.index\n",
        "values = adr_by_hotel_type.values\n",
        "plt.pie(values, labels=labels, explode=(0.1, 0),  shadow = True,autopct='%1.1f%%', startangle=90) # ploting the chart\n",
        "plt.title('Average Daily Rate by Hotel Type') # setting the title\n",
        "plt.show()\n"
      ],
      "metadata": {
        "id": "TIJwrbroYuh3",
        "colab": {
          "base_uri": "https://localhost:8080/",
          "height": 264
        },
        "outputId": "17674fed-f15b-43be-f8dd-a47c1c2790c1"
      },
      "execution_count": 48,
      "outputs": [
        {
          "output_type": "display_data",
          "data": {
            "text/plain": [
              "<Figure size 432x288 with 1 Axes>"
            ],
            "image/png": "[encoded data removed]"
          },
          "metadata": {}
        }
      ]
    },
    {
      "cell_type": "markdown",
      "source": [
        "##### 1. Why did you pick the specific chart?"
      ],
      "metadata": {
        "id": "QHF8YVU7Yuh3"
      }
    },
    {
      "cell_type": "markdown",
      "source": [
        "Pie charts are useful for showing the proportions or percentages of different categories in a dataset. In the context of the average daily rate for city hotels and resort hotels, a pie chart can be used to show the relative contribution of each hotel type to the total average daily rate."
      ],
      "metadata": {
        "id": "dcxuIMRPYuh3"
      }
    },
    {
      "cell_type": "markdown",
      "source": [
        "##### 2. What is/are the insight(s) found from the chart?"
      ],
      "metadata": {
        "id": "GwzvFGzlYuh3"
      }
    },
    {
      "cell_type": "markdown",
      "source": [
        "\n",
        "\n",
        "The insight found from this chart is that the city hotel has a lower average daily rate compared to the resort hotel."
      ],
      "metadata": {
        "id": "uyqkiB8YYuh3"
      }
    },
    {
      "cell_type": "markdown",
      "source": [
        "##### 3. Will the gained insights help creating a positive business impact? \n",
        "Are there any insights that lead to negative growth? Justify with specific reason."
      ],
      "metadata": {
        "id": "qYpmQ266Yuh3"
      }
    },
    {
      "cell_type": "markdown",
      "source": [
        "There are several positive impacts that can be made on the business. These include:\n",
        "\n",
        "- The busiest months for both hotels can be used to adjust pricing strategies and marketing efforts during the peak season to increase revenue.\n",
        "\n",
        "- The average daily rate (ADR) analysis can be used to adjust pricing strategies to maximize revenue.\n"
      ],
      "metadata": {
        "id": "_WtzZ_hCYuh4"
      }
    },
    {
      "cell_type": "markdown",
      "source": [
        "#### Chart - 6 -  Line chart for monthly average dialy rate per hotel type"
      ],
      "metadata": {
        "id": "OH-pJp9IphqM"
      }
    },
    {
      "cell_type": "code",
      "source": [
        "# Chart - 6 visualization code\n",
        "plt.figure(figsize=(10, 6)) # Setting the figure size\n",
        "sns.lineplot(x=\"arrival_date_month\", y=\"avg_daily_rate\", data=daily_rates[daily_rates[\"hotel\"] == \"Resort Hotel\"], label=\"Resort Hotel\") # Line plot for city hotel\n",
        "sns.lineplot(x=\"arrival_date_month\", y=\"avg_daily_rate\", data=daily_rates[daily_rates[\"hotel\"] == \"City Hotel\"], label=\"City Hotel\") # Line plot for resort hotel\n",
        "plt.title(\"Average Daily Rate by Month and Hotel Type\") # Title of the chart\n",
        "plt.xlabel(\"Month\") # setting x label\n",
        "plt.ylabel(\"Average Daily Rate\") # setting y label\n",
        "plt.legend() # Setting legend\n",
        "plt.show()\n"
      ],
      "metadata": {
        "id": "kuRf4wtuphqN",
        "colab": {
          "base_uri": "https://localhost:8080/",
          "height": 404
        },
        "outputId": "c38ecc1a-51c9-4e61-e24c-54c5e82d8b34"
      },
      "execution_count": 49,
      "outputs": [
        {
          "output_type": "display_data",
          "data": {
            "text/plain": [
              "<Figure size 720x432 with 1 Axes>"
            ],
            "image/png": "[encoded data removed]"
          },
          "metadata": {
            "needs_background": "light"
          }
        }
      ]
    },
    {
      "cell_type": "markdown",
      "source": [
        "##### 1. Why did you pick the specific chart?"
      ],
      "metadata": {
        "id": "bbFf2-_FphqN"
      }
    },
    {
      "cell_type": "markdown",
      "source": [
        "\n",
        "\n",
        "I picked a line plot because it allows us to visualize the trend of average daily rates over time for both hotel types. It also makes it easy to compare the trends of both hotel types in one plot."
      ],
      "metadata": {
        "id": "loh7H2nzphqN"
      }
    },
    {
      "cell_type": "markdown",
      "source": [
        "##### 2. What is/are the insight(s) found from the chart?"
      ],
      "metadata": {
        "id": "_ouA3fa0phqN"
      }
    },
    {
      "cell_type": "markdown",
      "source": [
        "The insights gained form the chart are:\n",
        "\n",
        "- The August month for both hotel has the maximum value of adr while the minimum is in the month of november.\n",
        "\n",
        "- The ADR for both hotel types follows a similar pattern of being highest during the summer months and lowest during the winter months"
      ],
      "metadata": {
        "id": "VECbqPI7phqN"
      }
    },
    {
      "cell_type": "markdown",
      "source": [
        "##### 3. Will the gained insights help creating a positive business impact? \n",
        "Are there any insights that lead to negative growth? Justify with specific reason."
      ],
      "metadata": {
        "id": "Seke61FWphqN"
      }
    },
    {
      "cell_type": "markdown",
      "source": [
        "\n",
        "\n",
        "Yes, the insights gained from the analysis can help hotel business in positive way:\n",
        "\n",
        "- Analyzing the average daily rates can help hotels understand their pricing competitiveness and adjust their pricing strategies to maximize revenue.\n"
      ],
      "metadata": {
        "id": "DW4_bGpfphqN"
      }
    },
    {
      "cell_type": "markdown",
      "source": [
        "#### Chart - 7 - Scatter plot for Average daily rate by lead time"
      ],
      "metadata": {
        "id": "PIIx-8_IphqN"
      }
    },
    {
      "cell_type": "code",
      "source": [
        "# Chart - 7 visualization code\n",
        "for hotel in df[\"hotel\"].unique(): # Creating a scatter plot for each hotel\n",
        "    data = rates_by_lead_time[rates_by_lead_time[\"hotel\"] == hotel] # Taking the date for each type of hotel in a loop\n",
        "    ax = sns.scatterplot(x=\"lead_time\", y=\"avg_daily_rate\", data=data, label=hotel) # Creating a scatterplot\n",
        "    ax.set_title(\"Average Daily Rates by Lead Time\") # setting the title\n",
        "    ax.set_xlabel(\"Lead Time (days)\") # setting x label\n",
        "    ax.set_ylabel(\"Average Daily Rate (EUR)\") # setting y label\n",
        "plt.legend() # setting legend for each type of hotel\n",
        "plt.show()"
      ],
      "metadata": {
        "id": "lqAIGUfyphqO",
        "colab": {
          "base_uri": "https://localhost:8080/",
          "height": 295
        },
        "outputId": "801d2a59-15bf-4f78-adbd-f27a7f452c02"
      },
      "execution_count": 50,
      "outputs": [
        {
          "output_type": "display_data",
          "data": {
            "text/plain": [
              "<Figure size 432x288 with 1 Axes>"
            ],
            "image/png": "[encoded data removed]"
          },
          "metadata": {
            "needs_background": "light"
          }
        }
      ]
    },
    {
      "cell_type": "markdown",
      "source": [
        "##### 1. Why did you pick the specific chart?"
      ],
      "metadata": {
        "id": "t27r6nlMphqO"
      }
    },
    {
      "cell_type": "markdown",
      "source": [
        "\n",
        "\n",
        "I chose the scatter plot above because a scatter plot is suitable for visualizing the relationship between two continuous variables. We want to see how the average daily rate (a continuous variable) changes as lead time (another continuous variable) increases, for each hotel. A scatter plot allows us to see individual data points and the overall trend."
      ],
      "metadata": {
        "id": "iv6ro40sphqO"
      }
    },
    {
      "cell_type": "markdown",
      "source": [
        "##### 2. What is/are the insight(s) found from the chart?"
      ],
      "metadata": {
        "id": "r2jJGEOYphqO"
      }
    },
    {
      "cell_type": "markdown",
      "source": [
        "\n",
        "\n",
        "The scatterplot shows that there is a negative correlation between lead time and average daily rate. As the lead time increases, the average daily rate decreases. Moreover, the plot shows that the city hotel generally has lower average daily rates than the resort hotel."
      ],
      "metadata": {
        "id": "Po6ZPi4hphqO"
      }
    },
    {
      "cell_type": "markdown",
      "source": [
        "##### 3. Will the gained insights help creating a positive business impact? \n",
        "Are there any insights that lead to negative growth? Justify with specific reason."
      ],
      "metadata": {
        "id": "b0JNsNcRphqO"
      }
    },
    {
      "cell_type": "markdown",
      "source": [
        "\n",
        "\n",
        "Yes, The insight gained from the scatter plot of average daily rates by lead time for each hotel can help the hotel management to understand how the average daily rates of the hotel rooms vary with respect to the lead time. It can help them to identify trends and patterns that can be used to make more informed pricing decisions. For example, if they observe that the average daily rates increase as the lead time increases, they can adjust the pricing strategy to offer lower rates for early bookings and higher rates for last-minute bookings to maximize revenue.\n"
      ],
      "metadata": {
        "id": "xvSq8iUTphqO"
      }
    },
    {
      "cell_type": "markdown",
      "source": [
        "#### Chart - 8 - Pie chart for the most preffered hotel"
      ],
      "metadata": {
        "id": "BZR9WyysphqO"
      }
    },
    {
      "cell_type": "code",
      "source": [
        "# Chart - 8 visualization code\n",
        "hotel_counts = df.groupby(\"hotel\")[\"hotel\"].count() # group data by hotel type and count the number of bookings for each type\n",
        "plt.pie(hotel_counts, labels=hotel_counts.index, shadow = True,explode = (0.1, 0), autopct=\"%1.1f%%\", startangle=90) # create a pie chart\n",
        "plt.title(\"Preferred Hotel Types\") # Setting the title\n",
        "plt.show()"
      ],
      "metadata": {
        "id": "TdPTWpAVphqO",
        "colab": {
          "base_uri": "https://localhost:8080/",
          "height": 264
        },
        "outputId": "c931c110-0a66-429a-ccbb-30d779f4de31"
      },
      "execution_count": 51,
      "outputs": [
        {
          "output_type": "display_data",
          "data": {
            "text/plain": [
              "<Figure size 432x288 with 1 Axes>"
            ],
            "image/png": "[encoded data removed]"
          },
          "metadata": {}
        }
      ]
    },
    {
      "cell_type": "markdown",
      "source": [
        "##### 1. Why did you pick the specific chart?"
      ],
      "metadata": {
        "id": "jj7wYXLtphqO"
      }
    },
    {
      "cell_type": "markdown",
      "source": [
        "\n",
        "I picked a pie chart for the preferred hotel percentage because it is a good way to visualize the percentage of each hotel type within the total bookings. A pie chart allows us to easily compare the relative sizes of the different categories and see which category is the largest or smallest. "
      ],
      "metadata": {
        "id": "Ob8u6rCTphqO"
      }
    },
    {
      "cell_type": "markdown",
      "source": [
        "##### 2. What is/are the insight(s) found from the chart?"
      ],
      "metadata": {
        "id": "eZrbJ2SmphqO"
      }
    },
    {
      "cell_type": "markdown",
      "source": [
        "\n",
        "\n",
        "As per the pie chart for the preferred hotel type, it is observed that about 61.1% of the bookings were made for city hotels while resort hotels accounted for the remaining 38.9%. This indicates that there is a higher demand for city hotels than resort hotels."
      ],
      "metadata": {
        "id": "mZtgC_hjphqO"
      }
    },
    {
      "cell_type": "markdown",
      "source": [
        "##### 3. Will the gained insights help creating a positive business impact? \n",
        "Are there any insights that lead to negative growth? Justify with specific reason."
      ],
      "metadata": {
        "id": "rFu4xreNphqO"
      }
    },
    {
      "cell_type": "markdown",
      "source": [
        "\n",
        "\n",
        "Yes, the insight gained from the pie chart of preferred hotel percentage can be useful for marketing and business strategy. If a particular hotel type is found to be preferred by a majority of customers, the hotel management can focus on enhancing the services provided by that hotel type to attract more customers and increase revenue.\n",
        "\n",
        "If a particular hotel type is found to be unpopular among customers, the hotel management may need to investigate the reasons behind it and make necessary changes to improve the services and amenities offered. "
      ],
      "metadata": {
        "id": "ey_0qi68phqO"
      }
    },
    {
      "cell_type": "markdown",
      "source": [
        "#### Chart - 9 - Pie chart for percentage of repeated guests"
      ],
      "metadata": {
        "id": "YJ55k-q6phqO"
      }
    },
    {
      "cell_type": "code",
      "source": [
        "# Chart - 9 visualization code\n",
        "guests = df[\"is_repeated_guest\"].value_counts() # counting the number of repeated guests\n",
        "repeated_percentage = (guests[1] / (guests[0] + guests[1])) * 100 # finding the repeated percentage\n",
        "labels = [\"Repeated Guests\", \"New Guests\"] # setting the labels\n",
        "x = [repeated_percentage, 100 - repeated_percentage] # setting the size of each part\n",
        "plt.pie(x, explode = (0.1, 0), labels=labels,autopct='%1.1f%%', shadow = True, startangle=90,) # creating the chart\n",
        "plt.title(\"Percentage of Repeated Guests\") # setting the title\n",
        "plt.show()\n"
      ],
      "metadata": {
        "id": "B2aS4O1ophqO",
        "colab": {
          "base_uri": "https://localhost:8080/",
          "height": 264
        },
        "outputId": "5c442874-b2b1-4428-cfa7-81334210c352"
      },
      "execution_count": 52,
      "outputs": [
        {
          "output_type": "display_data",
          "data": {
            "text/plain": [
              "<Figure size 432x288 with 1 Axes>"
            ],
            "image/png": "[encoded data removed]"
          },
          "metadata": {}
        }
      ]
    },
    {
      "cell_type": "markdown",
      "source": [
        "##### 1. Why did you pick the specific chart?"
      ],
      "metadata": {
        "id": "gCFgpxoyphqP"
      }
    },
    {
      "cell_type": "markdown",
      "source": [
        "\n",
        "\n",
        "A pie chart is a good option to visualize the percentage of repeated guests because it allows us to easily see the proportion of guests who are repeated versus new customers."
      ],
      "metadata": {
        "id": "TVxDimi2phqP"
      }
    },
    {
      "cell_type": "markdown",
      "source": [
        "##### 2. What is/are the insight(s) found from the chart?"
      ],
      "metadata": {
        "id": "OVtJsKN_phqQ"
      }
    },
    {
      "cell_type": "markdown",
      "source": [
        "\n",
        "\n",
        "The majority of guests in the dataset are new guests (around 96.1%)\n",
        "Only a small percentage of guests are repeated guests (around 3.9%)"
      ],
      "metadata": {
        "id": "ngGi97qjphqQ"
      }
    },
    {
      "cell_type": "markdown",
      "source": [
        "##### 3. Will the gained insights help creating a positive business impact? \n",
        "Are there any insights that lead to negative growth? Justify with specific reason."
      ],
      "metadata": {
        "id": "lssrdh5qphqQ"
      }
    },
    {
      "cell_type": "markdown",
      "source": [
        "\n",
        "\n",
        "This information can help create a positive business impact by allowing hotels to identify their loyal customers, which could increase customer retention and revenue. The hotelers could create programs for for the guests to visit again. \n",
        "\n",
        "There are insights that would lead to negative growth. There are very less number of repeated guests."
      ],
      "metadata": {
        "id": "tBpY5ekJphqQ"
      }
    },
    {
      "cell_type": "markdown",
      "source": [
        "#### Chart - 10 -  Box plot for distribution of room type and price per night"
      ],
      "metadata": {
        "id": "U2RJ9gkRphqQ"
      }
    },
    {
      "cell_type": "code",
      "source": [
        "# Chart - 10 visualization code\n",
        "# create box plot for room_type vs. price_per_night\n",
        "plt.figure(figsize=(12,6)) # setting the figure size\n",
        "ax = sns.boxplot(x=\"reserved_room_type\", y=\"adr\", hue=\"hotel\", data=df, showfliers=False) # plotting the chart\n",
        "ax.set_title('Room Type vs. Price per Night') # setting the title\n",
        "ax.set_xlabel('Room Type') # setting x label \n",
        "ax.set_ylabel('Price per Night') # setting y label\n",
        "plt.show()"
      ],
      "metadata": {
        "id": "GM7a4YP4phqQ",
        "colab": {
          "base_uri": "https://localhost:8080/",
          "height": 404
        },
        "outputId": "9f6611e1-f6da-47cb-fcbf-865fc5f04c08"
      },
      "execution_count": 53,
      "outputs": [
        {
          "output_type": "display_data",
          "data": {
            "text/plain": [
              "<Figure size 864x432 with 1 Axes>"
            ],
            "image/png": "[encoded data removed]"
          },
          "metadata": {
            "needs_background": "light"
          }
        }
      ]
    },
    {
      "cell_type": "markdown",
      "source": [
        "##### 1. Why did you pick the specific chart?"
      ],
      "metadata": {
        "id": "1M8mcRywphqQ"
      }
    },
    {
      "cell_type": "markdown",
      "source": [
        "Box plot for room type and price per night is useful for visualizing the distribution of price per night for each room type. It also helps us to determine any outlier persent. "
      ],
      "metadata": {
        "id": "8agQvks0phqQ"
      }
    },
    {
      "cell_type": "markdown",
      "source": [
        "##### 2. What is/are the insight(s) found from the chart?"
      ],
      "metadata": {
        "id": "tgIPom80phqQ"
      }
    },
    {
      "cell_type": "markdown",
      "source": [
        "The insights found are:\n",
        "- The most expensive room types are the G, and H types, with the highest median price per night. \n",
        "- The least expensive room types are the C and A types, with the lowest median price per night. \n",
        "- The price per night for city hotel rooms is generally lower than that for resort hotel rooms, except for the P type room which is more expensive in the city hotel."
      ],
      "metadata": {
        "id": "Qp13pnNzphqQ"
      }
    },
    {
      "cell_type": "markdown",
      "source": [
        "##### 3. Will the gained insights help creating a positive business impact? \n",
        "Are there any insights that lead to negative growth? Justify with specific reason."
      ],
      "metadata": {
        "id": "JMzcOPDDphqR"
      }
    },
    {
      "cell_type": "markdown",
      "source": [
        "Yes, the insights found from this analysis can help creating the positive business impact."
      ],
      "metadata": {
        "id": "R4Ka1PC2phqR"
      }
    },
    {
      "cell_type": "markdown",
      "source": [
        "#### Chart - 11 - The percentage of bookings cancelled and not cancelled"
      ],
      "metadata": {
        "id": "x-EpHcCOp1ci"
      }
    },
    {
      "cell_type": "code",
      "source": [
        "# Chart - 11 visualization code\n",
        "# This chart shows the percentage of bookings cancelled and not cancelled\n",
        "plt.figure(figsize =( 20,6)) # setting of figure size\n",
        "plt.pie(df['is_canceled'].value_counts(),explode=[0.05, 0.05], autopct='%1.1f%%', shadow=True) # creating the plot\n",
        "plt.title(\"Cancellation and non Cancellation\") # setting the title\n",
        "plt.show()"
      ],
      "metadata": {
        "id": "mAQTIvtqp1cj",
        "colab": {
          "base_uri": "https://localhost:8080/",
          "height": 373
        },
        "outputId": "46ffeaba-7d0e-4263-b5e0-bda0634a1410"
      },
      "execution_count": 54,
      "outputs": [
        {
          "output_type": "display_data",
          "data": {
            "text/plain": [
              "<Figure size 1440x432 with 1 Axes>"
            ],
            "image/png": "[encoded data removed]"
          },
          "metadata": {}
        }
      ]
    },
    {
      "cell_type": "markdown",
      "source": [
        "##### 1. Why did you pick the specific chart?"
      ],
      "metadata": {
        "id": "X_VqEhTip1ck"
      }
    },
    {
      "cell_type": "markdown",
      "source": [
        "I chose piechart because the pie chart is used to display the percentage breakdown of categorical data. In this case, the categorical variable is whether a booking was cancelled or not, and the pie chart displays the percentage of bookings that were cancelled versus the percentage that were not cancelled. "
      ],
      "metadata": {
        "id": "-vsMzt_np1ck"
      }
    },
    {
      "cell_type": "markdown",
      "source": [
        "##### 2. What is/are the insight(s) found from the chart?"
      ],
      "metadata": {
        "id": "8zGJKyg5p1ck"
      }
    },
    {
      "cell_type": "markdown",
      "source": [
        "The insights found from this pie chart are:\n",
        "\n",
        "- Around 37% of bookings in the dataset were cancelled, while the remaining 63% were not cancelled.\n"
      ],
      "metadata": {
        "id": "ZYdMsrqVp1ck"
      }
    },
    {
      "cell_type": "markdown",
      "source": [
        "##### 3. Will the gained insights help creating a positive business impact? \n",
        "Are there any insights that lead to negative growth? Justify with specific reason."
      ],
      "metadata": {
        "id": "PVzmfK_Ep1ck"
      }
    },
    {
      "cell_type": "markdown",
      "source": [
        "Understanding the percentage of cancellations can help hotels to prepare for potential revenue loss and adjust their operations accordingly.\n",
        "By analyzing the reasons for cancellation, hotels can identify areas of improvement to reduce cancellations and increase customer satisfaction."
      ],
      "metadata": {
        "id": "druuKYZpp1ck"
      }
    },
    {
      "cell_type": "markdown",
      "source": [
        "#### Chart - 12 - Pie chart for percentage distribution of customer type"
      ],
      "metadata": {
        "id": "n3dbpmDWp1ck"
      }
    },
    {
      "cell_type": "code",
      "source": [
        "# Chart - 12 visualization code\n",
        "plt.figure(figsize = (10,8)) # setting of figure size\n",
        "plt.pie(df['customer_type'].value_counts(),explode=[0.05]*4,shadow=True,autopct='%1.1f%%',labels=None) # plotting the chart\n",
        "labels=df['customer_type'].value_counts().index.tolist() # creating labels variable\n",
        "plt.title('Percentage Distribution of Customer Type') # setting of title\n",
        "plt.legend(labels=labels) # setting legend\n",
        "plt.show()"
      ],
      "metadata": {
        "id": "bwevp1tKp1ck",
        "colab": {
          "base_uri": "https://localhost:8080/",
          "height": 482
        },
        "outputId": "dc22e907-a766-4569-89ee-19bf22bfe25b"
      },
      "execution_count": 55,
      "outputs": [
        {
          "output_type": "display_data",
          "data": {
            "text/plain": [
              "<Figure size 720x576 with 1 Axes>"
            ],
            "image/png": "[encoded data removed]"
          },
          "metadata": {}
        }
      ]
    },
    {
      "cell_type": "markdown",
      "source": [
        "##### 1. Why did you pick the specific chart?"
      ],
      "metadata": {
        "id": "ylSl6qgtp1ck"
      }
    },
    {
      "cell_type": "markdown",
      "source": [
        "The pie chart is used to display the percentage breakdown of categorical data. In this case, the categorical variable is the type of customer (Transient, Transient-Party, Contract, or Group), and the pie chart displays the percentage of customers in each category."
      ],
      "metadata": {
        "id": "m2xqNkiQp1ck"
      }
    },
    {
      "cell_type": "markdown",
      "source": [
        "##### 2. What is/are the insight(s) found from the chart?"
      ],
      "metadata": {
        "id": "ZWILFDl5p1ck"
      }
    },
    {
      "cell_type": "markdown",
      "source": [
        "The insights gained form the chart are:\n",
        "- The majority of customers in the dataset are Transient customers, comprising 82.4% of the total customers.\n",
        "- Transient-Party customers account for 13.4% of the customers, followed by Contract customers at 3.6%, and Group customers at 0.6%.\n"
      ],
      "metadata": {
        "id": "x-lUsV2mp1ck"
      }
    },
    {
      "cell_type": "markdown",
      "source": [
        "##### 3. Will the gained insights help creating a positive business impact? \n",
        "Are there any insights that lead to negative growth? Justify with specific reason."
      ],
      "metadata": {
        "id": "M7G43BXep1ck"
      }
    },
    {
      "cell_type": "markdown",
      "source": [
        "The insights gained from this analysis can help create a positive business impact by enabling hotels to take actions that can improve their revenue of hotelers. By understanding the distribution of customer types and their behaviors and preferences, hotels can develop targeted marketing strategies, personalize their offerings, and improve their operations to better meet customer needs."
      ],
      "metadata": {
        "id": "5wwDJXsLp1cl"
      }
    },
    {
      "cell_type": "markdown",
      "source": [
        "#### Chart - 13 - Pie chart for the number of required car parking spaces for percentage of people"
      ],
      "metadata": {
        "id": "Ag9LCva-p1cl"
      }
    },
    {
      "cell_type": "code",
      "source": [
        "# Chart - 13 visualization code\n",
        "plt.figure(figsize=(12,8)) # setting of figure size\n",
        "plt.pie(df['required_car_parking_spaces'].value_counts(),explode=[0.05]*5, autopct='%1.1f%%') # creating the chart\n",
        "labels=df['required_car_parking_spaces'].value_counts().index # setting of labels\n",
        "plt.title('Percentage Distribution of required car parking spaces') # setting title\n",
        "plt.legend(labels=labels) # setting legend\n",
        "plt.show()"
      ],
      "metadata": {
        "id": "EUfxeq9-p1cl",
        "colab": {
          "base_uri": "https://localhost:8080/",
          "height": 482
        },
        "outputId": "95e0f1fc-c9c2-4483-f039-fe1c19a1a492"
      },
      "execution_count": 56,
      "outputs": [
        {
          "output_type": "display_data",
          "data": {
            "text/plain": [
              "<Figure size 864x576 with 1 Axes>"
            ],
            "image/png": "[encoded data removed]"
          },
          "metadata": {}
        }
      ]
    },
    {
      "cell_type": "markdown",
      "source": [
        "##### 1. Why did you pick the specific chart?"
      ],
      "metadata": {
        "id": "E6MkPsBcp1cl"
      }
    },
    {
      "cell_type": "markdown",
      "source": [
        "I chose the pie chart because the pie chart is useful to visualize the percentage distribution of the required car parking spaces. It can help in understanding the demand for car parking spaces in a hotel or any similar business."
      ],
      "metadata": {
        "id": "V22bRsFWp1cl"
      }
    },
    {
      "cell_type": "markdown",
      "source": [
        "##### 2. What is/are the insight(s) found from the chart?"
      ],
      "metadata": {
        "id": "2cELzS2fp1cl"
      }
    },
    {
      "cell_type": "markdown",
      "source": [
        "The insights found form this chart are:\n",
        "- Majority of the customers (91.1%) require either 0 or 1 car parking space, which indicates that most customers may not be traveling by car or may not require car parking facilities.\n",
        "- Only a small percentage of customers (8.3%) require 2 car parking spaces, which could indicate that they are traveling with larger groups or multiple vehicles.\n",
        "- The remaining percentage of customers (0.6%) require 3, 4, or 5 car parking spaces."
      ],
      "metadata": {
        "id": "ozQPc2_Ip1cl"
      }
    },
    {
      "cell_type": "markdown",
      "source": [
        "##### 3. Will the gained insights help creating a positive business impact? \n",
        "Are there any insights that lead to negative growth? Justify with specific reason."
      ],
      "metadata": {
        "id": "3MPXvC8up1cl"
      }
    },
    {
      "cell_type": "markdown",
      "source": [
        "The insights gained from this chart does not have a significant impact on creating a positive business impact. As the distribution of required car parking spaces may not directly affect hotel revenue. However, it could help hotels to identify the demand for car parking spaces and adjust their facilities and services accordingly."
      ],
      "metadata": {
        "id": "GL8l1tdLp1cl"
      }
    },
    {
      "cell_type": "markdown",
      "source": [
        "#### Chart - 14 - Correlation Heatmap"
      ],
      "metadata": {
        "id": "NC_X3p0fY2L0"
      }
    },
    {
      "cell_type": "code",
      "source": [
        "# Finding the correlation matrix\n",
        "# A correlation matrix is a table showing correlation coefficients between variables.\n",
        "# The correlation matrix is useful in identifying the strength and direction of the relationship between variables in a dataset.\n",
        "\n",
        "plt.figure(figsize=(20, 8)) # Set up the figure size\n",
        "sns.heatmap(df.corr(), annot=True, cmap=\"coolwarm\") # Plot the correlation matrix\n",
        "plt.show() # Shows the plot"
      ],
      "metadata": {
        "id": "xyC9zolEZNRQ",
        "colab": {
          "base_uri": "https://localhost:8080/",
          "height": 626
        },
        "outputId": "287f8275-26ec-4097-9bf6-05c21d763f76"
      },
      "execution_count": 57,
      "outputs": [
        {
          "output_type": "display_data",
          "data": {
            "text/plain": [
              "<Figure size 1440x576 with 2 Axes>"
            ],
            "image/png": "[encoded data removed]"
          },
          "metadata": {
            "needs_background": "light"
          }
        }
      ]
    },
    {
      "cell_type": "markdown",
      "source": [
        "##### 1. Why did you pick the specific chart?"
      ],
      "metadata": {
        "id": "UV0SzAkaZNRQ"
      }
    },
    {
      "cell_type": "markdown",
      "source": [
        "\n",
        "\n",
        "I chose to use a heatmap because the correlation matrix is a useful tool to identify relationships between variables in a dataset. The heatmap visualization allows us to quickly identify correlations that are positive or negative and to what degree."
      ],
      "metadata": {
        "id": "DVPuT8LYZNRQ"
      }
    },
    {
      "cell_type": "markdown",
      "source": [
        "##### 2. What is/are the insight(s) found from the chart?"
      ],
      "metadata": {
        "id": "YPEH6qLeZNRQ"
      }
    },
    {
      "cell_type": "markdown",
      "source": [
        "- There is a high positive correlation between the variables \"stays_in_week_nights\" and \"stays_in_weekend_nights\", which indicates that customers tend to stay for similar durations during the week and on weekends.\n",
        "- There is a moderate negative correlation between the variables \"lead_time\" and \"is_canceled\", which suggests that customers who book further in advance are less likely to cancel their reservation.\n",
        "- There is a moderate positive correlation between the variables \"adr\" and \"total_of_special_requests\", which indicates that customers who request more special services or amenities tend to pay a higher price for their room.\n",
        "- There is a moderate negative correlation between the variables \"is_canceled\" and \"arrival_date_year\", which suggests that cancellation rates have decreased over time."
      ],
      "metadata": {
        "id": "bfSqtnDqZNRR"
      }
    },
    {
      "cell_type": "markdown",
      "source": [
        "#### Chart - 15 - Pair Plot "
      ],
      "metadata": {
        "id": "q29F0dvdveiT"
      }
    },
    {
      "cell_type": "code",
      "source": [
        "# # Pair Plot visualization code\n",
        "# numerical_columns = ['lead_time', 'arrival_date_year', 'arrival_date_week_number', \n",
        "#                      'arrival_date_day_of_month', 'stays_in_weekend_nights', 'stays_in_week_nights',\n",
        "#                      'adults', 'children', 'babies', 'previous_cancellations', 'previous_bookings_not_canceled',\n",
        "#                      'booking_changes', 'agent', 'company', 'days_in_waiting_list', 'adr', 'required_car_parking_spaces',\n",
        "#                      'total_of_special_requests']\n",
        "\n",
        "# # Create the pair plot\n",
        "# sns.pairplot(data=df, vars=numerical_columns, hue='hotel')"
      ],
      "metadata": {
        "id": "o58-TEIhveiU"
      },
      "execution_count": 58,
      "outputs": []
    },
    {
      "cell_type": "markdown",
      "source": [
        "##### 1. Why did you pick the specific chart?"
      ],
      "metadata": {
        "id": "EXh0U9oCveiU"
      }
    },
    {
      "cell_type": "markdown",
      "source": [
        "Answer Here."
      ],
      "metadata": {
        "id": "eMmPjTByveiU"
      }
    },
    {
      "cell_type": "markdown",
      "source": [
        "##### 2. What is/are the insight(s) found from the chart?"
      ],
      "metadata": {
        "id": "22aHeOlLveiV"
      }
    },
    {
      "cell_type": "markdown",
      "source": [
        "Answer Here"
      ],
      "metadata": {
        "id": "uPQ8RGwHveiV"
      }
    },
    {
      "cell_type": "markdown",
      "source": [
        "## **5. Solution to Business Objective**"
      ],
      "metadata": {
        "id": "JcMwzZxoAimU"
      }
    },
    {
      "cell_type": "markdown",
      "source": [
        "#### What do you suggest the client to achieve Business Objective ? \n",
        "Explain Briefly."
      ],
      "metadata": {
        "id": "8G2x9gOozGDZ"
      }
    },
    {
      "cell_type": "markdown",
      "source": [
        "\n",
        "\n",
        "Based on the exploratory data analysis of hotel bookings, there are several suggestions that can be made to achieve business objectives. Here are some of them:\n",
        "\n",
        "- Understanding the peak booking seasons: The analysis shows that June, July, and August are the busiest months for hotel bookings. So, the hotel can increase its prices during these months, offer special packages and deals, and prepare accordingly to accommodate more guests during this time.\n",
        "\n",
        "- Analyzing the booking channels and market segments: The data shows that the majority of bookings are made through online travel agents and direct booking channels. The hotel can focus on improving its online presence and making it easy for customers to book directly from their website.  \n",
        "\n",
        "- Managing lead times: The analysis shows that longer lead times result in lower rates, and vice versa. The hotel can consider offering discounts for guests who book well in advance to incentivize early bookings, and also use less pricing to adjust rates based on demand.\n",
        "\n",
        "- Enhancing customer experience: The data suggests that guests who book a higher room type tend to give higher ratings. Hence, the hotel can consider upgrading guests to higher room types based on availability, and focus on delivering a high-quality experience to guests during their stay.\n",
        "\n",
        "- Retaining repeat customers: The analysis shows that repeat guests make up a very less portion of bookings. Hence, the hotel can consider implementing loyalty programs, offering discounts to repeat guests, and focusing on delivering a personalized experience to encourage repeat bookings."
      ],
      "metadata": {
        "id": "pASKb0qOza21"
      }
    },
    {
      "cell_type": "markdown",
      "source": [
        "# **Conclusion**"
      ],
      "metadata": {
        "id": "gCX9965dhzqZ"
      }
    },
    {
      "cell_type": "markdown",
      "source": [
        "\n",
        "\n",
        "Based on the exploratory data analysis (EDA) of hotel bookings, we can get several conclusions:\n",
        "\n",
        "- The majority of bookings are for city hotels.\n",
        "\n",
        "- The average daily rate (ADR) for city hotels is lower than that of resort hotels.\n",
        "\n",
        "- Bookings are more likely to be cancelled for city hotels compared to resort hotels.\n",
        "\n",
        "- Bookings are more in the summer months (June to August), and are less in the winter months (December to February).\n",
        "\n",
        "- Guests who book through online travel agencies (OTAs) tend to book stays with lower ADR compared to those who book directly with the hotel or through other channels.\n",
        "\n",
        "- The time between booking and arrival, has a significant impact on the ADR. Bookings made further in advance tend to have a lower ADR compared to bookings made closer to the arrival date."
      ],
      "metadata": {
        "id": "Fjb1IsQkh3yE"
      }
    },
    {
      "cell_type": "markdown",
      "source": [
        "### ***Hurrah! You have successfully completed your EDA Capstone Project !!!***"
      ],
      "metadata": {
        "id": "gIfDvo9L0UH2"
      }
    }
  ]
}